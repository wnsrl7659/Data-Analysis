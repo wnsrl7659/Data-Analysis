{
 "cells": [
  {
   "cell_type": "markdown",
   "metadata": {},
   "source": [
    "#### References:\n",
    "    www.python.org\n",
    "    www.numpy.org\n",
    "    www.matplotlib.org\n",
    "    https://pandas.pydata.org"
   ]
  },
  {
   "cell_type": "markdown",
   "metadata": {},
   "source": [
    "#### Questions/feedback: petert@digipen.edu"
   ]
  },
  {
   "cell_type": "markdown",
   "metadata": {},
   "source": [
    "# Data Cleaning\n",
    "\n",
    "* **Missing Data**\n",
    "    - Add\n",
    "    - Fill\n",
    "    - Drop\n",
    "* **Data Transformations**\n",
    "    - Remove duplicates\n",
    "    - Replace values\n",
    "    - Discretize and bin\n",
    "    - Detect outliers"
   ]
  },
  {
   "cell_type": "markdown",
   "metadata": {},
   "source": [
    "## Missing Data\n",
    "Rectangular data has rows (observations) and columns (features). Ideally all observations has all values from all features.\n",
    "### What is missing data? It can be\n",
    "- specific value(s)\n",
    "- feature(s)\n",
    "- observation(s)\n",
    "- feature names/labels\n",
    "- index names\n",
    "- etc.\n",
    "\n",
    "### What can cause to have missing data?\n",
    "- physical loss\n",
    "- data collection defect\n",
    "- network outage\n",
    "- data comes too fast, cannot record all at once\n",
    "\n",
    "### Representation of missing numerical data:\n",
    "- NaN (Not a Number)\n",
    "- type(NaN) is float\n",
    "- NaN can be specified\n",
    "\n",
    "#### Example:"
   ]
  },
  {
   "cell_type": "code",
   "execution_count": 1,
   "metadata": {},
   "outputs": [],
   "source": [
    "import pandas as pd\n",
    "import numpy as np\n",
    "from matplotlib import pyplot as plt\n",
    "%matplotlib inline"
   ]
  },
  {
   "cell_type": "code",
   "execution_count": 2,
   "metadata": {},
   "outputs": [
    {
     "data": {
      "text/html": [
       "<div>\n",
       "<style scoped>\n",
       "    .dataframe tbody tr th:only-of-type {\n",
       "        vertical-align: middle;\n",
       "    }\n",
       "\n",
       "    .dataframe tbody tr th {\n",
       "        vertical-align: top;\n",
       "    }\n",
       "\n",
       "    .dataframe thead th {\n",
       "        text-align: right;\n",
       "    }\n",
       "</style>\n",
       "<table border=\"1\" class=\"dataframe\">\n",
       "  <thead>\n",
       "    <tr style=\"text-align: right;\">\n",
       "      <th></th>\n",
       "      <th>A</th>\n",
       "      <th>B</th>\n",
       "      <th>C</th>\n",
       "      <th>D</th>\n",
       "    </tr>\n",
       "  </thead>\n",
       "  <tbody>\n",
       "    <tr>\n",
       "      <th>first</th>\n",
       "      <td>0</td>\n",
       "      <td>2</td>\n",
       "      <td>NaN</td>\n",
       "      <td>4.0</td>\n",
       "    </tr>\n",
       "    <tr>\n",
       "      <th>second</th>\n",
       "      <td>2</td>\n",
       "      <td>1</td>\n",
       "      <td>3.0</td>\n",
       "      <td>NaN</td>\n",
       "    </tr>\n",
       "    <tr>\n",
       "      <th>third</th>\n",
       "      <td>4</td>\n",
       "      <td>2</td>\n",
       "      <td>NaN</td>\n",
       "      <td>1.0</td>\n",
       "    </tr>\n",
       "    <tr>\n",
       "      <th>fourth</th>\n",
       "      <td>4</td>\n",
       "      <td>2</td>\n",
       "      <td>3.0</td>\n",
       "      <td>1.0</td>\n",
       "    </tr>\n",
       "  </tbody>\n",
       "</table>\n",
       "</div>"
      ],
      "text/plain": [
       "        A  B    C    D\n",
       "first   0  2  NaN  4.0\n",
       "second  2  1  3.0  NaN\n",
       "third   4  2  NaN  1.0\n",
       "fourth  4  2  3.0  1.0"
      ]
     },
     "execution_count": 2,
     "metadata": {},
     "output_type": "execute_result"
    }
   ],
   "source": [
    "df = pd.DataFrame([[0, 2, np.nan, 4], \n",
    "                   [2, 1, 3, np.nan], \n",
    "                   [4, 2, np.nan, 1], \n",
    "                   [4, 2, 3, 1]])\n",
    "df.columns = ['A', 'B', 'C', 'D']\n",
    "df.index = ['first', 'second', 'third', 'fourth']\n",
    "df"
   ]
  },
  {
   "cell_type": "markdown",
   "metadata": {},
   "source": [
    "### Statistics and missing numerical data:\n",
    "- .describe() method disregards missing data and calculates basic statistics\n",
    "- .info() method lists the RangeIndex and the number of non nulls per feature\n",
    "- .isna() and .isnull() methods can be used to query NaNs\n",
    "\n",
    "#### Examples"
   ]
  },
  {
   "cell_type": "code",
   "execution_count": 3,
   "metadata": {},
   "outputs": [
    {
     "name": "stdout",
     "output_type": "stream",
     "text": [
      "        A  B    C    D\n",
      "first   0  2  NaN  4.0\n",
      "second  2  1  3.0  NaN\n",
      "third   4  2  NaN  1.0\n",
      "fourth  4  2  3.0  1.0\n"
     ]
    }
   ],
   "source": [
    "print(df)"
   ]
  },
  {
   "cell_type": "code",
   "execution_count": 4,
   "metadata": {},
   "outputs": [
    {
     "data": {
      "text/html": [
       "<div>\n",
       "<style scoped>\n",
       "    .dataframe tbody tr th:only-of-type {\n",
       "        vertical-align: middle;\n",
       "    }\n",
       "\n",
       "    .dataframe tbody tr th {\n",
       "        vertical-align: top;\n",
       "    }\n",
       "\n",
       "    .dataframe thead th {\n",
       "        text-align: right;\n",
       "    }\n",
       "</style>\n",
       "<table border=\"1\" class=\"dataframe\">\n",
       "  <thead>\n",
       "    <tr style=\"text-align: right;\">\n",
       "      <th></th>\n",
       "      <th>A</th>\n",
       "      <th>B</th>\n",
       "      <th>C</th>\n",
       "      <th>D</th>\n",
       "    </tr>\n",
       "  </thead>\n",
       "  <tbody>\n",
       "    <tr>\n",
       "      <th>count</th>\n",
       "      <td>4.000000</td>\n",
       "      <td>4.00</td>\n",
       "      <td>2.0</td>\n",
       "      <td>3.000000</td>\n",
       "    </tr>\n",
       "    <tr>\n",
       "      <th>mean</th>\n",
       "      <td>2.500000</td>\n",
       "      <td>1.75</td>\n",
       "      <td>3.0</td>\n",
       "      <td>2.000000</td>\n",
       "    </tr>\n",
       "    <tr>\n",
       "      <th>std</th>\n",
       "      <td>1.914854</td>\n",
       "      <td>0.50</td>\n",
       "      <td>0.0</td>\n",
       "      <td>1.732051</td>\n",
       "    </tr>\n",
       "    <tr>\n",
       "      <th>min</th>\n",
       "      <td>0.000000</td>\n",
       "      <td>1.00</td>\n",
       "      <td>3.0</td>\n",
       "      <td>1.000000</td>\n",
       "    </tr>\n",
       "    <tr>\n",
       "      <th>25%</th>\n",
       "      <td>1.500000</td>\n",
       "      <td>1.75</td>\n",
       "      <td>3.0</td>\n",
       "      <td>1.000000</td>\n",
       "    </tr>\n",
       "    <tr>\n",
       "      <th>50%</th>\n",
       "      <td>3.000000</td>\n",
       "      <td>2.00</td>\n",
       "      <td>3.0</td>\n",
       "      <td>1.000000</td>\n",
       "    </tr>\n",
       "    <tr>\n",
       "      <th>75%</th>\n",
       "      <td>4.000000</td>\n",
       "      <td>2.00</td>\n",
       "      <td>3.0</td>\n",
       "      <td>2.500000</td>\n",
       "    </tr>\n",
       "    <tr>\n",
       "      <th>max</th>\n",
       "      <td>4.000000</td>\n",
       "      <td>2.00</td>\n",
       "      <td>3.0</td>\n",
       "      <td>4.000000</td>\n",
       "    </tr>\n",
       "  </tbody>\n",
       "</table>\n",
       "</div>"
      ],
      "text/plain": [
       "              A     B    C         D\n",
       "count  4.000000  4.00  2.0  3.000000\n",
       "mean   2.500000  1.75  3.0  2.000000\n",
       "std    1.914854  0.50  0.0  1.732051\n",
       "min    0.000000  1.00  3.0  1.000000\n",
       "25%    1.500000  1.75  3.0  1.000000\n",
       "50%    3.000000  2.00  3.0  1.000000\n",
       "75%    4.000000  2.00  3.0  2.500000\n",
       "max    4.000000  2.00  3.0  4.000000"
      ]
     },
     "execution_count": 4,
     "metadata": {},
     "output_type": "execute_result"
    }
   ],
   "source": [
    "df.describe()"
   ]
  },
  {
   "cell_type": "code",
   "execution_count": 5,
   "metadata": {},
   "outputs": [
    {
     "name": "stdout",
     "output_type": "stream",
     "text": [
      "<class 'pandas.core.frame.DataFrame'>\n",
      "Index: 4 entries, first to fourth\n",
      "Data columns (total 4 columns):\n",
      " #   Column  Non-Null Count  Dtype  \n",
      "---  ------  --------------  -----  \n",
      " 0   A       4 non-null      int64  \n",
      " 1   B       4 non-null      int64  \n",
      " 2   C       2 non-null      float64\n",
      " 3   D       3 non-null      float64\n",
      "dtypes: float64(2), int64(2)\n",
      "memory usage: 160.0+ bytes\n"
     ]
    }
   ],
   "source": [
    "df.info()"
   ]
  },
  {
   "cell_type": "code",
   "execution_count": 6,
   "metadata": {},
   "outputs": [
    {
     "data": {
      "text/html": [
       "<div>\n",
       "<style scoped>\n",
       "    .dataframe tbody tr th:only-of-type {\n",
       "        vertical-align: middle;\n",
       "    }\n",
       "\n",
       "    .dataframe tbody tr th {\n",
       "        vertical-align: top;\n",
       "    }\n",
       "\n",
       "    .dataframe thead th {\n",
       "        text-align: right;\n",
       "    }\n",
       "</style>\n",
       "<table border=\"1\" class=\"dataframe\">\n",
       "  <thead>\n",
       "    <tr style=\"text-align: right;\">\n",
       "      <th></th>\n",
       "      <th>A</th>\n",
       "      <th>B</th>\n",
       "      <th>C</th>\n",
       "      <th>D</th>\n",
       "    </tr>\n",
       "  </thead>\n",
       "  <tbody>\n",
       "    <tr>\n",
       "      <th>first</th>\n",
       "      <td>0</td>\n",
       "      <td>2</td>\n",
       "      <td>NaN</td>\n",
       "      <td>4.0</td>\n",
       "    </tr>\n",
       "    <tr>\n",
       "      <th>second</th>\n",
       "      <td>2</td>\n",
       "      <td>1</td>\n",
       "      <td>3.0</td>\n",
       "      <td>NaN</td>\n",
       "    </tr>\n",
       "    <tr>\n",
       "      <th>third</th>\n",
       "      <td>4</td>\n",
       "      <td>2</td>\n",
       "      <td>NaN</td>\n",
       "      <td>1.0</td>\n",
       "    </tr>\n",
       "    <tr>\n",
       "      <th>fourth</th>\n",
       "      <td>4</td>\n",
       "      <td>2</td>\n",
       "      <td>3.0</td>\n",
       "      <td>1.0</td>\n",
       "    </tr>\n",
       "  </tbody>\n",
       "</table>\n",
       "</div>"
      ],
      "text/plain": [
       "        A  B    C    D\n",
       "first   0  2  NaN  4.0\n",
       "second  2  1  3.0  NaN\n",
       "third   4  2  NaN  1.0\n",
       "fourth  4  2  3.0  1.0"
      ]
     },
     "execution_count": 6,
     "metadata": {},
     "output_type": "execute_result"
    }
   ],
   "source": [
    "df"
   ]
  },
  {
   "cell_type": "code",
   "execution_count": 7,
   "metadata": {},
   "outputs": [
    {
     "data": {
      "text/html": [
       "<div>\n",
       "<style scoped>\n",
       "    .dataframe tbody tr th:only-of-type {\n",
       "        vertical-align: middle;\n",
       "    }\n",
       "\n",
       "    .dataframe tbody tr th {\n",
       "        vertical-align: top;\n",
       "    }\n",
       "\n",
       "    .dataframe thead th {\n",
       "        text-align: right;\n",
       "    }\n",
       "</style>\n",
       "<table border=\"1\" class=\"dataframe\">\n",
       "  <thead>\n",
       "    <tr style=\"text-align: right;\">\n",
       "      <th></th>\n",
       "      <th>A</th>\n",
       "      <th>B</th>\n",
       "      <th>C</th>\n",
       "      <th>D</th>\n",
       "    </tr>\n",
       "  </thead>\n",
       "  <tbody>\n",
       "    <tr>\n",
       "      <th>first</th>\n",
       "      <td>False</td>\n",
       "      <td>False</td>\n",
       "      <td>True</td>\n",
       "      <td>False</td>\n",
       "    </tr>\n",
       "    <tr>\n",
       "      <th>second</th>\n",
       "      <td>False</td>\n",
       "      <td>False</td>\n",
       "      <td>False</td>\n",
       "      <td>True</td>\n",
       "    </tr>\n",
       "    <tr>\n",
       "      <th>third</th>\n",
       "      <td>False</td>\n",
       "      <td>False</td>\n",
       "      <td>True</td>\n",
       "      <td>False</td>\n",
       "    </tr>\n",
       "    <tr>\n",
       "      <th>fourth</th>\n",
       "      <td>False</td>\n",
       "      <td>False</td>\n",
       "      <td>False</td>\n",
       "      <td>False</td>\n",
       "    </tr>\n",
       "  </tbody>\n",
       "</table>\n",
       "</div>"
      ],
      "text/plain": [
       "            A      B      C      D\n",
       "first   False  False   True  False\n",
       "second  False  False  False   True\n",
       "third   False  False   True  False\n",
       "fourth  False  False  False  False"
      ]
     },
     "execution_count": 7,
     "metadata": {},
     "output_type": "execute_result"
    }
   ],
   "source": [
    "df.isna()"
   ]
  },
  {
   "cell_type": "code",
   "execution_count": 8,
   "metadata": {},
   "outputs": [
    {
     "data": {
      "text/html": [
       "<div>\n",
       "<style scoped>\n",
       "    .dataframe tbody tr th:only-of-type {\n",
       "        vertical-align: middle;\n",
       "    }\n",
       "\n",
       "    .dataframe tbody tr th {\n",
       "        vertical-align: top;\n",
       "    }\n",
       "\n",
       "    .dataframe thead th {\n",
       "        text-align: right;\n",
       "    }\n",
       "</style>\n",
       "<table border=\"1\" class=\"dataframe\">\n",
       "  <thead>\n",
       "    <tr style=\"text-align: right;\">\n",
       "      <th></th>\n",
       "      <th>A</th>\n",
       "      <th>B</th>\n",
       "      <th>C</th>\n",
       "      <th>D</th>\n",
       "    </tr>\n",
       "  </thead>\n",
       "  <tbody>\n",
       "    <tr>\n",
       "      <th>first</th>\n",
       "      <td>False</td>\n",
       "      <td>False</td>\n",
       "      <td>True</td>\n",
       "      <td>False</td>\n",
       "    </tr>\n",
       "    <tr>\n",
       "      <th>second</th>\n",
       "      <td>False</td>\n",
       "      <td>False</td>\n",
       "      <td>False</td>\n",
       "      <td>True</td>\n",
       "    </tr>\n",
       "    <tr>\n",
       "      <th>third</th>\n",
       "      <td>False</td>\n",
       "      <td>False</td>\n",
       "      <td>True</td>\n",
       "      <td>False</td>\n",
       "    </tr>\n",
       "    <tr>\n",
       "      <th>fourth</th>\n",
       "      <td>False</td>\n",
       "      <td>False</td>\n",
       "      <td>False</td>\n",
       "      <td>False</td>\n",
       "    </tr>\n",
       "  </tbody>\n",
       "</table>\n",
       "</div>"
      ],
      "text/plain": [
       "            A      B      C      D\n",
       "first   False  False   True  False\n",
       "second  False  False  False   True\n",
       "third   False  False   True  False\n",
       "fourth  False  False  False  False"
      ]
     },
     "execution_count": 8,
     "metadata": {},
     "output_type": "execute_result"
    }
   ],
   "source": [
    "df.isnull()"
   ]
  },
  {
   "cell_type": "markdown",
   "metadata": {},
   "source": [
    "Note that .isnull() and .isna() are the very same in Pandas:\n",
    "* pandas.DataFrame.isna()\n",
    "* pandas.DataFrame.isnull()\n",
    "\n",
    "There is .isnan in Numpy which is different:"
   ]
  },
  {
   "cell_type": "code",
   "execution_count": 9,
   "metadata": {},
   "outputs": [
    {
     "name": "stdout",
     "output_type": "stream",
     "text": [
      "42 \tdenotes missing data: False\n",
      "NaN \tdenotes missing data: True\n"
     ]
    }
   ],
   "source": [
    "print(42,    \"\\tdenotes missing data:\", np.isnan(42))\n",
    "print(\"NaN\", \"\\tdenotes missing data:\", np.isnan(np.nan))"
   ]
  },
  {
   "cell_type": "markdown",
   "metadata": {},
   "source": [
    "\"Adding\" missing data (*NaN*s) in dataframes:"
   ]
  },
  {
   "cell_type": "code",
   "execution_count": 10,
   "metadata": {},
   "outputs": [
    {
     "data": {
      "text/html": [
       "<div>\n",
       "<style scoped>\n",
       "    .dataframe tbody tr th:only-of-type {\n",
       "        vertical-align: middle;\n",
       "    }\n",
       "\n",
       "    .dataframe tbody tr th {\n",
       "        vertical-align: top;\n",
       "    }\n",
       "\n",
       "    .dataframe thead th {\n",
       "        text-align: right;\n",
       "    }\n",
       "</style>\n",
       "<table border=\"1\" class=\"dataframe\">\n",
       "  <thead>\n",
       "    <tr style=\"text-align: right;\">\n",
       "      <th></th>\n",
       "      <th>0</th>\n",
       "      <th>1</th>\n",
       "      <th>2</th>\n",
       "      <th>3</th>\n",
       "      <th>4</th>\n",
       "      <th>5</th>\n",
       "    </tr>\n",
       "  </thead>\n",
       "  <tbody>\n",
       "    <tr>\n",
       "      <th>0</th>\n",
       "      <td>7.819568e-312</td>\n",
       "      <td>7.460391e-322</td>\n",
       "      <td>0.000000e+00</td>\n",
       "      <td>0.000000e+00</td>\n",
       "      <td>7.565876e-307</td>\n",
       "      <td>1.160955e-28</td>\n",
       "    </tr>\n",
       "    <tr>\n",
       "      <th>1</th>\n",
       "      <td>1.947938e-57</td>\n",
       "      <td>3.603812e-143</td>\n",
       "      <td>7.201249e+252</td>\n",
       "      <td>9.305404e+199</td>\n",
       "      <td>1.762465e-27</td>\n",
       "      <td>4.550720e+198</td>\n",
       "    </tr>\n",
       "    <tr>\n",
       "      <th>2</th>\n",
       "      <td>3.027766e-110</td>\n",
       "      <td>6.967708e+252</td>\n",
       "      <td>3.626964e-143</td>\n",
       "      <td>8.057344e+175</td>\n",
       "      <td>4.536835e+217</td>\n",
       "      <td>2.028607e+174</td>\n",
       "    </tr>\n",
       "    <tr>\n",
       "      <th>3</th>\n",
       "      <td>1.049173e-153</td>\n",
       "      <td>5.040809e+223</td>\n",
       "      <td>4.042479e-109</td>\n",
       "      <td>6.482246e+170</td>\n",
       "      <td>3.671459e+228</td>\n",
       "      <td>2.600982e-306</td>\n",
       "    </tr>\n",
       "  </tbody>\n",
       "</table>\n",
       "</div>"
      ],
      "text/plain": [
       "               0              1              2              3              4  \\\n",
       "0  7.819568e-312  7.460391e-322   0.000000e+00   0.000000e+00  7.565876e-307   \n",
       "1   1.947938e-57  3.603812e-143  7.201249e+252  9.305404e+199   1.762465e-27   \n",
       "2  3.027766e-110  6.967708e+252  3.626964e-143  8.057344e+175  4.536835e+217   \n",
       "3  1.049173e-153  5.040809e+223  4.042479e-109  6.482246e+170  3.671459e+228   \n",
       "\n",
       "               5  \n",
       "0   1.160955e-28  \n",
       "1  4.550720e+198  \n",
       "2  2.028607e+174  \n",
       "3  2.600982e-306  "
      ]
     },
     "execution_count": 10,
     "metadata": {},
     "output_type": "execute_result"
    }
   ],
   "source": [
    "# first create an empty dataframe:\n",
    "df = pd.DataFrame(np.empty(24).reshape(4,6))\n",
    "df"
   ]
  },
  {
   "cell_type": "code",
   "execution_count": 11,
   "metadata": {},
   "outputs": [
    {
     "data": {
      "text/html": [
       "<div>\n",
       "<style scoped>\n",
       "    .dataframe tbody tr th:only-of-type {\n",
       "        vertical-align: middle;\n",
       "    }\n",
       "\n",
       "    .dataframe tbody tr th {\n",
       "        vertical-align: top;\n",
       "    }\n",
       "\n",
       "    .dataframe thead th {\n",
       "        text-align: right;\n",
       "    }\n",
       "</style>\n",
       "<table border=\"1\" class=\"dataframe\">\n",
       "  <thead>\n",
       "    <tr style=\"text-align: right;\">\n",
       "      <th></th>\n",
       "      <th>0</th>\n",
       "      <th>1</th>\n",
       "      <th>2</th>\n",
       "      <th>3</th>\n",
       "      <th>4</th>\n",
       "      <th>5</th>\n",
       "    </tr>\n",
       "  </thead>\n",
       "  <tbody>\n",
       "    <tr>\n",
       "      <th>0</th>\n",
       "      <td>NaN</td>\n",
       "      <td>NaN</td>\n",
       "      <td>NaN</td>\n",
       "      <td>NaN</td>\n",
       "      <td>NaN</td>\n",
       "      <td>NaN</td>\n",
       "    </tr>\n",
       "    <tr>\n",
       "      <th>1</th>\n",
       "      <td>NaN</td>\n",
       "      <td>NaN</td>\n",
       "      <td>NaN</td>\n",
       "      <td>NaN</td>\n",
       "      <td>NaN</td>\n",
       "      <td>NaN</td>\n",
       "    </tr>\n",
       "    <tr>\n",
       "      <th>2</th>\n",
       "      <td>NaN</td>\n",
       "      <td>NaN</td>\n",
       "      <td>NaN</td>\n",
       "      <td>NaN</td>\n",
       "      <td>NaN</td>\n",
       "      <td>NaN</td>\n",
       "    </tr>\n",
       "    <tr>\n",
       "      <th>3</th>\n",
       "      <td>NaN</td>\n",
       "      <td>NaN</td>\n",
       "      <td>NaN</td>\n",
       "      <td>NaN</td>\n",
       "      <td>NaN</td>\n",
       "      <td>NaN</td>\n",
       "    </tr>\n",
       "  </tbody>\n",
       "</table>\n",
       "</div>"
      ],
      "text/plain": [
       "    0   1   2   3   4   5\n",
       "0 NaN NaN NaN NaN NaN NaN\n",
       "1 NaN NaN NaN NaN NaN NaN\n",
       "2 NaN NaN NaN NaN NaN NaN\n",
       "3 NaN NaN NaN NaN NaN NaN"
      ]
     },
     "execution_count": 11,
     "metadata": {},
     "output_type": "execute_result"
    }
   ],
   "source": [
    "df[:] = np.nan\n",
    "df"
   ]
  },
  {
   "cell_type": "code",
   "execution_count": 12,
   "metadata": {},
   "outputs": [
    {
     "data": {
      "text/html": [
       "<div>\n",
       "<style scoped>\n",
       "    .dataframe tbody tr th:only-of-type {\n",
       "        vertical-align: middle;\n",
       "    }\n",
       "\n",
       "    .dataframe tbody tr th {\n",
       "        vertical-align: top;\n",
       "    }\n",
       "\n",
       "    .dataframe thead th {\n",
       "        text-align: right;\n",
       "    }\n",
       "</style>\n",
       "<table border=\"1\" class=\"dataframe\">\n",
       "  <thead>\n",
       "    <tr style=\"text-align: right;\">\n",
       "      <th></th>\n",
       "      <th>0</th>\n",
       "      <th>1</th>\n",
       "      <th>2</th>\n",
       "      <th>3</th>\n",
       "    </tr>\n",
       "  </thead>\n",
       "  <tbody>\n",
       "    <tr>\n",
       "      <th>0</th>\n",
       "      <td>NaN</td>\n",
       "      <td>NaN</td>\n",
       "      <td>NaN</td>\n",
       "      <td>NaN</td>\n",
       "    </tr>\n",
       "    <tr>\n",
       "      <th>1</th>\n",
       "      <td>NaN</td>\n",
       "      <td>NaN</td>\n",
       "      <td>NaN</td>\n",
       "      <td>NaN</td>\n",
       "    </tr>\n",
       "    <tr>\n",
       "      <th>2</th>\n",
       "      <td>NaN</td>\n",
       "      <td>NaN</td>\n",
       "      <td>NaN</td>\n",
       "      <td>NaN</td>\n",
       "    </tr>\n",
       "  </tbody>\n",
       "</table>\n",
       "</div>"
      ],
      "text/plain": [
       "    0   1   2   3\n",
       "0 NaN NaN NaN NaN\n",
       "1 NaN NaN NaN NaN\n",
       "2 NaN NaN NaN NaN"
      ]
     },
     "execution_count": 12,
     "metadata": {},
     "output_type": "execute_result"
    }
   ],
   "source": [
    "# another way to first create an all zeros dataframe\n",
    "df = pd.DataFrame(np.zeros(shape=(3,4)))\n",
    "# set all values to NaN the same way but specifying iloc \n",
    "df.iloc[:] = np.nan\n",
    "df"
   ]
  },
  {
   "cell_type": "markdown",
   "metadata": {},
   "source": [
    "... and another way:"
   ]
  },
  {
   "cell_type": "code",
   "execution_count": 13,
   "metadata": {},
   "outputs": [
    {
     "data": {
      "text/html": [
       "<div>\n",
       "<style scoped>\n",
       "    .dataframe tbody tr th:only-of-type {\n",
       "        vertical-align: middle;\n",
       "    }\n",
       "\n",
       "    .dataframe tbody tr th {\n",
       "        vertical-align: top;\n",
       "    }\n",
       "\n",
       "    .dataframe thead th {\n",
       "        text-align: right;\n",
       "    }\n",
       "</style>\n",
       "<table border=\"1\" class=\"dataframe\">\n",
       "  <thead>\n",
       "    <tr style=\"text-align: right;\">\n",
       "      <th></th>\n",
       "      <th>0</th>\n",
       "      <th>1</th>\n",
       "      <th>2</th>\n",
       "      <th>3</th>\n",
       "      <th>4</th>\n",
       "    </tr>\n",
       "  </thead>\n",
       "  <tbody>\n",
       "    <tr>\n",
       "      <th>0</th>\n",
       "      <td>NaN</td>\n",
       "      <td>NaN</td>\n",
       "      <td>NaN</td>\n",
       "      <td>NaN</td>\n",
       "      <td>NaN</td>\n",
       "    </tr>\n",
       "    <tr>\n",
       "      <th>1</th>\n",
       "      <td>NaN</td>\n",
       "      <td>NaN</td>\n",
       "      <td>NaN</td>\n",
       "      <td>NaN</td>\n",
       "      <td>NaN</td>\n",
       "    </tr>\n",
       "    <tr>\n",
       "      <th>2</th>\n",
       "      <td>NaN</td>\n",
       "      <td>NaN</td>\n",
       "      <td>NaN</td>\n",
       "      <td>NaN</td>\n",
       "      <td>NaN</td>\n",
       "    </tr>\n",
       "  </tbody>\n",
       "</table>\n",
       "</div>"
      ],
      "text/plain": [
       "    0   1   2   3   4\n",
       "0 NaN NaN NaN NaN NaN\n",
       "1 NaN NaN NaN NaN NaN\n",
       "2 NaN NaN NaN NaN NaN"
      ]
     },
     "execution_count": 13,
     "metadata": {},
     "output_type": "execute_result"
    }
   ],
   "source": [
    "pd.DataFrame(np.nan, index = range(3), columns = range(5))"
   ]
  },
  {
   "cell_type": "markdown",
   "metadata": {},
   "source": [
    "... and one more:"
   ]
  },
  {
   "cell_type": "code",
   "execution_count": 14,
   "metadata": {},
   "outputs": [
    {
     "data": {
      "text/html": [
       "<div>\n",
       "<style scoped>\n",
       "    .dataframe tbody tr th:only-of-type {\n",
       "        vertical-align: middle;\n",
       "    }\n",
       "\n",
       "    .dataframe tbody tr th {\n",
       "        vertical-align: top;\n",
       "    }\n",
       "\n",
       "    .dataframe thead th {\n",
       "        text-align: right;\n",
       "    }\n",
       "</style>\n",
       "<table border=\"1\" class=\"dataframe\">\n",
       "  <thead>\n",
       "    <tr style=\"text-align: right;\">\n",
       "      <th></th>\n",
       "      <th>0</th>\n",
       "      <th>1</th>\n",
       "      <th>2</th>\n",
       "    </tr>\n",
       "  </thead>\n",
       "  <tbody>\n",
       "    <tr>\n",
       "      <th>0</th>\n",
       "      <td>NaN</td>\n",
       "      <td>NaN</td>\n",
       "      <td>NaN</td>\n",
       "    </tr>\n",
       "    <tr>\n",
       "      <th>1</th>\n",
       "      <td>NaN</td>\n",
       "      <td>NaN</td>\n",
       "      <td>NaN</td>\n",
       "    </tr>\n",
       "  </tbody>\n",
       "</table>\n",
       "</div>"
      ],
      "text/plain": [
       "    0   1   2\n",
       "0 NaN NaN NaN\n",
       "1 NaN NaN NaN"
      ]
     },
     "execution_count": 14,
     "metadata": {},
     "output_type": "execute_result"
    }
   ],
   "source": [
    "df = pd.DataFrame(np.zeros([2, 3])*np.nan)\n",
    "df"
   ]
  },
  {
   "cell_type": "markdown",
   "metadata": {},
   "source": [
    "Filling in missing data (*NaN*s) in dataframes:"
   ]
  },
  {
   "cell_type": "code",
   "execution_count": 15,
   "metadata": {},
   "outputs": [
    {
     "data": {
      "text/html": [
       "<div>\n",
       "<style scoped>\n",
       "    .dataframe tbody tr th:only-of-type {\n",
       "        vertical-align: middle;\n",
       "    }\n",
       "\n",
       "    .dataframe tbody tr th {\n",
       "        vertical-align: top;\n",
       "    }\n",
       "\n",
       "    .dataframe thead th {\n",
       "        text-align: right;\n",
       "    }\n",
       "</style>\n",
       "<table border=\"1\" class=\"dataframe\">\n",
       "  <thead>\n",
       "    <tr style=\"text-align: right;\">\n",
       "      <th></th>\n",
       "      <th>A</th>\n",
       "      <th>B</th>\n",
       "      <th>C</th>\n",
       "      <th>D</th>\n",
       "    </tr>\n",
       "  </thead>\n",
       "  <tbody>\n",
       "    <tr>\n",
       "      <th>first</th>\n",
       "      <td>0</td>\n",
       "      <td>2</td>\n",
       "      <td>NaN</td>\n",
       "      <td>4.0</td>\n",
       "    </tr>\n",
       "    <tr>\n",
       "      <th>second</th>\n",
       "      <td>2</td>\n",
       "      <td>1</td>\n",
       "      <td>3.0</td>\n",
       "      <td>NaN</td>\n",
       "    </tr>\n",
       "    <tr>\n",
       "      <th>third</th>\n",
       "      <td>4</td>\n",
       "      <td>2</td>\n",
       "      <td>NaN</td>\n",
       "      <td>1.0</td>\n",
       "    </tr>\n",
       "    <tr>\n",
       "      <th>fourth</th>\n",
       "      <td>4</td>\n",
       "      <td>2</td>\n",
       "      <td>3.0</td>\n",
       "      <td>1.0</td>\n",
       "    </tr>\n",
       "  </tbody>\n",
       "</table>\n",
       "</div>"
      ],
      "text/plain": [
       "        A  B    C    D\n",
       "first   0  2  NaN  4.0\n",
       "second  2  1  3.0  NaN\n",
       "third   4  2  NaN  1.0\n",
       "fourth  4  2  3.0  1.0"
      ]
     },
     "execution_count": 15,
     "metadata": {},
     "output_type": "execute_result"
    }
   ],
   "source": [
    "df = pd.DataFrame([[0, 2, np.nan, 4], \n",
    "                   [2, 1, 3, np.nan], \n",
    "                   [4, 2, np.nan, 1], \n",
    "                   [4, 2, 3, 1]])\n",
    "df.columns = ['A', 'B', 'C', 'D']\n",
    "df.index = ['first', 'second', 'third', 'fourth']\n",
    "df"
   ]
  },
  {
   "cell_type": "markdown",
   "metadata": {},
   "source": [
    "**.fillna()** used with specific value to fill in all *NaN*s: "
   ]
  },
  {
   "cell_type": "code",
   "execution_count": 16,
   "metadata": {},
   "outputs": [
    {
     "data": {
      "text/html": [
       "<div>\n",
       "<style scoped>\n",
       "    .dataframe tbody tr th:only-of-type {\n",
       "        vertical-align: middle;\n",
       "    }\n",
       "\n",
       "    .dataframe tbody tr th {\n",
       "        vertical-align: top;\n",
       "    }\n",
       "\n",
       "    .dataframe thead th {\n",
       "        text-align: right;\n",
       "    }\n",
       "</style>\n",
       "<table border=\"1\" class=\"dataframe\">\n",
       "  <thead>\n",
       "    <tr style=\"text-align: right;\">\n",
       "      <th></th>\n",
       "      <th>A</th>\n",
       "      <th>B</th>\n",
       "      <th>C</th>\n",
       "      <th>D</th>\n",
       "    </tr>\n",
       "  </thead>\n",
       "  <tbody>\n",
       "    <tr>\n",
       "      <th>first</th>\n",
       "      <td>0</td>\n",
       "      <td>2</td>\n",
       "      <td>filled</td>\n",
       "      <td>4</td>\n",
       "    </tr>\n",
       "    <tr>\n",
       "      <th>second</th>\n",
       "      <td>2</td>\n",
       "      <td>1</td>\n",
       "      <td>3</td>\n",
       "      <td>filled</td>\n",
       "    </tr>\n",
       "    <tr>\n",
       "      <th>third</th>\n",
       "      <td>4</td>\n",
       "      <td>2</td>\n",
       "      <td>filled</td>\n",
       "      <td>1</td>\n",
       "    </tr>\n",
       "    <tr>\n",
       "      <th>fourth</th>\n",
       "      <td>4</td>\n",
       "      <td>2</td>\n",
       "      <td>3</td>\n",
       "      <td>1</td>\n",
       "    </tr>\n",
       "  </tbody>\n",
       "</table>\n",
       "</div>"
      ],
      "text/plain": [
       "        A  B       C       D\n",
       "first   0  2  filled       4\n",
       "second  2  1       3  filled\n",
       "third   4  2  filled       1\n",
       "fourth  4  2       3       1"
      ]
     },
     "execution_count": 16,
     "metadata": {},
     "output_type": "execute_result"
    }
   ],
   "source": [
    "df.fillna(value='filled', inplace=True)\n",
    "df"
   ]
  },
  {
   "cell_type": "markdown",
   "metadata": {},
   "source": [
    "Note that it only applies when *inplace=True* is set. By default it is *inplace=False*\n",
    "\n",
    "Use **.ffil()** or **.bfill()** to forward or backward fill *NaN*s:"
   ]
  },
  {
   "cell_type": "code",
   "execution_count": 19,
   "metadata": {},
   "outputs": [
    {
     "name": "stdout",
     "output_type": "stream",
     "text": [
      "A dataframe with some NaNs:\n",
      "         A  B    C    D\n",
      "first   0  2  NaN  4.0\n",
      "second  2  1  3.0  NaN\n",
      "third   4  2  NaN  1.0\n",
      "fourth  4  2  3.0  1.0\n",
      "\n",
      "A dataframe with NaNs backward filled:\n",
      "         A  B    C    D\n",
      "first   0  2  3.0  4.0\n",
      "second  2  1  3.0  1.0\n",
      "third   4  2  3.0  1.0\n",
      "fourth  4  2  3.0  1.0\n",
      "\n",
      "A dataframe with NaNs forward filled:\n",
      "         A  B    C    D\n",
      "first   0  2  NaN  4.0\n",
      "second  2  1  3.0  4.0\n",
      "third   4  2  3.0  1.0\n",
      "fourth  4  2  3.0  1.0\n",
      "\n",
      "A dataframe with NaNs forward and backward filled,\n",
      "in this case everything gets filled in:\n",
      "         A  B    C    D\n",
      "first   0  2  3.0  4.0\n",
      "second  2  1  3.0  4.0\n",
      "third   4  2  3.0  1.0\n",
      "fourth  4  2  3.0  1.0\n"
     ]
    }
   ],
   "source": [
    "df = pd.DataFrame([[0, 2, np.nan, 4], \n",
    "                   [2, 1, 3, np.nan], \n",
    "                   [4, 2, np.nan, 1], \n",
    "                   [4, 2, 3, 1]])\n",
    "df.columns = ['A', 'B', 'C', 'D']\n",
    "df.index = ['first', 'second', 'third', 'fourth']\n",
    "print(\"A dataframe with some NaNs:\\n\", df)\n",
    "\n",
    "df_bf = df.bfill()\n",
    "print(\"\\nA dataframe with NaNs backward filled:\\n\", df_bf)\n",
    "\n",
    "df_ff = df.ffill()\n",
    "print(\"\\nA dataframe with NaNs forward filled:\\n\", df_ff)\n",
    "\n",
    "df.ffill(inplace=True)\n",
    "df.bfill(inplace=True)\n",
    "print(\"\\nA dataframe with NaNs forward and backward filled,\\nin this case everything gets filled in:\\n\", df)"
   ]
  },
  {
   "cell_type": "markdown",
   "metadata": {},
   "source": [
    "Note that not everything was forward filled as there was no preceding value for an NaN "
   ]
  },
  {
   "cell_type": "markdown",
   "metadata": {},
   "source": [
    "#### Example to fill in NaNs in specific rows and columns:"
   ]
  },
  {
   "cell_type": "code",
   "execution_count": 20,
   "metadata": {},
   "outputs": [
    {
     "name": "stdout",
     "output_type": "stream",
     "text": [
      "A dataframe with some NaNs:\n",
      "\n",
      "         A  B    C    D\n",
      "first   0  2  NaN  4.0\n",
      "second  2  1  3.0  NaN\n",
      "third   4  2  NaN  1.0\n",
      "fourth  4  2  3.0  1.0\n"
     ]
    },
    {
     "data": {
      "text/html": [
       "<div>\n",
       "<style scoped>\n",
       "    .dataframe tbody tr th:only-of-type {\n",
       "        vertical-align: middle;\n",
       "    }\n",
       "\n",
       "    .dataframe tbody tr th {\n",
       "        vertical-align: top;\n",
       "    }\n",
       "\n",
       "    .dataframe thead th {\n",
       "        text-align: right;\n",
       "    }\n",
       "</style>\n",
       "<table border=\"1\" class=\"dataframe\">\n",
       "  <thead>\n",
       "    <tr style=\"text-align: right;\">\n",
       "      <th></th>\n",
       "      <th>A</th>\n",
       "      <th>B</th>\n",
       "      <th>C</th>\n",
       "      <th>D</th>\n",
       "    </tr>\n",
       "  </thead>\n",
       "  <tbody>\n",
       "    <tr>\n",
       "      <th>first</th>\n",
       "      <td>0</td>\n",
       "      <td>2</td>\n",
       "      <td>filled in third column</td>\n",
       "      <td>4</td>\n",
       "    </tr>\n",
       "    <tr>\n",
       "      <th>second</th>\n",
       "      <td>2</td>\n",
       "      <td>1</td>\n",
       "      <td>3</td>\n",
       "      <td>filled in fourth column</td>\n",
       "    </tr>\n",
       "    <tr>\n",
       "      <th>third</th>\n",
       "      <td>4</td>\n",
       "      <td>2</td>\n",
       "      <td>filled in third column</td>\n",
       "      <td>1</td>\n",
       "    </tr>\n",
       "    <tr>\n",
       "      <th>fourth</th>\n",
       "      <td>4</td>\n",
       "      <td>2</td>\n",
       "      <td>3</td>\n",
       "      <td>1</td>\n",
       "    </tr>\n",
       "  </tbody>\n",
       "</table>\n",
       "</div>"
      ],
      "text/plain": [
       "        A  B                       C                        D\n",
       "first   0  2  filled in third column                        4\n",
       "second  2  1                       3  filled in fourth column\n",
       "third   4  2  filled in third column                        1\n",
       "fourth  4  2                       3                        1"
      ]
     },
     "execution_count": 20,
     "metadata": {},
     "output_type": "execute_result"
    }
   ],
   "source": [
    "df = pd.DataFrame([[0, 2, np.nan, 4], \n",
    "                   [2, 1, 3, np.nan], \n",
    "                   [4, 2, np.nan, 1], \n",
    "                   [4, 2, 3, 1]])\n",
    "df.columns = ['A', 'B', 'C', 'D']\n",
    "df.index = ['first', 'second', 'third', 'fourth']\n",
    "print(\"A dataframe with some NaNs:\\n\\n\", df)\n",
    "\n",
    "#df.fillna({2: 'filled in third column', 3: 'filled in fourth column'})\n",
    "df.fillna({'C': 'filled in third column', 'D': 'filled in fourth column'})"
   ]
  },
  {
   "cell_type": "markdown",
   "metadata": {},
   "source": [
    "Though when checking on the dataframe, the changes were not implemented:"
   ]
  },
  {
   "cell_type": "code",
   "execution_count": null,
   "metadata": {},
   "outputs": [],
   "source": [
    "df"
   ]
  },
  {
   "cell_type": "markdown",
   "metadata": {},
   "source": [
    "inplace = True needs to be used.\n",
    "\n",
    "Lets look at how to limit changes to a specific slice/range only:"
   ]
  },
  {
   "cell_type": "code",
   "execution_count": null,
   "metadata": {},
   "outputs": [],
   "source": [
    "print(\"A dataframe with some NaNs:\\n\", df)\n",
    "\n",
    "df.loc['first':'second','C'].fillna(value=32, inplace=True)\n",
    "print(\"\\nA dataframe with filled NaNs \\nin the first 2 rows and third column:\\n\", df)\n",
    "\n",
    "df.loc['first':'second','D'].fillna(value=42, inplace=True)\n",
    "print(\"\\nA dataframe with filled NaNs \\nin the first 2 rows and fourth column:\\n\", df)"
   ]
  },
  {
   "cell_type": "markdown",
   "metadata": {},
   "source": [
    "We can fill *NaN*s with calculated values too:"
   ]
  },
  {
   "cell_type": "code",
   "execution_count": null,
   "metadata": {},
   "outputs": [],
   "source": [
    "# a dataframe with one NaN\n",
    "df"
   ]
  },
  {
   "cell_type": "code",
   "execution_count": null,
   "metadata": {},
   "outputs": [],
   "source": [
    "# fill in the NaN using the average of a slice (last three rows of the first column):\n",
    "df.fillna(value=round(df.iloc[1:,0].mean(),2), inplace=True)\n",
    "df"
   ]
  },
  {
   "cell_type": "markdown",
   "metadata": {},
   "source": [
    "#### Example to drop rows and columns with *NaN*s:"
   ]
  },
  {
   "cell_type": "code",
   "execution_count": 21,
   "metadata": {},
   "outputs": [
    {
     "name": "stdout",
     "output_type": "stream",
     "text": [
      "A dataframe with some NaNs:\n",
      "\n",
      "         A    B  C    D    E\n",
      "first   0  NaN  2  NaN  4.0\n",
      "second  2  NaN  1  3.0  NaN\n",
      "third   4  5.0  2  NaN  1.0\n",
      "fourth  4  5.0  2  3.0  1.0\n"
     ]
    },
    {
     "data": {
      "text/html": [
       "<div>\n",
       "<style scoped>\n",
       "    .dataframe tbody tr th:only-of-type {\n",
       "        vertical-align: middle;\n",
       "    }\n",
       "\n",
       "    .dataframe tbody tr th {\n",
       "        vertical-align: top;\n",
       "    }\n",
       "\n",
       "    .dataframe thead th {\n",
       "        text-align: right;\n",
       "    }\n",
       "</style>\n",
       "<table border=\"1\" class=\"dataframe\">\n",
       "  <thead>\n",
       "    <tr style=\"text-align: right;\">\n",
       "      <th></th>\n",
       "      <th>A</th>\n",
       "      <th>B</th>\n",
       "      <th>C</th>\n",
       "      <th>D</th>\n",
       "      <th>E</th>\n",
       "    </tr>\n",
       "  </thead>\n",
       "  <tbody>\n",
       "    <tr>\n",
       "      <th>fourth</th>\n",
       "      <td>4</td>\n",
       "      <td>5.0</td>\n",
       "      <td>2</td>\n",
       "      <td>3.0</td>\n",
       "      <td>1.0</td>\n",
       "    </tr>\n",
       "  </tbody>\n",
       "</table>\n",
       "</div>"
      ],
      "text/plain": [
       "        A    B  C    D    E\n",
       "fourth  4  5.0  2  3.0  1.0"
      ]
     },
     "execution_count": 21,
     "metadata": {},
     "output_type": "execute_result"
    }
   ],
   "source": [
    "df = pd.DataFrame([[0, np.nan, 2, np.nan, 4], \n",
    "                   [2, np.nan, 1, 3, np.nan], \n",
    "                   [4, 5, 2, np.nan, 1], \n",
    "                   [4, 5, 2, 3, 1]])\n",
    "df.columns = ['A', 'B', 'C', 'D', 'E']\n",
    "df.index = ['first', 'second', 'third', 'fourth']\n",
    "print(\"A dataframe with some NaNs:\\n\\n\", df)\n",
    "\n",
    "df.dropna(inplace=True)\n",
    "df"
   ]
  },
  {
   "cell_type": "markdown",
   "metadata": {},
   "source": [
    "Notice that all rows were dropped where *NaN* was present\n",
    "\n",
    "Now lets see how to drop columns where *NaN* is present:"
   ]
  },
  {
   "cell_type": "code",
   "execution_count": 22,
   "metadata": {},
   "outputs": [
    {
     "name": "stdout",
     "output_type": "stream",
     "text": [
      "A dataframe with some NaNs:\n",
      "\n",
      "         A    B  C    D    E\n",
      "first   0  NaN  2  NaN  4.0\n",
      "second  2  NaN  1  3.0  NaN\n",
      "third   4  5.0  2  NaN  1.0\n",
      "fourth  4  5.0  2  3.0  1.0\n"
     ]
    },
    {
     "data": {
      "text/html": [
       "<div>\n",
       "<style scoped>\n",
       "    .dataframe tbody tr th:only-of-type {\n",
       "        vertical-align: middle;\n",
       "    }\n",
       "\n",
       "    .dataframe tbody tr th {\n",
       "        vertical-align: top;\n",
       "    }\n",
       "\n",
       "    .dataframe thead th {\n",
       "        text-align: right;\n",
       "    }\n",
       "</style>\n",
       "<table border=\"1\" class=\"dataframe\">\n",
       "  <thead>\n",
       "    <tr style=\"text-align: right;\">\n",
       "      <th></th>\n",
       "      <th>A</th>\n",
       "      <th>C</th>\n",
       "    </tr>\n",
       "  </thead>\n",
       "  <tbody>\n",
       "    <tr>\n",
       "      <th>first</th>\n",
       "      <td>0</td>\n",
       "      <td>2</td>\n",
       "    </tr>\n",
       "    <tr>\n",
       "      <th>second</th>\n",
       "      <td>2</td>\n",
       "      <td>1</td>\n",
       "    </tr>\n",
       "    <tr>\n",
       "      <th>third</th>\n",
       "      <td>4</td>\n",
       "      <td>2</td>\n",
       "    </tr>\n",
       "    <tr>\n",
       "      <th>fourth</th>\n",
       "      <td>4</td>\n",
       "      <td>2</td>\n",
       "    </tr>\n",
       "  </tbody>\n",
       "</table>\n",
       "</div>"
      ],
      "text/plain": [
       "        A  C\n",
       "first   0  2\n",
       "second  2  1\n",
       "third   4  2\n",
       "fourth  4  2"
      ]
     },
     "execution_count": 22,
     "metadata": {},
     "output_type": "execute_result"
    }
   ],
   "source": [
    "df = pd.DataFrame([[0, np.nan, 2, np.nan, 4], \n",
    "                   [2, np.nan, 1, 3, np.nan], \n",
    "                   [4, 5, 2, np.nan, 1], \n",
    "                   [4, 5, 2, 3, 1]])\n",
    "df.columns = ['A', 'B', 'C', 'D', 'E']\n",
    "df.index = ['first', 'second', 'third', 'fourth']\n",
    "print(\"A dataframe with some NaNs:\\n\\n\", df)\n",
    "\n",
    "# specify axis 1 for columns\n",
    "df.dropna(inplace=True, axis=1)  # default is axis=0, applies to rows\n",
    "df"
   ]
  },
  {
   "cell_type": "markdown",
   "metadata": {},
   "source": [
    "Now drop rows or columns where all values are *NaN*s:"
   ]
  },
  {
   "cell_type": "code",
   "execution_count": 23,
   "metadata": {},
   "outputs": [
    {
     "name": "stdout",
     "output_type": "stream",
     "text": [
      "A dataframe with some NaNs:\n",
      "\n",
      "         A   B  C    D    E\n",
      "first   0 NaN  2  NaN  4.0\n",
      "second  2 NaN  1  3.0  NaN\n",
      "third   4 NaN  2  NaN  1.0\n",
      "fourth  4 NaN  2  3.0  1.0\n"
     ]
    },
    {
     "data": {
      "text/html": [
       "<div>\n",
       "<style scoped>\n",
       "    .dataframe tbody tr th:only-of-type {\n",
       "        vertical-align: middle;\n",
       "    }\n",
       "\n",
       "    .dataframe tbody tr th {\n",
       "        vertical-align: top;\n",
       "    }\n",
       "\n",
       "    .dataframe thead th {\n",
       "        text-align: right;\n",
       "    }\n",
       "</style>\n",
       "<table border=\"1\" class=\"dataframe\">\n",
       "  <thead>\n",
       "    <tr style=\"text-align: right;\">\n",
       "      <th></th>\n",
       "      <th>A</th>\n",
       "      <th>C</th>\n",
       "      <th>D</th>\n",
       "      <th>E</th>\n",
       "    </tr>\n",
       "  </thead>\n",
       "  <tbody>\n",
       "    <tr>\n",
       "      <th>first</th>\n",
       "      <td>0</td>\n",
       "      <td>2</td>\n",
       "      <td>NaN</td>\n",
       "      <td>4.0</td>\n",
       "    </tr>\n",
       "    <tr>\n",
       "      <th>second</th>\n",
       "      <td>2</td>\n",
       "      <td>1</td>\n",
       "      <td>3.0</td>\n",
       "      <td>NaN</td>\n",
       "    </tr>\n",
       "    <tr>\n",
       "      <th>third</th>\n",
       "      <td>4</td>\n",
       "      <td>2</td>\n",
       "      <td>NaN</td>\n",
       "      <td>1.0</td>\n",
       "    </tr>\n",
       "    <tr>\n",
       "      <th>fourth</th>\n",
       "      <td>4</td>\n",
       "      <td>2</td>\n",
       "      <td>3.0</td>\n",
       "      <td>1.0</td>\n",
       "    </tr>\n",
       "  </tbody>\n",
       "</table>\n",
       "</div>"
      ],
      "text/plain": [
       "        A  C    D    E\n",
       "first   0  2  NaN  4.0\n",
       "second  2  1  3.0  NaN\n",
       "third   4  2  NaN  1.0\n",
       "fourth  4  2  3.0  1.0"
      ]
     },
     "execution_count": 23,
     "metadata": {},
     "output_type": "execute_result"
    }
   ],
   "source": [
    "df = pd.DataFrame([[0, np.nan, 2, np.nan, 4], \n",
    "                   [2, np.nan, 1, 3, np.nan], \n",
    "                   [4, np.nan, 2, np.nan, 1], \n",
    "                   [4, np.nan, 2, 3, 1]])\n",
    "df.columns = ['A', 'B', 'C', 'D', 'E']\n",
    "df.index = ['first', 'second', 'third', 'fourth']\n",
    "print(\"A dataframe with some NaNs:\\n\\n\", df)\n",
    "# specify axis 1 for columns\n",
    "df.dropna(inplace=True, axis=1, how='all')\n",
    "df"
   ]
  },
  {
   "cell_type": "markdown",
   "metadata": {},
   "source": [
    "Dropping too many rows may not be an option. Assume we want to keep rows where there are \"enough\" values present (other than *NaN*s).\n",
    "\n",
    "Use a treshold to limit the number of rows to be dropped.\n",
    "\n",
    "For exmple use thresh=4 to keep rows where at least 4 non-NaN values are present:"
   ]
  },
  {
   "cell_type": "code",
   "execution_count": 24,
   "metadata": {},
   "outputs": [
    {
     "name": "stdout",
     "output_type": "stream",
     "text": [
      "A dataframe with some NaNs:\n",
      "\n",
      "         A    B  C    D    E\n",
      "first   0  NaN  2  NaN  4.0\n",
      "second  2  NaN  1  3.0  NaN\n",
      "third   4  NaN  2  NaN  1.0\n",
      "fourth  4  5.0  2  3.0  1.0\n",
      "fifth   0  3.0  2  NaN  4.0\n"
     ]
    },
    {
     "data": {
      "text/html": [
       "<div>\n",
       "<style scoped>\n",
       "    .dataframe tbody tr th:only-of-type {\n",
       "        vertical-align: middle;\n",
       "    }\n",
       "\n",
       "    .dataframe tbody tr th {\n",
       "        vertical-align: top;\n",
       "    }\n",
       "\n",
       "    .dataframe thead th {\n",
       "        text-align: right;\n",
       "    }\n",
       "</style>\n",
       "<table border=\"1\" class=\"dataframe\">\n",
       "  <thead>\n",
       "    <tr style=\"text-align: right;\">\n",
       "      <th></th>\n",
       "      <th>A</th>\n",
       "      <th>B</th>\n",
       "      <th>C</th>\n",
       "      <th>D</th>\n",
       "      <th>E</th>\n",
       "    </tr>\n",
       "  </thead>\n",
       "  <tbody>\n",
       "    <tr>\n",
       "      <th>fourth</th>\n",
       "      <td>4</td>\n",
       "      <td>5.0</td>\n",
       "      <td>2</td>\n",
       "      <td>3.0</td>\n",
       "      <td>1.0</td>\n",
       "    </tr>\n",
       "    <tr>\n",
       "      <th>fifth</th>\n",
       "      <td>0</td>\n",
       "      <td>3.0</td>\n",
       "      <td>2</td>\n",
       "      <td>NaN</td>\n",
       "      <td>4.0</td>\n",
       "    </tr>\n",
       "  </tbody>\n",
       "</table>\n",
       "</div>"
      ],
      "text/plain": [
       "        A    B  C    D    E\n",
       "fourth  4  5.0  2  3.0  1.0\n",
       "fifth   0  3.0  2  NaN  4.0"
      ]
     },
     "execution_count": 24,
     "metadata": {},
     "output_type": "execute_result"
    }
   ],
   "source": [
    "df = pd.DataFrame([[0, np.nan, 2, np.nan, 4], \n",
    "                   [2, np.nan, 1, 3, np.nan], \n",
    "                   [4, np.nan, 2, np.nan, 1], \n",
    "                   [4, 5, 2, 3, 1],\n",
    "                   [0, 3, 2, np.nan, 4]])\n",
    "df.columns = ['A', 'B', 'C', 'D', 'E']\n",
    "df.index = ['first', 'second', 'third', 'fourth', 'fifth']\n",
    "print(\"A dataframe with some NaNs:\\n\\n\", df)\n",
    "\n",
    "df.dropna(thresh=4, inplace=True)\n",
    "df"
   ]
  },
  {
   "cell_type": "markdown",
   "metadata": {},
   "source": [
    "## Data Transformations\n",
    "\n",
    "### Duplicate rows\n",
    "Duplicate rows may be needed in case very same observations could happen\n",
    "\n",
    "Example:\n",
    " * we are looking for anonymous data (e.g. non-indexed) related to age, height and weight only:\n",
    "         a large enough population most likely yield with duplicate rows even though related to different individuals\n",
    "\n",
    "<br>\n",
    "In other cases duplicate rows could be a result of manual or programmatical mistakes and/or not expected at all\n",
    "\n",
    "Example:\n",
    " * we are looking at indexed data:\n",
    "         one (indexed) observation is expected from each individual of a population\n",
    "\n",
    "#### Examples\n",
    "Filter/find duplicate rows:"
   ]
  },
  {
   "cell_type": "code",
   "execution_count": 25,
   "metadata": {},
   "outputs": [
    {
     "name": "stdout",
     "output_type": "stream",
     "text": [
      "A dataframe with some duplicated rows:\n",
      "\n",
      "          A  B  C  D  E\n",
      "first    0  1  2  3  4\n",
      "second   0  1  2  3  4\n",
      "third    0  1  2  3  4\n",
      "fourth   4  5  2  3  1\n",
      "fifth    0  1  2  3  4\n",
      "sixth    4  2  2  3  1\n",
      "seventh  4  5  2  3  1\n"
     ]
    },
    {
     "data": {
      "text/plain": [
       "first      False\n",
       "second      True\n",
       "third       True\n",
       "fourth     False\n",
       "fifth       True\n",
       "sixth      False\n",
       "seventh     True\n",
       "dtype: bool"
      ]
     },
     "execution_count": 25,
     "metadata": {},
     "output_type": "execute_result"
    }
   ],
   "source": [
    "df = pd.DataFrame([[0, 1, 2, 3, 4], \n",
    "                   [0, 1, 2, 3, 4], \n",
    "                   [0, 1, 2, 3, 4], \n",
    "                   [4, 5, 2, 3, 1],\n",
    "                   [0, 1, 2, 3, 4],\n",
    "                   [4, 2, 2, 3, 1],\n",
    "                   [4, 5, 2, 3, 1]])\n",
    "df.columns = ['A', 'B', 'C', 'D', 'E']\n",
    "df.index = ['first', 'second', 'third', 'fourth', 'fifth', 'sixth', 'seventh']\n",
    "print(\"A dataframe with some duplicated rows:\\n\\n\", df)\n",
    "\n",
    "df.duplicated()"
   ]
  },
  {
   "cell_type": "markdown",
   "metadata": {},
   "source": [
    "Notice that a row is marked as duplicated once there is a previous row which was the same.\n",
    "\n",
    "E.g.: in this case the very first row is not marked as duplicated since its the first instance of a set of same rows.\n",
    "\n",
    "Dropping duplicates:"
   ]
  },
  {
   "cell_type": "code",
   "execution_count": 26,
   "metadata": {},
   "outputs": [
    {
     "data": {
      "text/html": [
       "<div>\n",
       "<style scoped>\n",
       "    .dataframe tbody tr th:only-of-type {\n",
       "        vertical-align: middle;\n",
       "    }\n",
       "\n",
       "    .dataframe tbody tr th {\n",
       "        vertical-align: top;\n",
       "    }\n",
       "\n",
       "    .dataframe thead th {\n",
       "        text-align: right;\n",
       "    }\n",
       "</style>\n",
       "<table border=\"1\" class=\"dataframe\">\n",
       "  <thead>\n",
       "    <tr style=\"text-align: right;\">\n",
       "      <th></th>\n",
       "      <th>A</th>\n",
       "      <th>B</th>\n",
       "      <th>C</th>\n",
       "      <th>D</th>\n",
       "      <th>E</th>\n",
       "    </tr>\n",
       "  </thead>\n",
       "  <tbody>\n",
       "    <tr>\n",
       "      <th>first</th>\n",
       "      <td>0</td>\n",
       "      <td>1</td>\n",
       "      <td>2</td>\n",
       "      <td>3</td>\n",
       "      <td>4</td>\n",
       "    </tr>\n",
       "    <tr>\n",
       "      <th>fourth</th>\n",
       "      <td>4</td>\n",
       "      <td>5</td>\n",
       "      <td>2</td>\n",
       "      <td>3</td>\n",
       "      <td>1</td>\n",
       "    </tr>\n",
       "    <tr>\n",
       "      <th>sixth</th>\n",
       "      <td>4</td>\n",
       "      <td>2</td>\n",
       "      <td>2</td>\n",
       "      <td>3</td>\n",
       "      <td>1</td>\n",
       "    </tr>\n",
       "  </tbody>\n",
       "</table>\n",
       "</div>"
      ],
      "text/plain": [
       "        A  B  C  D  E\n",
       "first   0  1  2  3  4\n",
       "fourth  4  5  2  3  1\n",
       "sixth   4  2  2  3  1"
      ]
     },
     "execution_count": 26,
     "metadata": {},
     "output_type": "execute_result"
    }
   ],
   "source": [
    "df.drop_duplicates()"
   ]
  },
  {
   "cell_type": "markdown",
   "metadata": {},
   "source": [
    "Notice that the first instances are kept. We can change that and keep the last ones, see the row indeces are now different:"
   ]
  },
  {
   "cell_type": "code",
   "execution_count": 27,
   "metadata": {},
   "outputs": [
    {
     "data": {
      "text/html": [
       "<div>\n",
       "<style scoped>\n",
       "    .dataframe tbody tr th:only-of-type {\n",
       "        vertical-align: middle;\n",
       "    }\n",
       "\n",
       "    .dataframe tbody tr th {\n",
       "        vertical-align: top;\n",
       "    }\n",
       "\n",
       "    .dataframe thead th {\n",
       "        text-align: right;\n",
       "    }\n",
       "</style>\n",
       "<table border=\"1\" class=\"dataframe\">\n",
       "  <thead>\n",
       "    <tr style=\"text-align: right;\">\n",
       "      <th></th>\n",
       "      <th>A</th>\n",
       "      <th>B</th>\n",
       "      <th>C</th>\n",
       "      <th>D</th>\n",
       "      <th>E</th>\n",
       "    </tr>\n",
       "  </thead>\n",
       "  <tbody>\n",
       "    <tr>\n",
       "      <th>fifth</th>\n",
       "      <td>0</td>\n",
       "      <td>1</td>\n",
       "      <td>2</td>\n",
       "      <td>3</td>\n",
       "      <td>4</td>\n",
       "    </tr>\n",
       "    <tr>\n",
       "      <th>sixth</th>\n",
       "      <td>4</td>\n",
       "      <td>2</td>\n",
       "      <td>2</td>\n",
       "      <td>3</td>\n",
       "      <td>1</td>\n",
       "    </tr>\n",
       "    <tr>\n",
       "      <th>seventh</th>\n",
       "      <td>4</td>\n",
       "      <td>5</td>\n",
       "      <td>2</td>\n",
       "      <td>3</td>\n",
       "      <td>1</td>\n",
       "    </tr>\n",
       "  </tbody>\n",
       "</table>\n",
       "</div>"
      ],
      "text/plain": [
       "         A  B  C  D  E\n",
       "fifth    0  1  2  3  4\n",
       "sixth    4  2  2  3  1\n",
       "seventh  4  5  2  3  1"
      ]
     },
     "execution_count": 27,
     "metadata": {},
     "output_type": "execute_result"
    }
   ],
   "source": [
    "df.drop_duplicates(keep='last')"
   ]
  },
  {
   "cell_type": "markdown",
   "metadata": {},
   "source": [
    "In case we don't trust any of the duplicate rows, we can drop them all:"
   ]
  },
  {
   "cell_type": "code",
   "execution_count": 28,
   "metadata": {},
   "outputs": [
    {
     "data": {
      "text/html": [
       "<div>\n",
       "<style scoped>\n",
       "    .dataframe tbody tr th:only-of-type {\n",
       "        vertical-align: middle;\n",
       "    }\n",
       "\n",
       "    .dataframe tbody tr th {\n",
       "        vertical-align: top;\n",
       "    }\n",
       "\n",
       "    .dataframe thead th {\n",
       "        text-align: right;\n",
       "    }\n",
       "</style>\n",
       "<table border=\"1\" class=\"dataframe\">\n",
       "  <thead>\n",
       "    <tr style=\"text-align: right;\">\n",
       "      <th></th>\n",
       "      <th>A</th>\n",
       "      <th>B</th>\n",
       "      <th>C</th>\n",
       "      <th>D</th>\n",
       "      <th>E</th>\n",
       "    </tr>\n",
       "  </thead>\n",
       "  <tbody>\n",
       "    <tr>\n",
       "      <th>sixth</th>\n",
       "      <td>4</td>\n",
       "      <td>2</td>\n",
       "      <td>2</td>\n",
       "      <td>3</td>\n",
       "      <td>1</td>\n",
       "    </tr>\n",
       "  </tbody>\n",
       "</table>\n",
       "</div>"
      ],
      "text/plain": [
       "       A  B  C  D  E\n",
       "sixth  4  2  2  3  1"
      ]
     },
     "execution_count": 28,
     "metadata": {},
     "output_type": "execute_result"
    }
   ],
   "source": [
    "df.drop_duplicates(keep=False)"
   ]
  },
  {
   "cell_type": "markdown",
   "metadata": {},
   "source": [
    "### Replacing values\n",
    "We can replace specific values or a range of values with specific values or a range of values.\n",
    "\n",
    "#### Examples:"
   ]
  },
  {
   "cell_type": "code",
   "execution_count": 29,
   "metadata": {},
   "outputs": [
    {
     "name": "stdout",
     "output_type": "stream",
     "text": [
      "A dataframe with some NaNs:\n",
      "\n",
      "         A     B  C    D    E\n",
      "first   0   999  2 -999    4\n",
      "second  2   999  1    3 -999\n",
      "third   4  1000  2  999    1\n",
      "fourth  4     5  2    3    1\n",
      "fifth   0     3  2  999    4\n"
     ]
    },
    {
     "data": {
      "text/html": [
       "<div>\n",
       "<style scoped>\n",
       "    .dataframe tbody tr th:only-of-type {\n",
       "        vertical-align: middle;\n",
       "    }\n",
       "\n",
       "    .dataframe tbody tr th {\n",
       "        vertical-align: top;\n",
       "    }\n",
       "\n",
       "    .dataframe thead th {\n",
       "        text-align: right;\n",
       "    }\n",
       "</style>\n",
       "<table border=\"1\" class=\"dataframe\">\n",
       "  <thead>\n",
       "    <tr style=\"text-align: right;\">\n",
       "      <th></th>\n",
       "      <th>A</th>\n",
       "      <th>B</th>\n",
       "      <th>C</th>\n",
       "      <th>D</th>\n",
       "      <th>E</th>\n",
       "    </tr>\n",
       "  </thead>\n",
       "  <tbody>\n",
       "    <tr>\n",
       "      <th>first</th>\n",
       "      <td>0</td>\n",
       "      <td>999</td>\n",
       "      <td>2</td>\n",
       "      <td>NaN</td>\n",
       "      <td>4.0</td>\n",
       "    </tr>\n",
       "    <tr>\n",
       "      <th>second</th>\n",
       "      <td>2</td>\n",
       "      <td>999</td>\n",
       "      <td>1</td>\n",
       "      <td>3.0</td>\n",
       "      <td>NaN</td>\n",
       "    </tr>\n",
       "    <tr>\n",
       "      <th>third</th>\n",
       "      <td>4</td>\n",
       "      <td>1000</td>\n",
       "      <td>2</td>\n",
       "      <td>999.0</td>\n",
       "      <td>1.0</td>\n",
       "    </tr>\n",
       "    <tr>\n",
       "      <th>fourth</th>\n",
       "      <td>4</td>\n",
       "      <td>5</td>\n",
       "      <td>2</td>\n",
       "      <td>3.0</td>\n",
       "      <td>1.0</td>\n",
       "    </tr>\n",
       "    <tr>\n",
       "      <th>fifth</th>\n",
       "      <td>0</td>\n",
       "      <td>3</td>\n",
       "      <td>2</td>\n",
       "      <td>999.0</td>\n",
       "      <td>4.0</td>\n",
       "    </tr>\n",
       "  </tbody>\n",
       "</table>\n",
       "</div>"
      ],
      "text/plain": [
       "        A     B  C      D    E\n",
       "first   0   999  2    NaN  4.0\n",
       "second  2   999  1    3.0  NaN\n",
       "third   4  1000  2  999.0  1.0\n",
       "fourth  4     5  2    3.0  1.0\n",
       "fifth   0     3  2  999.0  4.0"
      ]
     },
     "execution_count": 29,
     "metadata": {},
     "output_type": "execute_result"
    }
   ],
   "source": [
    "df = pd.DataFrame([[0, 999, 2, -999, 4], \n",
    "                   [2, 999, 1, 3, -999], \n",
    "                   [4, 1000, 2, 999, 1], \n",
    "                   [4, 5, 2, 3, 1],\n",
    "                   [0, 3, 2, 999, 4]])\n",
    "df.columns = ['A', 'B', 'C', 'D', 'E']\n",
    "df.index = ['first', 'second', 'third', 'fourth', 'fifth']\n",
    "print(\"A dataframe with some NaNs:\\n\\n\", df)\n",
    "\n",
    "df.replace(-999, np.nan, inplace=True)\n",
    "df"
   ]
  },
  {
   "cell_type": "markdown",
   "metadata": {},
   "source": [
    "Now replace a set of values (999 and -999) with NaNs.\n",
    "\n",
    "Note that -999 and 999 are often set instead of empty or NaN as a practice in older datasets (where such \"large\" numbers would not be expected)."
   ]
  },
  {
   "cell_type": "code",
   "execution_count": 30,
   "metadata": {},
   "outputs": [
    {
     "name": "stdout",
     "output_type": "stream",
     "text": [
      "A dataframe with some NaNs:\n",
      "\n",
      "         A     B  C    D    E\n",
      "first   0   999  2 -999    4\n",
      "second  2   999  1    3 -999\n",
      "third   4  1000  2  999    1\n",
      "fourth  4     5  2    3    1\n",
      "fifth   0     3  2  999    4\n"
     ]
    },
    {
     "data": {
      "text/html": [
       "<div>\n",
       "<style scoped>\n",
       "    .dataframe tbody tr th:only-of-type {\n",
       "        vertical-align: middle;\n",
       "    }\n",
       "\n",
       "    .dataframe tbody tr th {\n",
       "        vertical-align: top;\n",
       "    }\n",
       "\n",
       "    .dataframe thead th {\n",
       "        text-align: right;\n",
       "    }\n",
       "</style>\n",
       "<table border=\"1\" class=\"dataframe\">\n",
       "  <thead>\n",
       "    <tr style=\"text-align: right;\">\n",
       "      <th></th>\n",
       "      <th>A</th>\n",
       "      <th>B</th>\n",
       "      <th>C</th>\n",
       "      <th>D</th>\n",
       "      <th>E</th>\n",
       "    </tr>\n",
       "  </thead>\n",
       "  <tbody>\n",
       "    <tr>\n",
       "      <th>first</th>\n",
       "      <td>0</td>\n",
       "      <td>NaN</td>\n",
       "      <td>2</td>\n",
       "      <td>NaN</td>\n",
       "      <td>4.0</td>\n",
       "    </tr>\n",
       "    <tr>\n",
       "      <th>second</th>\n",
       "      <td>2</td>\n",
       "      <td>NaN</td>\n",
       "      <td>1</td>\n",
       "      <td>3.0</td>\n",
       "      <td>NaN</td>\n",
       "    </tr>\n",
       "    <tr>\n",
       "      <th>third</th>\n",
       "      <td>4</td>\n",
       "      <td>1000.0</td>\n",
       "      <td>2</td>\n",
       "      <td>NaN</td>\n",
       "      <td>1.0</td>\n",
       "    </tr>\n",
       "    <tr>\n",
       "      <th>fourth</th>\n",
       "      <td>4</td>\n",
       "      <td>5.0</td>\n",
       "      <td>2</td>\n",
       "      <td>3.0</td>\n",
       "      <td>1.0</td>\n",
       "    </tr>\n",
       "    <tr>\n",
       "      <th>fifth</th>\n",
       "      <td>0</td>\n",
       "      <td>3.0</td>\n",
       "      <td>2</td>\n",
       "      <td>NaN</td>\n",
       "      <td>4.0</td>\n",
       "    </tr>\n",
       "  </tbody>\n",
       "</table>\n",
       "</div>"
      ],
      "text/plain": [
       "        A       B  C    D    E\n",
       "first   0     NaN  2  NaN  4.0\n",
       "second  2     NaN  1  3.0  NaN\n",
       "third   4  1000.0  2  NaN  1.0\n",
       "fourth  4     5.0  2  3.0  1.0\n",
       "fifth   0     3.0  2  NaN  4.0"
      ]
     },
     "execution_count": 30,
     "metadata": {},
     "output_type": "execute_result"
    }
   ],
   "source": [
    "df = pd.DataFrame([[0, 999, 2, -999, 4], \n",
    "                   [2, 999, 1, 3, -999], \n",
    "                   [4, 1000, 2, 999, 1], \n",
    "                   [4, 5, 2, 3, 1],\n",
    "                   [0, 3, 2, 999, 4]])\n",
    "df.columns = ['A', 'B', 'C', 'D', 'E']\n",
    "df.index = ['first', 'second', 'third', 'fourth', 'fifth']\n",
    "print(\"A dataframe with some NaNs:\\n\\n\", df)\n",
    "\n",
    "df.replace([-999, 999], np.nan, inplace=True)\n",
    "df"
   ]
  },
  {
   "cell_type": "markdown",
   "metadata": {},
   "source": [
    "Also can replace using lists.\n",
    "In this specific case:\n",
    "\n",
    "        -999 and +999   map to  NaN\n",
    "        -1000 and 1000  map to  'min' and 'max'"
   ]
  },
  {
   "cell_type": "code",
   "execution_count": 31,
   "metadata": {},
   "outputs": [
    {
     "name": "stdout",
     "output_type": "stream",
     "text": [
      "A dataframe with some NaNs:\n",
      "\n",
      "         A     B  C    D    E\n",
      "first   0   999  2 -999    4\n",
      "second  2   999  1    3 -999\n",
      "third   4  1000  2  999    1\n",
      "fourth  4     5  2    3    1\n",
      "fifth   0     3  2  999    4\n",
      "\n",
      "The dataframe with replacements:\n"
     ]
    },
    {
     "data": {
      "text/html": [
       "<div>\n",
       "<style scoped>\n",
       "    .dataframe tbody tr th:only-of-type {\n",
       "        vertical-align: middle;\n",
       "    }\n",
       "\n",
       "    .dataframe tbody tr th {\n",
       "        vertical-align: top;\n",
       "    }\n",
       "\n",
       "    .dataframe thead th {\n",
       "        text-align: right;\n",
       "    }\n",
       "</style>\n",
       "<table border=\"1\" class=\"dataframe\">\n",
       "  <thead>\n",
       "    <tr style=\"text-align: right;\">\n",
       "      <th></th>\n",
       "      <th>A</th>\n",
       "      <th>B</th>\n",
       "      <th>C</th>\n",
       "      <th>D</th>\n",
       "      <th>E</th>\n",
       "    </tr>\n",
       "  </thead>\n",
       "  <tbody>\n",
       "    <tr>\n",
       "      <th>first</th>\n",
       "      <td>0</td>\n",
       "      <td>NaN</td>\n",
       "      <td>2</td>\n",
       "      <td>NaN</td>\n",
       "      <td>4</td>\n",
       "    </tr>\n",
       "    <tr>\n",
       "      <th>second</th>\n",
       "      <td>2</td>\n",
       "      <td>NaN</td>\n",
       "      <td>1</td>\n",
       "      <td>3</td>\n",
       "      <td>NaN</td>\n",
       "    </tr>\n",
       "    <tr>\n",
       "      <th>third</th>\n",
       "      <td>4</td>\n",
       "      <td>MAX</td>\n",
       "      <td>2</td>\n",
       "      <td>NaN</td>\n",
       "      <td>1</td>\n",
       "    </tr>\n",
       "    <tr>\n",
       "      <th>fourth</th>\n",
       "      <td>4</td>\n",
       "      <td>5</td>\n",
       "      <td>2</td>\n",
       "      <td>3</td>\n",
       "      <td>1</td>\n",
       "    </tr>\n",
       "    <tr>\n",
       "      <th>fifth</th>\n",
       "      <td>0</td>\n",
       "      <td>3</td>\n",
       "      <td>2</td>\n",
       "      <td>NaN</td>\n",
       "      <td>4</td>\n",
       "    </tr>\n",
       "  </tbody>\n",
       "</table>\n",
       "</div>"
      ],
      "text/plain": [
       "        A    B  C    D    E\n",
       "first   0  NaN  2  NaN    4\n",
       "second  2  NaN  1    3  NaN\n",
       "third   4  MAX  2  NaN    1\n",
       "fourth  4    5  2    3    1\n",
       "fifth   0    3  2  NaN    4"
      ]
     },
     "execution_count": 31,
     "metadata": {},
     "output_type": "execute_result"
    }
   ],
   "source": [
    "df = pd.DataFrame([[0, 999, 2, -999, 4], \n",
    "                   [2, 999, 1, 3, -999], \n",
    "                   [4, 1000, 2, 999, 1], \n",
    "                   [4, 5, 2, 3, 1],\n",
    "                   [0, 3, 2, 999, 4]])\n",
    "df.columns = ['A', 'B', 'C', 'D', 'E']\n",
    "df.index = ['first', 'second', 'third', 'fourth', 'fifth']\n",
    "print(\"A dataframe with some NaNs:\\n\\n\", df)\n",
    "\n",
    "df.replace([-999, 999, 1000], [np.nan, np.nan, 'MAX'], inplace=True)\n",
    "print(\"\\nThe dataframe with replacements:\")\n",
    "df"
   ]
  },
  {
   "cell_type": "markdown",
   "metadata": {},
   "source": [
    "Replacement with calculated values:"
   ]
  },
  {
   "cell_type": "code",
   "execution_count": 32,
   "metadata": {},
   "outputs": [
    {
     "name": "stdout",
     "output_type": "stream",
     "text": [
      "A dataframe with some NaNs:\n",
      "\n",
      "         A    B  C    D    E\n",
      "first   0  NaN  2  NaN  4.0\n",
      "second  2  NaN  1  3.0  NaN\n",
      "third   4  NaN  2  NaN  1.0\n",
      "fourth  4  5.0  2  3.0  1.0\n",
      "fifth   0  3.0  2  NaN  4.0\n"
     ]
    },
    {
     "data": {
      "text/html": [
       "<div>\n",
       "<style scoped>\n",
       "    .dataframe tbody tr th:only-of-type {\n",
       "        vertical-align: middle;\n",
       "    }\n",
       "\n",
       "    .dataframe tbody tr th {\n",
       "        vertical-align: top;\n",
       "    }\n",
       "\n",
       "    .dataframe thead th {\n",
       "        text-align: right;\n",
       "    }\n",
       "</style>\n",
       "<table border=\"1\" class=\"dataframe\">\n",
       "  <thead>\n",
       "    <tr style=\"text-align: right;\">\n",
       "      <th></th>\n",
       "      <th>A</th>\n",
       "      <th>B</th>\n",
       "      <th>C</th>\n",
       "      <th>D</th>\n",
       "      <th>E</th>\n",
       "    </tr>\n",
       "  </thead>\n",
       "  <tbody>\n",
       "    <tr>\n",
       "      <th>first</th>\n",
       "      <td>0</td>\n",
       "      <td>4.0</td>\n",
       "      <td>2</td>\n",
       "      <td>3.0</td>\n",
       "      <td>4.0</td>\n",
       "    </tr>\n",
       "    <tr>\n",
       "      <th>second</th>\n",
       "      <td>2</td>\n",
       "      <td>4.0</td>\n",
       "      <td>1</td>\n",
       "      <td>3.0</td>\n",
       "      <td>2.5</td>\n",
       "    </tr>\n",
       "    <tr>\n",
       "      <th>third</th>\n",
       "      <td>4</td>\n",
       "      <td>4.0</td>\n",
       "      <td>2</td>\n",
       "      <td>3.0</td>\n",
       "      <td>1.0</td>\n",
       "    </tr>\n",
       "    <tr>\n",
       "      <th>fourth</th>\n",
       "      <td>4</td>\n",
       "      <td>5.0</td>\n",
       "      <td>2</td>\n",
       "      <td>3.0</td>\n",
       "      <td>1.0</td>\n",
       "    </tr>\n",
       "    <tr>\n",
       "      <th>fifth</th>\n",
       "      <td>0</td>\n",
       "      <td>3.0</td>\n",
       "      <td>2</td>\n",
       "      <td>3.0</td>\n",
       "      <td>4.0</td>\n",
       "    </tr>\n",
       "  </tbody>\n",
       "</table>\n",
       "</div>"
      ],
      "text/plain": [
       "        A    B  C    D    E\n",
       "first   0  4.0  2  3.0  4.0\n",
       "second  2  4.0  1  3.0  2.5\n",
       "third   4  4.0  2  3.0  1.0\n",
       "fourth  4  5.0  2  3.0  1.0\n",
       "fifth   0  3.0  2  3.0  4.0"
      ]
     },
     "execution_count": 32,
     "metadata": {},
     "output_type": "execute_result"
    }
   ],
   "source": [
    "df = pd.DataFrame([[0, np.nan, 2, np.nan, 4], \n",
    "                   [2, np.nan, 1, 3, np.nan], \n",
    "                   [4, np.nan, 2, np.nan, 1], \n",
    "                   [4, 5, 2, 3, 1],\n",
    "                   [0, 3, 2, np.nan, 4]])\n",
    "df.columns = ['A', 'B', 'C', 'D', 'E']\n",
    "df.index = ['first', 'second', 'third', 'fourth', 'fifth']\n",
    "print(\"A dataframe with some NaNs:\\n\\n\", df)\n",
    "\n",
    "# replace everything with the mean value of all values in the dataframe\n",
    "df.replace(np.nan, df.mean(), inplace=True)\n",
    "df"
   ]
  },
  {
   "cell_type": "code",
   "execution_count": 33,
   "metadata": {},
   "outputs": [
    {
     "data": {
      "text/plain": [
       "A    2.0\n",
       "B    4.0\n",
       "C    1.8\n",
       "D    3.0\n",
       "E    2.5\n",
       "dtype: float64"
      ]
     },
     "execution_count": 33,
     "metadata": {},
     "output_type": "execute_result"
    }
   ],
   "source": [
    "df.mean()"
   ]
  },
  {
   "cell_type": "markdown",
   "metadata": {},
   "source": [
    "### Discretize and Bin\n",
    "Certain specific values may need to be categorized or replaced with other representative number values   \n",
    "#### Example\n",
    "\n",
    "Speed can be categorized for potential ticketing on the highway:\n",
    "    - less than 55 mph       -->  low\n",
    "    - between 55 and 65 mph  -->  normal\n",
    "    - higher than 65 mph     -->  high"
   ]
  },
  {
   "cell_type": "code",
   "execution_count": 34,
   "metadata": {},
   "outputs": [
    {
     "name": "stdout",
     "output_type": "stream",
     "text": [
      "A dataframe with car IDs and speeds in mph:\n",
      "\n",
      "     carIDs  speeds\n",
      "0        0      76\n",
      "1        1      46\n",
      "2        2      65\n",
      "3        3      79\n",
      "4        4      64\n",
      "5        5      48\n",
      "6        6      72\n",
      "7        7      43\n",
      "8        8      48\n",
      "9        9      50\n",
      "10      10      49\n",
      "11      11      45\n",
      "12      12      74\n",
      "13      13      54\n",
      "14      14      49\n",
      "15      15      60\n",
      "16      16      42\n",
      "17      17      52\n",
      "18      18      47\n",
      "19      19      50\n",
      "The dataframe with bucketized categories\n"
     ]
    },
    {
     "data": {
      "text/html": [
       "<div>\n",
       "<style scoped>\n",
       "    .dataframe tbody tr th:only-of-type {\n",
       "        vertical-align: middle;\n",
       "    }\n",
       "\n",
       "    .dataframe tbody tr th {\n",
       "        vertical-align: top;\n",
       "    }\n",
       "\n",
       "    .dataframe thead th {\n",
       "        text-align: right;\n",
       "    }\n",
       "</style>\n",
       "<table border=\"1\" class=\"dataframe\">\n",
       "  <thead>\n",
       "    <tr style=\"text-align: right;\">\n",
       "      <th></th>\n",
       "      <th>carIDs</th>\n",
       "      <th>speeds</th>\n",
       "    </tr>\n",
       "  </thead>\n",
       "  <tbody>\n",
       "    <tr>\n",
       "      <th>0</th>\n",
       "      <td>0</td>\n",
       "      <td>high</td>\n",
       "    </tr>\n",
       "    <tr>\n",
       "      <th>1</th>\n",
       "      <td>1</td>\n",
       "      <td>low</td>\n",
       "    </tr>\n",
       "    <tr>\n",
       "      <th>2</th>\n",
       "      <td>2</td>\n",
       "      <td>normal</td>\n",
       "    </tr>\n",
       "    <tr>\n",
       "      <th>3</th>\n",
       "      <td>3</td>\n",
       "      <td>high</td>\n",
       "    </tr>\n",
       "    <tr>\n",
       "      <th>4</th>\n",
       "      <td>4</td>\n",
       "      <td>normal</td>\n",
       "    </tr>\n",
       "    <tr>\n",
       "      <th>5</th>\n",
       "      <td>5</td>\n",
       "      <td>low</td>\n",
       "    </tr>\n",
       "    <tr>\n",
       "      <th>6</th>\n",
       "      <td>6</td>\n",
       "      <td>high</td>\n",
       "    </tr>\n",
       "    <tr>\n",
       "      <th>7</th>\n",
       "      <td>7</td>\n",
       "      <td>low</td>\n",
       "    </tr>\n",
       "    <tr>\n",
       "      <th>8</th>\n",
       "      <td>8</td>\n",
       "      <td>low</td>\n",
       "    </tr>\n",
       "    <tr>\n",
       "      <th>9</th>\n",
       "      <td>9</td>\n",
       "      <td>low</td>\n",
       "    </tr>\n",
       "    <tr>\n",
       "      <th>10</th>\n",
       "      <td>10</td>\n",
       "      <td>low</td>\n",
       "    </tr>\n",
       "    <tr>\n",
       "      <th>11</th>\n",
       "      <td>11</td>\n",
       "      <td>low</td>\n",
       "    </tr>\n",
       "    <tr>\n",
       "      <th>12</th>\n",
       "      <td>12</td>\n",
       "      <td>high</td>\n",
       "    </tr>\n",
       "    <tr>\n",
       "      <th>13</th>\n",
       "      <td>13</td>\n",
       "      <td>low</td>\n",
       "    </tr>\n",
       "    <tr>\n",
       "      <th>14</th>\n",
       "      <td>14</td>\n",
       "      <td>low</td>\n",
       "    </tr>\n",
       "    <tr>\n",
       "      <th>15</th>\n",
       "      <td>15</td>\n",
       "      <td>normal</td>\n",
       "    </tr>\n",
       "    <tr>\n",
       "      <th>16</th>\n",
       "      <td>16</td>\n",
       "      <td>low</td>\n",
       "    </tr>\n",
       "    <tr>\n",
       "      <th>17</th>\n",
       "      <td>17</td>\n",
       "      <td>low</td>\n",
       "    </tr>\n",
       "    <tr>\n",
       "      <th>18</th>\n",
       "      <td>18</td>\n",
       "      <td>low</td>\n",
       "    </tr>\n",
       "    <tr>\n",
       "      <th>19</th>\n",
       "      <td>19</td>\n",
       "      <td>low</td>\n",
       "    </tr>\n",
       "  </tbody>\n",
       "</table>\n",
       "</div>"
      ],
      "text/plain": [
       "    carIDs  speeds\n",
       "0        0    high\n",
       "1        1     low\n",
       "2        2  normal\n",
       "3        3    high\n",
       "4        4  normal\n",
       "5        5     low\n",
       "6        6    high\n",
       "7        7     low\n",
       "8        8     low\n",
       "9        9     low\n",
       "10      10     low\n",
       "11      11     low\n",
       "12      12    high\n",
       "13      13     low\n",
       "14      14     low\n",
       "15      15  normal\n",
       "16      16     low\n",
       "17      17     low\n",
       "18      18     low\n",
       "19      19     low"
      ]
     },
     "execution_count": 34,
     "metadata": {},
     "output_type": "execute_result"
    }
   ],
   "source": [
    "carIDs = np.arange(20)\n",
    "speeds = []\n",
    "for i in range(len(carIDs)):\n",
    "    speeds.append(np.random.randint(40, 80))\n",
    "\n",
    "df = pd.DataFrame([carIDs, speeds]).transpose()\n",
    "df.columns = ['carIDs', 'speeds']\n",
    "    \n",
    "print(\"A dataframe with car IDs and speeds in mph:\\n\\n\", df)\n",
    "\n",
    "#replace speed values with 'low', 'average' or 'high' values in the dataframe\n",
    "for i in range(len(carIDs)):\n",
    "    if df.iloc[i,1] < 55:\n",
    "        df.iloc[i,1] = 'low'\n",
    "    elif df.iloc[i,1] > 65:\n",
    "        df.iloc[i,1] = 'high'\n",
    "    elif df.iloc[i,1] >= 55 and df.iloc[i,1] <= 65:\n",
    "        df.iloc[i,1] = 'normal'\n",
    "    else:\n",
    "        df.iloc[i,1] = 'something wrong?'\n",
    "\n",
    "print(\"The dataframe with bucketized categories\")\n",
    "df"
   ]
  },
  {
   "cell_type": "markdown",
   "metadata": {},
   "source": [
    "In case you would like to keep the original values, we can create a new feature:"
   ]
  },
  {
   "cell_type": "code",
   "execution_count": null,
   "metadata": {},
   "outputs": [],
   "source": [
    "carIDs = np.arange(20)\n",
    "speeds = []\n",
    "for i in range(len(carIDs)):\n",
    "    speeds.append(np.random.randint(40, 80))\n",
    "\n",
    "df = pd.DataFrame([carIDs, speeds]).transpose()\n",
    "df.columns = ['carIDs', 'speeds']\n",
    "#create a new feature and populate with initial NaNs\n",
    "df.loc[:,'speedCategories'] = np.nan\n",
    "\n",
    "print(\"A dataframe with car IDs and speeds in mph:\\n\\n\", df)\n",
    "\n",
    "#replace speed values with 'low', 'average' or 'high' values in the dataframe\n",
    "for i in range(len(carIDs)):\n",
    "    if df.iloc[i,1] < 55:\n",
    "        df.loc[i,'speedCategories'] = 'low'\n",
    "        # df.iloc[i,2] = 'low'\n",
    "    elif df.iloc[i,1] > 65:\n",
    "        df.loc[i,'speedCategories'] = 'high'\n",
    "        #df.iloc[i,2] = 'high'\n",
    "    elif df.iloc[i,1] >= 55 and df.iloc[i,1] <= 65:\n",
    "        df.loc[i,'speedCategories'] = 'normal'\n",
    "        #df.iloc[i,2] = 'average'\n",
    "    else:\n",
    "        df.loc[i,'speedCategories'] = 'something wrong?'\n",
    "        #df.iloc[i,2] = 'something wrong?'\n",
    "\n",
    "print(\"\\nThe dataframe with bucketized categories\")\n",
    "df"
   ]
  },
  {
   "cell_type": "markdown",
   "metadata": {},
   "source": [
    "Notice the creation of a new feature and using either .loc or .iloc"
   ]
  },
  {
   "cell_type": "markdown",
   "metadata": {},
   "source": [
    "Now get to the same using fewer lines:"
   ]
  },
  {
   "cell_type": "code",
   "execution_count": null,
   "metadata": {},
   "outputs": [],
   "source": [
    "df = pd.DataFrame(np.arange(20), columns=['carID'])\n",
    "df['speed'] = np.random.randint(40, 80, 20)\n",
    "df['category'] = np.nan\n",
    "df.loc[df['speed']>65, 'category'] = 'high'\n",
    "df.loc[df['speed']<55, 'category'] = 'low'\n",
    "df.loc[(df['speed']<=65) & (df['speed']>=55), 'category'] = 'normal'\n",
    "df"
   ]
  },
  {
   "cell_type": "markdown",
   "metadata": {},
   "source": [
    "... or even shorter using <b>.cut()<b>"
   ]
  },
  {
   "cell_type": "code",
   "execution_count": null,
   "metadata": {},
   "outputs": [],
   "source": [
    "df = pd.DataFrame(np.arange(20), columns=['carID'])\n",
    "df['speed'] = np.random.randint(40, 80, 20)\n",
    "df['speed_category'] = pd.cut(df.speed, bins=[0, 55, 65, 1000], labels=['low', 'normal', 'high'])\n",
    "df"
   ]
  },
  {
   "cell_type": "markdown",
   "metadata": {},
   "source": [
    "Do the same but in-place if we don't need the specific values for the feature but categories only:"
   ]
  },
  {
   "cell_type": "code",
   "execution_count": null,
   "metadata": {},
   "outputs": [],
   "source": [
    "df = pd.DataFrame(np.arange(20), columns=['carID'])\n",
    "df['speed'] = np.random.randint(40, 80, 20)\n",
    "df['speed'] = pd.cut(df.speed, bins=[0, 55, 65, 1000], labels=['low', 'normal', 'high'])\n",
    "df"
   ]
  },
  {
   "attachments": {
    "NormalDist_STDDev.jpg": {
     "image/jpeg": "[encoded data removed]"
    }
   },
   "cell_type": "markdown",
   "metadata": {},
   "source": [
    "### Detecting outliers\n",
    "#### Normal Distribution and Standard Deviation\n",
    "Often data is normally distributed, the frequency of values are shaping a bell curve and most values tend to be in the middle, around the mean:\n",
    "![NormalDist_STDDev.jpg](attachment:NormalDist_STDDev.jpg)\n",
    "\n",
    "#### Anomaly\n",
    "An anomaly is a pattern in data which does not conform to expected behavior\n",
    "* Considered incorrect\n",
    "* Example: negative time, distance, etc.\n",
    "\n",
    "#### Outlier\n",
    "An outlier is deviation(s!) away from the expected outcome\n",
    "* Considered correct\n",
    "* Example: certain values stand out and may be much higher or lower than expected\n",
    "        - close to zero distance where the rest of the values are \"miles\" away\n",
    "        - a very long distance, more than 3 standard deviatons away from the mean\n",
    "\n",
    "For example when most temperature values range between 0 and 30 a value of 100 or -100 is most likely a value we consider an outlier\n",
    "\n",
    "#### What is the difference between anomaly and outliers?\n",
    "In some way there are no differences, we often want to exclude outliers/anomalies\n",
    "\n",
    "#### Anomaly (or Outlier) detection:\n",
    "The identification of rare items, (values, events or observations) which raise suspicion by being significantly different from the majority of the data.\n",
    "\n",
    "The measure of being significantly different is often (at least) 3 * standard deviation in a normally distributed data.\n",
    "\n",
    "#### Example\n",
    "Create a series with random numbers\n",
    " - filter out very low and very high values\n",
    " - replace these values with set thresholds"
   ]
  },
  {
   "cell_type": "code",
   "execution_count": 35,
   "metadata": {},
   "outputs": [],
   "source": [
    "# create a Series 2000 values\n",
    "# every value is a float with mean = 0 and 1 standard deviation\n",
    "ser = pd.Series(np.random.randn(5000))"
   ]
  },
  {
   "cell_type": "markdown",
   "metadata": {},
   "source": [
    "Peak at the series:"
   ]
  },
  {
   "cell_type": "code",
   "execution_count": 36,
   "metadata": {},
   "outputs": [
    {
     "data": {
      "text/plain": [
       "4995    0.189430\n",
       "4996    0.740553\n",
       "4997   -0.295467\n",
       "4998   -0.347803\n",
       "4999    0.706080\n",
       "dtype: float64"
      ]
     },
     "execution_count": 36,
     "metadata": {},
     "output_type": "execute_result"
    }
   ],
   "source": [
    "ser.tail()"
   ]
  },
  {
   "cell_type": "markdown",
   "metadata": {},
   "source": [
    "Check basic stats:"
   ]
  },
  {
   "cell_type": "code",
   "execution_count": 37,
   "metadata": {},
   "outputs": [
    {
     "data": {
      "text/plain": [
       "count    5000.000000\n",
       "mean       -0.004391\n",
       "std         0.998367\n",
       "min        -4.108736\n",
       "25%        -0.686861\n",
       "50%        -0.000572\n",
       "75%         0.662529\n",
       "max         3.586360\n",
       "dtype: float64"
      ]
     },
     "execution_count": 37,
     "metadata": {},
     "output_type": "execute_result"
    }
   ],
   "source": [
    "ser.describe()"
   ]
  },
  {
   "cell_type": "markdown",
   "metadata": {},
   "source": [
    "Filter for outliers (3 standard deviations away from mean):"
   ]
  },
  {
   "cell_type": "code",
   "execution_count": 38,
   "metadata": {},
   "outputs": [
    {
     "data": {
      "text/plain": [
       "20     -3.002368\n",
       "227    -3.225099\n",
       "647    -3.123127\n",
       "1078    3.586360\n",
       "1547   -3.088064\n",
       "1764   -4.108736\n",
       "2009    3.050511\n",
       "3158    3.009117\n",
       "3579    3.465792\n",
       "3865    3.106657\n",
       "4105   -3.060535\n",
       "4531   -3.154848\n",
       "4718   -3.112275\n",
       "4760   -3.009627\n",
       "dtype: float64"
      ]
     },
     "execution_count": 38,
     "metadata": {},
     "output_type": "execute_result"
    }
   ],
   "source": [
    "ser[np.abs(ser) > 3]"
   ]
  },
  {
   "cell_type": "markdown",
   "metadata": {},
   "source": [
    "Note the few values and their indices\n",
    "\n",
    "Now replace these values with +/-3 threshold values:"
   ]
  },
  {
   "cell_type": "code",
   "execution_count": 39,
   "metadata": {},
   "outputs": [
    {
     "data": {
      "text/plain": [
       "count    5000.000000\n",
       "mean       -0.004258\n",
       "std         0.996308\n",
       "min        -3.000000\n",
       "25%        -0.686861\n",
       "50%        -0.000572\n",
       "75%         0.662529\n",
       "max         3.000000\n",
       "dtype: float64"
      ]
     },
     "execution_count": 39,
     "metadata": {},
     "output_type": "execute_result"
    }
   ],
   "source": [
    "ser[np.abs(ser) > 3] = np.sign(ser) * 3\n",
    "ser.describe()"
   ]
  },
  {
   "cell_type": "markdown",
   "metadata": {},
   "source": [
    "Notice the min/max values are now +/-3\n",
    "\n",
    "Double check few specific (previously) outlier values:"
   ]
  },
  {
   "cell_type": "code",
   "execution_count": 40,
   "metadata": {},
   "outputs": [
    {
     "name": "stdout",
     "output_type": "stream",
     "text": [
      "0.39696893764975977\n",
      "-0.9548539194090411\n"
     ]
    }
   ],
   "source": [
    "# note the indices will need to be modified if preceding notebook cells were reran \n",
    "print(ser[4449])\n",
    "print(ser[4549])"
   ]
  },
  {
   "cell_type": "markdown",
   "metadata": {},
   "source": [
    "#### Homework 14.1:\n",
    "- Create a dataframe with shape (100, 3)\n",
    "- Populate with random integer values between 1 and 4\n",
    "- Populate 10 NaN values randomly\n",
    "- Fill in all the NaN values with integer 1\n",
    "- Replace all the 4s with 3 \n",
    "- Remove duplicate rows\n",
    "- How many rows are in the final dataframe\n",
    "- Print the final dataframe\n",
    "- Extra: simulate and estimate the average number of rows in the final dataframe "
   ]
  },
  {
   "cell_type": "code",
   "execution_count": null,
   "metadata": {},
   "outputs": [],
   "source": [
    "# Homework 14.1 code comes here:\n",
    "\n"
   ]
  },
  {
   "cell_type": "markdown",
   "metadata": {},
   "source": [
    "#### Homework 14.2:\n",
    "\n",
    "Create a dataframe with random numbers\n",
    " - 3 features\n",
    " - values with normal distribution with a set mean and a set standard deviation\n",
    " - filter out outliers (using +/-3 standard deviation in each column\n",
    " - replace these values with the same calculated +/-3 standard deviation thresholds in each column"
   ]
  },
  {
   "cell_type": "code",
   "execution_count": null,
   "metadata": {},
   "outputs": [],
   "source": [
    "# Homework 14.2 code comes here:\n",
    "\n"
   ]
  },
  {
   "cell_type": "markdown",
   "metadata": {},
   "source": [
    "#### Homework 14.3:\n",
    "\n",
    "Create a grader which converts exam scores to grades\n",
    "- Create a dataframe with 1000 observations and 2 features\n",
    "    + student IDs\n",
    "    + scores on a midterm exam\n",
    "    + scores should reflect normal distribution with mean of 70% and standard deviation of 10%\n",
    "    + values with normal distribution with a set mean and a set standard deviation\n",
    "    + verify if scores are all valid\n",
    "    + add a new feature called 'grade'\n",
    "    + display histogram of scores\n",
    "    + display histogram of grades"
   ]
  },
  {
   "cell_type": "code",
   "execution_count": null,
   "metadata": {},
   "outputs": [],
   "source": [
    "# Homework 14.3 code comes here:\n",
    "\n"
   ]
  }
 ],
 "metadata": {
  "kernelspec": {
   "display_name": "Python 3",
   "language": "python",
   "name": "python3"
  },
  "language_info": {
   "codemirror_mode": {
    "name": "ipython",
    "version": 3
   },
   "file_extension": ".py",
   "mimetype": "text/x-python",
   "name": "python",
   "nbconvert_exporter": "python",
   "pygments_lexer": "ipython3",
   "version": "3.8.3"
  }
 },
 "nbformat": 4,
 "nbformat_minor": 2
}
