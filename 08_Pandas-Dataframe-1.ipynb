{
 "cells": [
  {
   "cell_type": "markdown",
   "metadata": {},
   "source": [
    "Pandas library was first developed by Wes McKinney in 2008 for data manipulation and analysis."
   ]
  },
  {
   "cell_type": "markdown",
   "metadata": {},
   "source": [
    "#### References:\n",
    "    www.python.org\n",
    "    www.numpy.org\n",
    "    www.matplotlib.org\n",
    "    https://pandas.pydata.org"
   ]
  },
  {
   "cell_type": "markdown",
   "metadata": {},
   "source": [
    "#### Questions/feedback: petert@digipen.edu"
   ]
  },
  {
   "cell_type": "markdown",
   "metadata": {},
   "source": [
    "# Chapter08: Pandas Dataframe\n",
    "## pandas\n",
    "   - DataFrame, Index\n",
    "   - Data Manipulation\n",
    "   - <font color=\"grey\">Selection and Filtering</font>\n",
    "   - <font color=\"grey\">Descriptive Statistics</font>\n",
    "   - <font color=\"grey\">Read, Write and Load Data</font>"
   ]
  },
  {
   "cell_type": "markdown",
   "metadata": {},
   "source": [
    "### Import pandas:\n",
    "    using 'pd'  is standard by Python users\n",
    "    import frequently used DataFrame and Series onto local namespace is a good practice"
   ]
  },
  {
   "cell_type": "code",
   "execution_count": 1,
   "metadata": {},
   "outputs": [],
   "source": [
    "import pandas as pd                     # using 'pd'  is standard by Python users\n",
    "from pandas import DataFrame            # optional, good practice\n",
    "from pandas import Series               # optional, good practice\n",
    "\n",
    "import numpy as np\n",
    "from matplotlib import pyplot as plt\n",
    "#from matplotlib import colors\n",
    "%matplotlib notebook"
   ]
  },
  {
   "cell_type": "markdown",
   "metadata": {},
   "source": [
    "## DataFrame\n",
    "    - rectangular data (table, spreadsheet), similar to an array of arrays\n",
    "    - ordered set of columns\n",
    "    - each column could have different type: str, int, float, boolean, ...\n",
    "    - column index and row index\n",
    "    - can be interpreted as a dictionary of Series (using the same index)\n",
    "##### Examples and basic funtionality:"
   ]
  },
  {
   "cell_type": "markdown",
   "metadata": {},
   "source": [
    "Create a dataframe using numpy array:"
   ]
  },
  {
   "cell_type": "code",
   "execution_count": 5,
   "metadata": {},
   "outputs": [
    {
     "data": {
      "text/plain": [
       "a    A\n",
       "c    B\n",
       "a    C\n",
       "b    D\n",
       "dtype: object"
      ]
     },
     "execution_count": 5,
     "metadata": {},
     "output_type": "execute_result"
    }
   ],
   "source": [
    "frame = pd.Series([\"A\", \"B\", \"C\", \"D\"], index=['a', 'c', 'a', 'b'])\n",
    "frame"
   ]
  },
  {
   "cell_type": "markdown",
   "metadata": {},
   "source": [
    "Create a dataframe using random numbers:"
   ]
  },
  {
   "cell_type": "code",
   "execution_count": 3,
   "metadata": {},
   "outputs": [
    {
     "data": {
      "text/html": [
       "<div>\n",
       "<style scoped>\n",
       "    .dataframe tbody tr th:only-of-type {\n",
       "        vertical-align: middle;\n",
       "    }\n",
       "\n",
       "    .dataframe tbody tr th {\n",
       "        vertical-align: top;\n",
       "    }\n",
       "\n",
       "    .dataframe thead th {\n",
       "        text-align: right;\n",
       "    }\n",
       "</style>\n",
       "<table border=\"1\" class=\"dataframe\">\n",
       "  <thead>\n",
       "    <tr style=\"text-align: right;\">\n",
       "      <th></th>\n",
       "      <th>0</th>\n",
       "      <th>1</th>\n",
       "      <th>2</th>\n",
       "      <th>3</th>\n",
       "      <th>4</th>\n",
       "      <th>5</th>\n",
       "    </tr>\n",
       "  </thead>\n",
       "  <tbody>\n",
       "    <tr>\n",
       "      <th>0</th>\n",
       "      <td>-1.947631</td>\n",
       "      <td>0.766271</td>\n",
       "      <td>0.336814</td>\n",
       "      <td>1.347330</td>\n",
       "      <td>-2.578976</td>\n",
       "      <td>-0.368000</td>\n",
       "    </tr>\n",
       "    <tr>\n",
       "      <th>1</th>\n",
       "      <td>0.630119</td>\n",
       "      <td>-0.327587</td>\n",
       "      <td>0.688915</td>\n",
       "      <td>1.205419</td>\n",
       "      <td>-0.314027</td>\n",
       "      <td>-0.668913</td>\n",
       "    </tr>\n",
       "    <tr>\n",
       "      <th>2</th>\n",
       "      <td>0.941710</td>\n",
       "      <td>-0.437933</td>\n",
       "      <td>0.655168</td>\n",
       "      <td>2.349226</td>\n",
       "      <td>1.047685</td>\n",
       "      <td>1.864085</td>\n",
       "    </tr>\n",
       "    <tr>\n",
       "      <th>3</th>\n",
       "      <td>-0.661770</td>\n",
       "      <td>-0.642260</td>\n",
       "      <td>2.486700</td>\n",
       "      <td>-0.277238</td>\n",
       "      <td>-0.705061</td>\n",
       "      <td>0.364535</td>\n",
       "    </tr>\n",
       "  </tbody>\n",
       "</table>\n",
       "</div>"
      ],
      "text/plain": [
       "          0         1         2         3         4         5\n",
       "0 -1.947631  0.766271  0.336814  1.347330 -2.578976 -0.368000\n",
       "1  0.630119 -0.327587  0.688915  1.205419 -0.314027 -0.668913\n",
       "2  0.941710 -0.437933  0.655168  2.349226  1.047685  1.864085\n",
       "3 -0.661770 -0.642260  2.486700 -0.277238 -0.705061  0.364535"
      ]
     },
     "execution_count": 3,
     "metadata": {},
     "output_type": "execute_result"
    }
   ],
   "source": [
    "frame = pd.DataFrame(np.random.randn(24).reshape(4,6))\n",
    "frame"
   ]
  },
  {
   "cell_type": "markdown",
   "metadata": {},
   "source": [
    "Create a dataframe using list of lists:"
   ]
  },
  {
   "cell_type": "code",
   "execution_count": 4,
   "metadata": {},
   "outputs": [
    {
     "data": {
      "text/html": [
       "<div>\n",
       "<style scoped>\n",
       "    .dataframe tbody tr th:only-of-type {\n",
       "        vertical-align: middle;\n",
       "    }\n",
       "\n",
       "    .dataframe tbody tr th {\n",
       "        vertical-align: top;\n",
       "    }\n",
       "\n",
       "    .dataframe thead th {\n",
       "        text-align: right;\n",
       "    }\n",
       "</style>\n",
       "<table border=\"1\" class=\"dataframe\">\n",
       "  <thead>\n",
       "    <tr style=\"text-align: right;\">\n",
       "      <th></th>\n",
       "      <th>0</th>\n",
       "      <th>1</th>\n",
       "      <th>2</th>\n",
       "    </tr>\n",
       "  </thead>\n",
       "  <tbody>\n",
       "    <tr>\n",
       "      <th>0</th>\n",
       "      <td>2019</td>\n",
       "      <td>CS232</td>\n",
       "      <td>Data Analytics</td>\n",
       "    </tr>\n",
       "    <tr>\n",
       "      <th>1</th>\n",
       "      <td>2019</td>\n",
       "      <td>CS372</td>\n",
       "      <td>Machine Learning I</td>\n",
       "    </tr>\n",
       "    <tr>\n",
       "      <th>2</th>\n",
       "      <td>2020</td>\n",
       "      <td>CS232</td>\n",
       "      <td>Data Analytics</td>\n",
       "    </tr>\n",
       "    <tr>\n",
       "      <th>3</th>\n",
       "      <td>2020</td>\n",
       "      <td>CS373</td>\n",
       "      <td>Machine Learning II</td>\n",
       "    </tr>\n",
       "    <tr>\n",
       "      <th>4</th>\n",
       "      <td>2021</td>\n",
       "      <td>CS376</td>\n",
       "      <td>Deep Learning</td>\n",
       "    </tr>\n",
       "    <tr>\n",
       "      <th>5</th>\n",
       "      <td>2021</td>\n",
       "      <td>CS312</td>\n",
       "      <td>Big Data</td>\n",
       "    </tr>\n",
       "    <tr>\n",
       "      <th>6</th>\n",
       "      <td>2021</td>\n",
       "      <td>CS372</td>\n",
       "      <td>Machine Learning I</td>\n",
       "    </tr>\n",
       "  </tbody>\n",
       "</table>\n",
       "</div>"
      ],
      "text/plain": [
       "      0      1                    2\n",
       "0  2019  CS232       Data Analytics\n",
       "1  2019  CS372   Machine Learning I\n",
       "2  2020  CS232       Data Analytics\n",
       "3  2020  CS373  Machine Learning II\n",
       "4  2021  CS376        Deep Learning\n",
       "5  2021  CS312             Big Data\n",
       "6  2021  CS372   Machine Learning I"
      ]
     },
     "execution_count": 4,
     "metadata": {},
     "output_type": "execute_result"
    }
   ],
   "source": [
    "list = [    [2019, 2019, 2020, 2020, 2021, 2021, 2021], \n",
    "            ['CS232', 'CS372', 'CS232', 'CS373', 'CS376', 'CS312', 'CS372'], \n",
    "            ['Data Analytics', 'Machine Learning I', 'Data Analytics', 'Machine Learning II', 'Deep Learning', 'Big Data', 'Machine Learning I']\n",
    "       ]\n",
    "frame = pd.DataFrame(list)\n",
    "frame = pd.DataFrame(list).T\n",
    "frame"
   ]
  },
  {
   "cell_type": "markdown",
   "metadata": {},
   "source": [
    "Create a dictionary of lists as a base for a dataframe:"
   ]
  },
  {
   "cell_type": "code",
   "execution_count": 5,
   "metadata": {},
   "outputs": [],
   "source": [
    "data = {\n",
    "    'year':       [2019, 2019, 2020, 2020, 2021, 2021, 2021],\n",
    "    'courseID':   ['CS232', 'CS372', 'CS232', 'CS373', 'CS376', 'CS312', 'CS372'],\n",
    "    'courseName': ['Data Analytics', 'Machine Learning I', 'Data Analytics', 'Machine Learning II', 'Deep Learning', 'Big Data', 'Machine Learning I']\n",
    "}"
   ]
  },
  {
   "cell_type": "markdown",
   "metadata": {},
   "source": [
    "Create dataframe using the prepared dictionary of lists:"
   ]
  },
  {
   "cell_type": "code",
   "execution_count": 6,
   "metadata": {
    "scrolled": true
   },
   "outputs": [
    {
     "name": "stdout",
     "output_type": "stream",
     "text": [
      "   year courseID           courseName\n",
      "0  2019    CS232       Data Analytics\n",
      "1  2019    CS372   Machine Learning I\n",
      "2  2020    CS232       Data Analytics\n",
      "3  2020    CS373  Machine Learning II\n",
      "4  2021    CS376        Deep Learning\n",
      "5  2021    CS312             Big Data\n",
      "6  2021    CS372   Machine Learning I\n"
     ]
    }
   ],
   "source": [
    "# create dataframe\n",
    "frame = pd.DataFrame(data)\n",
    "print(frame)"
   ]
  },
  {
   "cell_type": "code",
   "execution_count": 7,
   "metadata": {},
   "outputs": [
    {
     "data": {
      "text/html": [
       "<div>\n",
       "<style scoped>\n",
       "    .dataframe tbody tr th:only-of-type {\n",
       "        vertical-align: middle;\n",
       "    }\n",
       "\n",
       "    .dataframe tbody tr th {\n",
       "        vertical-align: top;\n",
       "    }\n",
       "\n",
       "    .dataframe thead th {\n",
       "        text-align: right;\n",
       "    }\n",
       "</style>\n",
       "<table border=\"1\" class=\"dataframe\">\n",
       "  <thead>\n",
       "    <tr style=\"text-align: right;\">\n",
       "      <th></th>\n",
       "      <th>year</th>\n",
       "      <th>courseID</th>\n",
       "      <th>courseName</th>\n",
       "    </tr>\n",
       "  </thead>\n",
       "  <tbody>\n",
       "    <tr>\n",
       "      <th>0</th>\n",
       "      <td>2019</td>\n",
       "      <td>CS232</td>\n",
       "      <td>Data Analytics</td>\n",
       "    </tr>\n",
       "    <tr>\n",
       "      <th>1</th>\n",
       "      <td>2019</td>\n",
       "      <td>CS372</td>\n",
       "      <td>Machine Learning I</td>\n",
       "    </tr>\n",
       "    <tr>\n",
       "      <th>2</th>\n",
       "      <td>2020</td>\n",
       "      <td>CS232</td>\n",
       "      <td>Data Analytics</td>\n",
       "    </tr>\n",
       "    <tr>\n",
       "      <th>3</th>\n",
       "      <td>2020</td>\n",
       "      <td>CS373</td>\n",
       "      <td>Machine Learning II</td>\n",
       "    </tr>\n",
       "    <tr>\n",
       "      <th>4</th>\n",
       "      <td>2021</td>\n",
       "      <td>CS376</td>\n",
       "      <td>Deep Learning</td>\n",
       "    </tr>\n",
       "    <tr>\n",
       "      <th>5</th>\n",
       "      <td>2021</td>\n",
       "      <td>CS312</td>\n",
       "      <td>Big Data</td>\n",
       "    </tr>\n",
       "    <tr>\n",
       "      <th>6</th>\n",
       "      <td>2021</td>\n",
       "      <td>CS372</td>\n",
       "      <td>Machine Learning I</td>\n",
       "    </tr>\n",
       "  </tbody>\n",
       "</table>\n",
       "</div>"
      ],
      "text/plain": [
       "   year courseID           courseName\n",
       "0  2019    CS232       Data Analytics\n",
       "1  2019    CS372   Machine Learning I\n",
       "2  2020    CS232       Data Analytics\n",
       "3  2020    CS373  Machine Learning II\n",
       "4  2021    CS376        Deep Learning\n",
       "5  2021    CS312             Big Data\n",
       "6  2021    CS372   Machine Learning I"
      ]
     },
     "execution_count": 7,
     "metadata": {},
     "output_type": "execute_result"
    }
   ],
   "source": [
    "frame"
   ]
  },
  {
   "cell_type": "markdown",
   "metadata": {},
   "source": [
    "The use of *head* and *tail* methods allows a peak at the data and its structure at the beginning and the end:"
   ]
  },
  {
   "cell_type": "code",
   "execution_count": 9,
   "metadata": {},
   "outputs": [
    {
     "name": "stdout",
     "output_type": "stream",
     "text": [
      "   year courseID           courseName\n",
      "0  2019    CS232       Data Analytics\n",
      "1  2019    CS372   Machine Learning I\n",
      "2  2020    CS232       Data Analytics\n",
      "3  2020    CS373  Machine Learning II\n",
      "4  2021    CS376        Deep Learning\n"
     ]
    },
    {
     "data": {
      "text/html": [
       "<div>\n",
       "<style scoped>\n",
       "    .dataframe tbody tr th:only-of-type {\n",
       "        vertical-align: middle;\n",
       "    }\n",
       "\n",
       "    .dataframe tbody tr th {\n",
       "        vertical-align: top;\n",
       "    }\n",
       "\n",
       "    .dataframe thead th {\n",
       "        text-align: right;\n",
       "    }\n",
       "</style>\n",
       "<table border=\"1\" class=\"dataframe\">\n",
       "  <thead>\n",
       "    <tr style=\"text-align: right;\">\n",
       "      <th></th>\n",
       "      <th>year</th>\n",
       "      <th>courseID</th>\n",
       "      <th>courseName</th>\n",
       "    </tr>\n",
       "  </thead>\n",
       "  <tbody>\n",
       "    <tr>\n",
       "      <th>4</th>\n",
       "      <td>2021</td>\n",
       "      <td>CS376</td>\n",
       "      <td>Deep Learning</td>\n",
       "    </tr>\n",
       "    <tr>\n",
       "      <th>5</th>\n",
       "      <td>2021</td>\n",
       "      <td>CS312</td>\n",
       "      <td>Big Data</td>\n",
       "    </tr>\n",
       "    <tr>\n",
       "      <th>6</th>\n",
       "      <td>2021</td>\n",
       "      <td>CS372</td>\n",
       "      <td>Machine Learning I</td>\n",
       "    </tr>\n",
       "  </tbody>\n",
       "</table>\n",
       "</div>"
      ],
      "text/plain": [
       "   year courseID          courseName\n",
       "4  2021    CS376       Deep Learning\n",
       "5  2021    CS312            Big Data\n",
       "6  2021    CS372  Machine Learning I"
      ]
     },
     "execution_count": 9,
     "metadata": {},
     "output_type": "execute_result"
    }
   ],
   "source": [
    "# peak at the first 5 rows\n",
    "print(frame.head())\n",
    "# peak at the last  2 rows\n",
    "frame.tail(3)"
   ]
  },
  {
   "cell_type": "markdown",
   "metadata": {},
   "source": [
    "Note that print removes Pandas formatting of the dataframe"
   ]
  },
  {
   "cell_type": "markdown",
   "metadata": {},
   "source": [
    "Create another dataframe using 'data' and\n",
    "- add another column\n",
    "- specify different than default row indices"
   ]
  },
  {
   "cell_type": "code",
   "execution_count": 10,
   "metadata": {},
   "outputs": [
    {
     "data": {
      "text/html": [
       "<div>\n",
       "<style scoped>\n",
       "    .dataframe tbody tr th:only-of-type {\n",
       "        vertical-align: middle;\n",
       "    }\n",
       "\n",
       "    .dataframe tbody tr th {\n",
       "        vertical-align: top;\n",
       "    }\n",
       "\n",
       "    .dataframe thead th {\n",
       "        text-align: right;\n",
       "    }\n",
       "</style>\n",
       "<table border=\"1\" class=\"dataframe\">\n",
       "  <thead>\n",
       "    <tr style=\"text-align: right;\">\n",
       "      <th></th>\n",
       "      <th>year</th>\n",
       "      <th>courseID</th>\n",
       "      <th>courseName</th>\n",
       "      <th>day</th>\n",
       "    </tr>\n",
       "  </thead>\n",
       "  <tbody>\n",
       "    <tr>\n",
       "      <th>a</th>\n",
       "      <td>2019</td>\n",
       "      <td>CS232</td>\n",
       "      <td>Data Analytics</td>\n",
       "      <td>NaN</td>\n",
       "    </tr>\n",
       "    <tr>\n",
       "      <th>b</th>\n",
       "      <td>2019</td>\n",
       "      <td>CS372</td>\n",
       "      <td>Machine Learning I</td>\n",
       "      <td>NaN</td>\n",
       "    </tr>\n",
       "    <tr>\n",
       "      <th>c</th>\n",
       "      <td>2020</td>\n",
       "      <td>CS232</td>\n",
       "      <td>Data Analytics</td>\n",
       "      <td>NaN</td>\n",
       "    </tr>\n",
       "    <tr>\n",
       "      <th>d</th>\n",
       "      <td>2020</td>\n",
       "      <td>CS373</td>\n",
       "      <td>Machine Learning II</td>\n",
       "      <td>NaN</td>\n",
       "    </tr>\n",
       "    <tr>\n",
       "      <th>e</th>\n",
       "      <td>2021</td>\n",
       "      <td>CS376</td>\n",
       "      <td>Deep Learning</td>\n",
       "      <td>NaN</td>\n",
       "    </tr>\n",
       "    <tr>\n",
       "      <th>f</th>\n",
       "      <td>2021</td>\n",
       "      <td>CS312</td>\n",
       "      <td>Big Data</td>\n",
       "      <td>NaN</td>\n",
       "    </tr>\n",
       "    <tr>\n",
       "      <th>g</th>\n",
       "      <td>2021</td>\n",
       "      <td>CS372</td>\n",
       "      <td>Machine Learning I</td>\n",
       "      <td>NaN</td>\n",
       "    </tr>\n",
       "  </tbody>\n",
       "</table>\n",
       "</div>"
      ],
      "text/plain": [
       "   year courseID           courseName  day\n",
       "a  2019    CS232       Data Analytics  NaN\n",
       "b  2019    CS372   Machine Learning I  NaN\n",
       "c  2020    CS232       Data Analytics  NaN\n",
       "d  2020    CS373  Machine Learning II  NaN\n",
       "e  2021    CS376        Deep Learning  NaN\n",
       "f  2021    CS312             Big Data  NaN\n",
       "g  2021    CS372   Machine Learning I  NaN"
      ]
     },
     "execution_count": 10,
     "metadata": {},
     "output_type": "execute_result"
    }
   ],
   "source": [
    "# create another dataframe using 'data' and \n",
    "# the same column names but\n",
    "#    add a new column\n",
    "#    specify indices different than the default 0, 1, 2, ...\n",
    "frame2 = pd.DataFrame(data, index=['a', 'b', 'c', 'd', 'e', 'f', 'g'], columns=['year', 'courseID', 'courseName', 'day'])\n",
    "frame2"
   ]
  },
  {
   "cell_type": "markdown",
   "metadata": {},
   "source": [
    "Examples of filtering and manipulating dataframes using column labels and row indices:"
   ]
  },
  {
   "cell_type": "code",
   "execution_count": 11,
   "metadata": {},
   "outputs": [
    {
     "data": {
      "text/plain": [
       "a    CS232\n",
       "b    CS372\n",
       "c    CS232\n",
       "d    CS373\n",
       "e    CS376\n",
       "f    CS312\n",
       "g    CS372\n",
       "Name: courseID, dtype: object"
      ]
     },
     "execution_count": 11,
     "metadata": {},
     "output_type": "execute_result"
    }
   ],
   "source": [
    "# retrieve a column using attribute of the dataframe\n",
    "frame2.courseID"
   ]
  },
  {
   "cell_type": "code",
   "execution_count": 12,
   "metadata": {},
   "outputs": [
    {
     "data": {
      "text/plain": [
       "a    2019\n",
       "b    2019\n",
       "c    2020\n",
       "d    2020\n",
       "e    2021\n",
       "f    2021\n",
       "g    2021\n",
       "Name: year, dtype: int64"
      ]
     },
     "execution_count": 12,
     "metadata": {},
     "output_type": "execute_result"
    }
   ],
   "source": [
    "# retrieve another column using attribute/property of the dataframe\n",
    "frame2.year"
   ]
  },
  {
   "cell_type": "code",
   "execution_count": 13,
   "metadata": {},
   "outputs": [
    {
     "data": {
      "text/plain": [
       "a         Data Analytics\n",
       "b     Machine Learning I\n",
       "c         Data Analytics\n",
       "d    Machine Learning II\n",
       "e          Deep Learning\n",
       "f               Big Data\n",
       "g     Machine Learning I\n",
       "Name: courseName, dtype: object"
      ]
     },
     "execution_count": 13,
     "metadata": {},
     "output_type": "execute_result"
    }
   ],
   "source": [
    "# retrieve a column using the column name of the dataframe\n",
    "frame2['courseName']"
   ]
  },
  {
   "cell_type": "markdown",
   "metadata": {},
   "source": [
    "Looks familiar?\n",
    "\n",
    "The result looks like a Pandas Series: index column, value column and type info"
   ]
  },
  {
   "cell_type": "code",
   "execution_count": 14,
   "metadata": {},
   "outputs": [
    {
     "data": {
      "text/plain": [
       "pandas.core.series.Series"
      ]
     },
     "execution_count": 14,
     "metadata": {},
     "output_type": "execute_result"
    }
   ],
   "source": [
    "# Check the type:\n",
    "type(frame2['courseName'])"
   ]
  },
  {
   "cell_type": "code",
   "execution_count": 15,
   "metadata": {},
   "outputs": [
    {
     "data": {
      "text/html": [
       "<div>\n",
       "<style scoped>\n",
       "    .dataframe tbody tr th:only-of-type {\n",
       "        vertical-align: middle;\n",
       "    }\n",
       "\n",
       "    .dataframe tbody tr th {\n",
       "        vertical-align: top;\n",
       "    }\n",
       "\n",
       "    .dataframe thead th {\n",
       "        text-align: right;\n",
       "    }\n",
       "</style>\n",
       "<table border=\"1\" class=\"dataframe\">\n",
       "  <thead>\n",
       "    <tr style=\"text-align: right;\">\n",
       "      <th></th>\n",
       "      <th>year</th>\n",
       "      <th>courseID</th>\n",
       "      <th>courseName</th>\n",
       "      <th>day</th>\n",
       "    </tr>\n",
       "  </thead>\n",
       "  <tbody>\n",
       "    <tr>\n",
       "      <th>a</th>\n",
       "      <td>2019</td>\n",
       "      <td>CS232</td>\n",
       "      <td>Data Analytics</td>\n",
       "      <td>NaN</td>\n",
       "    </tr>\n",
       "    <tr>\n",
       "      <th>b</th>\n",
       "      <td>2019</td>\n",
       "      <td>CS372</td>\n",
       "      <td>Machine Learning I</td>\n",
       "      <td>NaN</td>\n",
       "    </tr>\n",
       "    <tr>\n",
       "      <th>c</th>\n",
       "      <td>2020</td>\n",
       "      <td>CS232</td>\n",
       "      <td>Data Analytics</td>\n",
       "      <td>NaN</td>\n",
       "    </tr>\n",
       "    <tr>\n",
       "      <th>d</th>\n",
       "      <td>2020</td>\n",
       "      <td>CS373</td>\n",
       "      <td>Machine Learning II</td>\n",
       "      <td>NaN</td>\n",
       "    </tr>\n",
       "    <tr>\n",
       "      <th>e</th>\n",
       "      <td>2021</td>\n",
       "      <td>CS376</td>\n",
       "      <td>Deep Learning</td>\n",
       "      <td>NaN</td>\n",
       "    </tr>\n",
       "    <tr>\n",
       "      <th>f</th>\n",
       "      <td>2021</td>\n",
       "      <td>CS312</td>\n",
       "      <td>Big Data</td>\n",
       "      <td>NaN</td>\n",
       "    </tr>\n",
       "    <tr>\n",
       "      <th>g</th>\n",
       "      <td>2021</td>\n",
       "      <td>CS372</td>\n",
       "      <td>Machine Learning I</td>\n",
       "      <td>NaN</td>\n",
       "    </tr>\n",
       "  </tbody>\n",
       "</table>\n",
       "</div>"
      ],
      "text/plain": [
       "   year courseID           courseName  day\n",
       "a  2019    CS232       Data Analytics  NaN\n",
       "b  2019    CS372   Machine Learning I  NaN\n",
       "c  2020    CS232       Data Analytics  NaN\n",
       "d  2020    CS373  Machine Learning II  NaN\n",
       "e  2021    CS376        Deep Learning  NaN\n",
       "f  2021    CS312             Big Data  NaN\n",
       "g  2021    CS372   Machine Learning I  NaN"
      ]
     },
     "execution_count": 15,
     "metadata": {},
     "output_type": "execute_result"
    }
   ],
   "source": [
    "# Look at the previous dataframe again:\n",
    "frame2"
   ]
  },
  {
   "cell_type": "code",
   "execution_count": 16,
   "metadata": {},
   "outputs": [
    {
     "data": {
      "text/html": [
       "<div>\n",
       "<style scoped>\n",
       "    .dataframe tbody tr th:only-of-type {\n",
       "        vertical-align: middle;\n",
       "    }\n",
       "\n",
       "    .dataframe tbody tr th {\n",
       "        vertical-align: top;\n",
       "    }\n",
       "\n",
       "    .dataframe thead th {\n",
       "        text-align: right;\n",
       "    }\n",
       "</style>\n",
       "<table border=\"1\" class=\"dataframe\">\n",
       "  <thead>\n",
       "    <tr style=\"text-align: right;\">\n",
       "      <th></th>\n",
       "      <th>year</th>\n",
       "      <th>courseID</th>\n",
       "      <th>courseName</th>\n",
       "      <th>day</th>\n",
       "    </tr>\n",
       "  </thead>\n",
       "  <tbody>\n",
       "    <tr>\n",
       "      <th>a</th>\n",
       "      <td>2019</td>\n",
       "      <td>CS232</td>\n",
       "      <td>Data Analytics</td>\n",
       "      <td>Monday</td>\n",
       "    </tr>\n",
       "    <tr>\n",
       "      <th>b</th>\n",
       "      <td>2019</td>\n",
       "      <td>CS372</td>\n",
       "      <td>Machine Learning I</td>\n",
       "      <td>NaN</td>\n",
       "    </tr>\n",
       "    <tr>\n",
       "      <th>c</th>\n",
       "      <td>2020</td>\n",
       "      <td>CS232</td>\n",
       "      <td>Data Analytics</td>\n",
       "      <td>Wednesday</td>\n",
       "    </tr>\n",
       "    <tr>\n",
       "      <th>d</th>\n",
       "      <td>2020</td>\n",
       "      <td>CS373</td>\n",
       "      <td>Machine Learning II</td>\n",
       "      <td>Monday</td>\n",
       "    </tr>\n",
       "    <tr>\n",
       "      <th>e</th>\n",
       "      <td>2021</td>\n",
       "      <td>CS376</td>\n",
       "      <td>Deep Learning</td>\n",
       "      <td>NaN</td>\n",
       "    </tr>\n",
       "    <tr>\n",
       "      <th>f</th>\n",
       "      <td>2021</td>\n",
       "      <td>CS312</td>\n",
       "      <td>Big Data</td>\n",
       "      <td>Tuesday</td>\n",
       "    </tr>\n",
       "    <tr>\n",
       "      <th>g</th>\n",
       "      <td>2021</td>\n",
       "      <td>CS372</td>\n",
       "      <td>Machine Learning I</td>\n",
       "      <td>NaN</td>\n",
       "    </tr>\n",
       "  </tbody>\n",
       "</table>\n",
       "</div>"
      ],
      "text/plain": [
       "   year courseID           courseName        day\n",
       "a  2019    CS232       Data Analytics     Monday\n",
       "b  2019    CS372   Machine Learning I        NaN\n",
       "c  2020    CS232       Data Analytics  Wednesday\n",
       "d  2020    CS373  Machine Learning II     Monday\n",
       "e  2021    CS376        Deep Learning        NaN\n",
       "f  2021    CS312             Big Data    Tuesday\n",
       "g  2021    CS372   Machine Learning I        NaN"
      ]
     },
     "execution_count": 16,
     "metadata": {},
     "output_type": "execute_result"
    }
   ],
   "source": [
    "# modify existing values in dataframe using specific indices\n",
    "dayval = pd.Series(['Monday', 'Tuesday', 'Wednesday', 'Monday'], index=['a', 'f', 'c', 'd'])\n",
    "frame2.day = dayval\n",
    "frame2"
   ]
  },
  {
   "cell_type": "code",
   "execution_count": null,
   "metadata": {},
   "outputs": [],
   "source": [
    "# modify existing values in dataframe using specific indices\n",
    "dayval = pd.Series(['Sunday', 'Saturday'], index=['x', 'y'])\n",
    "frame2.day = dayval\n",
    "frame2"
   ]
  },
  {
   "cell_type": "code",
   "execution_count": null,
   "metadata": {},
   "outputs": [],
   "source": [
    "# modify existing values in dataframe using specific indices\n",
    "dayval = pd.Series(['Sunday', 'Saturday'])\n",
    "frame2.day = dayval\n",
    "frame2"
   ]
  },
  {
   "cell_type": "markdown",
   "metadata": {},
   "source": [
    "#### Transposition of a dataframe is similar to numpy arrays:"
   ]
  },
  {
   "cell_type": "code",
   "execution_count": null,
   "metadata": {},
   "outputs": [],
   "source": [
    "frame2.T"
   ]
  },
  {
   "cell_type": "code",
   "execution_count": null,
   "metadata": {},
   "outputs": [],
   "source": [
    "# The original dataframe has not changed:\n",
    "frame2"
   ]
  },
  {
   "cell_type": "markdown",
   "metadata": {},
   "source": [
    "Examples of modifying DataFrame elements in bulk:"
   ]
  },
  {
   "cell_type": "code",
   "execution_count": null,
   "metadata": {},
   "outputs": [],
   "source": [
    "# modify all values of a column at once\n",
    "frame3 = frame2\n",
    "frame3.day = 'Tuesday'\n",
    "# or:\n",
    "frame3['day'] = 'Wednesday'\n",
    "frame3"
   ]
  },
  {
   "cell_type": "markdown",
   "metadata": {},
   "source": [
    "Delete a column:"
   ]
  },
  {
   "cell_type": "code",
   "execution_count": null,
   "metadata": {},
   "outputs": [],
   "source": [
    "# delete a column\n",
    "del frame3['day']\n",
    "frame3"
   ]
  },
  {
   "cell_type": "markdown",
   "metadata": {},
   "source": [
    "Display index information:"
   ]
  },
  {
   "cell_type": "code",
   "execution_count": null,
   "metadata": {},
   "outputs": [],
   "source": [
    "frame3.index"
   ]
  },
  {
   "cell_type": "markdown",
   "metadata": {},
   "source": [
    "Display values of a dataframe:"
   ]
  },
  {
   "cell_type": "code",
   "execution_count": null,
   "metadata": {},
   "outputs": [],
   "source": [
    "frame3.values"
   ]
  },
  {
   "cell_type": "code",
   "execution_count": null,
   "metadata": {},
   "outputs": [],
   "source": [
    "type(frame3.values)"
   ]
  },
  {
   "cell_type": "markdown",
   "metadata": {},
   "source": [
    "##### Dropping rows or columns:"
   ]
  },
  {
   "cell_type": "code",
   "execution_count": null,
   "metadata": {},
   "outputs": [],
   "source": [
    "# drop rows based on indices\n",
    "frame3.drop(['b', 'c', 'd'])"
   ]
  },
  {
   "cell_type": "code",
   "execution_count": null,
   "metadata": {},
   "outputs": [],
   "source": [
    "# drop column(s) based on column names and specifying axis=1\n",
    "frame3.drop('courseName', axis=1)"
   ]
  },
  {
   "cell_type": "markdown",
   "metadata": {},
   "source": [
    "Note that the action is displayed without calling to display or print the dataframe.\n",
    "\n",
    "The dataframe has not changed:"
   ]
  },
  {
   "cell_type": "code",
   "execution_count": null,
   "metadata": {},
   "outputs": [],
   "source": [
    "# the dataframe has not changed\n",
    "frame3"
   ]
  },
  {
   "cell_type": "markdown",
   "metadata": {},
   "source": [
    "The result of the drop could have been assigned to a dataframe or else specify \"inplace=True\" to take effect:"
   ]
  },
  {
   "cell_type": "code",
   "execution_count": null,
   "metadata": {},
   "outputs": [],
   "source": [
    "print('dataframe frame3:')\n",
    "print(frame3)\n",
    "frame4 = frame3\n",
    "frame4.drop(['b', 'c', 'd'], inplace=True)\n",
    "frame4.drop('courseName', axis=1, inplace=True)\n",
    "print('\\ndataframe frame4:')\n",
    "print(frame4)"
   ]
  },
  {
   "cell_type": "markdown",
   "metadata": {},
   "source": [
    "#### Homework 8.1:\n",
    "Create a data frame and perform below tasks:\n",
    "- create a 4 x 2 dataframe (4 rows and 2 columns)\n",
    "- the column labels should be \"class\" and \"midterm\"\n",
    "- row indices should be \"first\", \"second\", \"third\" and \"fourth\"\n",
    "- the values should be 4 of your current (or made up) classes names and expected midterm grades accordingly\n",
    "- add a new column with label \"final\"\n",
    "- add expected final grade values to \"second\" and \"fourth\" (rows/index labels)\n",
    "- drop one class (it cannot be CS397!)\n",
    "- display the dataframe after each change "
   ]
  },
  {
   "cell_type": "code",
   "execution_count": null,
   "metadata": {},
   "outputs": [],
   "source": [
    "# Homework 8.1 code comes here:\n",
    "\n"
   ]
  }
 ],
 "metadata": {
  "kernelspec": {
   "display_name": "Python 3",
   "language": "python",
   "name": "python3"
  },
  "language_info": {
   "codemirror_mode": {
    "name": "ipython",
    "version": 3
   },
   "file_extension": ".py",
   "mimetype": "text/x-python",
   "name": "python",
   "nbconvert_exporter": "python",
   "pygments_lexer": "ipython3",
   "version": "3.8.3"
  }
 },
 "nbformat": 4,
 "nbformat_minor": 2
}
