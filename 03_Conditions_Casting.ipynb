{
 "cells": [
  {
   "cell_type": "markdown",
   "metadata": {},
   "source": [
    "#### References:\n",
    "    www.python.org"
   ]
  },
  {
   "cell_type": "markdown",
   "metadata": {},
   "source": [
    "#### Questions/feedback: petert@digipen.edu"
   ]
  },
  {
   "cell_type": "markdown",
   "metadata": {},
   "source": [
    "# Chapter03: Conditions, casting, ..."
   ]
  },
  {
   "cell_type": "markdown",
   "metadata": {},
   "source": [
    "## Conditional Statements\n",
    "\n",
    "- if\n",
    "- if, else\n",
    "- if, elif, else\n",
    "- if, elif, else, pass\n",
    "\n",
    "## Boolean, Casting, Nested Conditional Statements\n",
    "\n",
    "### Conditional Statement Examples:"
   ]
  },
  {
   "cell_type": "code",
   "execution_count": null,
   "metadata": {},
   "outputs": [],
   "source": [
    "if True:\n",
    "    print(\"Hello\")"
   ]
  },
  {
   "cell_type": "code",
   "execution_count": null,
   "metadata": {},
   "outputs": [],
   "source": [
    "if not True:\n",
    "    print(\"Hello!\")\n",
    "else:\n",
    "    print(\"Hi!\")"
   ]
  },
  {
   "cell_type": "code",
   "execution_count": null,
   "metadata": {},
   "outputs": [],
   "source": [
    "if True:\n",
    "    pass\n",
    "else:\n",
    "    print(\"The condition must have been 'False'\")"
   ]
  },
  {
   "cell_type": "code",
   "execution_count": null,
   "metadata": {},
   "outputs": [],
   "source": [
    "if not True:\n",
    "    pass\n",
    "else:\n",
    "    print(\"The condition must have been 'False'\")"
   ]
  },
  {
   "cell_type": "code",
   "execution_count": null,
   "metadata": {},
   "outputs": [],
   "source": [
    "if 2 * 2 == 5:\n",
    "    print(\"2 * 2 = 5\")\n",
    "elif 2 * 2 == 4:\n",
    "    print(\"2 * 2 = 4\")\n",
    "else:\n",
    "    print(\"2 * 2 = not 4 or 5\")"
   ]
  },
  {
   "cell_type": "code",
   "execution_count": null,
   "metadata": {},
   "outputs": [],
   "source": [
    "number_input = int(input(\"Enter a whole number, we'll check its parity: \"))\n",
    "if number_input % 2 == 0:\n",
    "    print(number_input, \"is even\")\n",
    "else:\n",
    "    print(number_input, \"is odd\")"
   ]
  },
  {
   "cell_type": "code",
   "execution_count": null,
   "metadata": {},
   "outputs": [],
   "source": [
    "text_input = input(\"Enter some text and we'll check on its case: \")\n",
    "if text_input == text_input.lower():\n",
    "    print(text_input, \"is all lowercase\")\n",
    "else:\n",
    "    print(text_input, \"has non-lowercase character in it\")"
   ]
  },
  {
   "cell_type": "markdown",
   "metadata": {},
   "source": [
    "### Boolean\n",
    "- True and False are Boolean variables\n",
    "- A conditional statement evaluates to Boolean (either True or False)\n",
    "- True and False also evaluates as 1 and 0"
   ]
  },
  {
   "cell_type": "markdown",
   "metadata": {},
   "source": [
    "Examples:"
   ]
  },
  {
   "cell_type": "code",
   "execution_count": null,
   "metadata": {},
   "outputs": [],
   "source": [
    "True + 0"
   ]
  },
  {
   "cell_type": "code",
   "execution_count": null,
   "metadata": {},
   "outputs": [],
   "source": [
    "True * False"
   ]
  },
  {
   "cell_type": "code",
   "execution_count": null,
   "metadata": {},
   "outputs": [],
   "source": [
    "True + True"
   ]
  },
  {
   "cell_type": "code",
   "execution_count": null,
   "metadata": {},
   "outputs": [],
   "source": [
    "False/True"
   ]
  },
  {
   "cell_type": "code",
   "execution_count": null,
   "metadata": {},
   "outputs": [],
   "source": [
    "True/False"
   ]
  },
  {
   "cell_type": "markdown",
   "metadata": {},
   "source": [
    "### Casting\n",
    "- Conversion from a data type to another\n",
    "- Example 1: str to int\n",
    "- Example 2: int to str\n",
    "- Example 3: float to int\n",
    "- input's output is always a str"
   ]
  },
  {
   "cell_type": "code",
   "execution_count": null,
   "metadata": {},
   "outputs": [],
   "source": [
    "pi = 3.14159265358\n",
    "print(type(pi))"
   ]
  },
  {
   "cell_type": "code",
   "execution_count": null,
   "metadata": {},
   "outputs": [],
   "source": [
    "print(int(pi))\n",
    "print(type(int(pi)))"
   ]
  },
  {
   "cell_type": "code",
   "execution_count": null,
   "metadata": {},
   "outputs": [],
   "source": [
    "int(\"1\")"
   ]
  },
  {
   "cell_type": "code",
   "execution_count": null,
   "metadata": {},
   "outputs": [],
   "source": [
    "print(type(\"1\"))\n",
    "print(type(int(\"1\")))"
   ]
  },
  {
   "cell_type": "code",
   "execution_count": null,
   "metadata": {},
   "outputs": [],
   "source": [
    "my_age = input(\"Enter age: \")\n",
    "print(\"I'll be \", my_age + 10, \"in 10 years\")"
   ]
  },
  {
   "cell_type": "markdown",
   "metadata": {},
   "source": [
    "Notice that trying to print: *some text*, *calculated number based on input*, *some text*\n",
    "\n",
    "Lets fix this:"
   ]
  },
  {
   "cell_type": "code",
   "execution_count": null,
   "metadata": {},
   "outputs": [],
   "source": [
    "my_age = input(\"Enter age: \")\n",
    "print(\"I'll be\", int(my_age) + 10, \"in 10 years\")"
   ]
  },
  {
   "cell_type": "markdown",
   "metadata": {},
   "source": [
    "### Nested Conditional Statements"
   ]
  },
  {
   "cell_type": "code",
   "execution_count": null,
   "metadata": {},
   "outputs": [],
   "source": [
    "number_multi30 = int(input(\"Enter a number: \"))"
   ]
  },
  {
   "cell_type": "code",
   "execution_count": null,
   "metadata": {},
   "outputs": [],
   "source": [
    "if number_multi30 % 2 == 0:\n",
    "    print(number_multi30, \"is even\")\n",
    "    if number_multi30 % 3 == 0:\n",
    "        print(number_multi30, \"is a multiple of 6\")\n",
    "        if number_multi30 % 5 == 0:\n",
    "            print(number_multi30, \"is a multiple of 30\")\n",
    "        else:\n",
    "            print(number_multi30, \"is not a multiple of 30\")\n",
    "    else:\n",
    "        print(number_multi30, \"is not a multiple of 6\")\n",
    "else:\n",
    "    print(number_multi30, \"is odd\")"
   ]
  },
  {
   "cell_type": "markdown",
   "metadata": {},
   "source": [
    "Try to input other numbers, for example: 12, 13, 30, 36, 120, ..."
   ]
  },
  {
   "cell_type": "markdown",
   "metadata": {},
   "source": [
    "#### Homework 3.1:\n",
    "Create a diagram to visualize the nested conditional statements\n",
    "- for above number_multi30\n",
    "- save the diagram as an image\n",
    "- insert using Edit menu / Insert Image command"
   ]
  },
  {
   "cell_type": "markdown",
   "metadata": {},
   "source": [
    "#### Homework 3.1 diagram comes here:\n",
    "\n"
   ]
  },
  {
   "cell_type": "markdown",
   "metadata": {},
   "source": [
    "#### Homework 3.2:\n",
    "- Assign a positive whole number to x between 1 and 9999\n",
    "- Use nested conditions and print a statement in one line\n",
    "    - stating how many digits the number x has\n",
    "    - stating whether the number x is even or odd\n",
    "- Example: \"200 is a 3 digit even number\""
   ]
  },
  {
   "cell_type": "code",
   "execution_count": null,
   "metadata": {},
   "outputs": [],
   "source": [
    "# Homework 3.2 code comes here:\n",
    "\n"
   ]
  }
 ],
 "metadata": {
  "kernelspec": {
   "display_name": "Python 3",
   "language": "python",
   "name": "python3"
  },
  "language_info": {
   "codemirror_mode": {
    "name": "ipython",
    "version": 3
   },
   "file_extension": ".py",
   "mimetype": "text/x-python",
   "name": "python",
   "nbconvert_exporter": "python",
   "pygments_lexer": "ipython3",
   "version": "3.8.3"
  }
 },
 "nbformat": 4,
 "nbformat_minor": 2
}
