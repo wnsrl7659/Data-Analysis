{
 "cells": [
  {
   "cell_type": "markdown",
   "metadata": {},
   "source": [
    "#### References:\n",
    "    www.python.org"
   ]
  },
  {
   "cell_type": "markdown",
   "metadata": {},
   "source": [
    "#### Questions/feedback: petert@digipen.edu"
   ]
  },
  {
   "cell_type": "markdown",
   "metadata": {},
   "source": [
    "# Chapter04: Loops, recursion, ..."
   ]
  },
  {
   "cell_type": "markdown",
   "metadata": {},
   "source": [
    "# Loops and Recursion\n",
    "    - While\n",
    "    - For\n",
    "    - Recursion\n",
    "#### While Loop\n",
    "    Infinite Loop\n",
    "    break\n",
    "    Syntax\n",
    "    Usage: when we want to repeat something until certain condition is true\n",
    "#### Syntax:"
   ]
  },
  {
   "cell_type": "raw",
   "metadata": {},
   "source": [
    "while Boolean:\n",
    "    command(s)"
   ]
  },
  {
   "cell_type": "code",
   "execution_count": null,
   "metadata": {},
   "outputs": [],
   "source": [
    "# this would be an infinite loop without adding a break:\n",
    "while True:\n",
    "    print(5)\n",
    "    break"
   ]
  },
  {
   "cell_type": "markdown",
   "metadata": {},
   "source": [
    "#### Examples:"
   ]
  },
  {
   "cell_type": "code",
   "execution_count": null,
   "metadata": {},
   "outputs": [],
   "source": [
    "mynumber = 16"
   ]
  },
  {
   "cell_type": "code",
   "execution_count": null,
   "metadata": {},
   "outputs": [],
   "source": [
    "while mynumber >= 10:\n",
    "    print(mynumber)\n",
    "    mynumber -= 1\n",
    "    #mynumber = mynumber - 1"
   ]
  },
  {
   "cell_type": "code",
   "execution_count": null,
   "metadata": {},
   "outputs": [],
   "source": [
    "# take input until it consist of digits only, breaks when if condition does not evaluate to True\n",
    "while True:\n",
    "    mydigit = input(\"Enter a non-negative whole number: \")\n",
    "    if mydigit.isdigit():\n",
    "        print(mydigit)\n",
    "    else:\n",
    "        print(\"You have not entered a non-negative whole number, it's over!\")\n",
    "        break"
   ]
  },
  {
   "cell_type": "markdown",
   "metadata": {},
   "source": [
    "#### For Loop\n",
    "    break\n",
    "    Syntax\n",
    "    Usage: when we want to repeat something a fixed number of times\n",
    "#### Syntax:"
   ]
  },
  {
   "cell_type": "raw",
   "metadata": {},
   "source": [
    "for i in range(n):\n",
    "    commands\n",
    "    \n",
    "More generally:\n",
    "for value in collection:\n",
    "    commands"
   ]
  },
  {
   "cell_type": "markdown",
   "metadata": {},
   "source": [
    "#### Examples:"
   ]
  },
  {
   "cell_type": "code",
   "execution_count": null,
   "metadata": {},
   "outputs": [],
   "source": [
    "range(4)"
   ]
  },
  {
   "cell_type": "code",
   "execution_count": null,
   "metadata": {},
   "outputs": [],
   "source": [
    "type(range(4))"
   ]
  },
  {
   "cell_type": "code",
   "execution_count": null,
   "metadata": {},
   "outputs": [],
   "source": [
    "n = 4\n",
    "for i in range(n):\n",
    "    print(i)"
   ]
  },
  {
   "cell_type": "code",
   "execution_count": null,
   "metadata": {},
   "outputs": [],
   "source": [
    "for i in range(2,5):\n",
    "    print(i)"
   ]
  },
  {
   "cell_type": "code",
   "execution_count": null,
   "metadata": {},
   "outputs": [],
   "source": [
    "for i in \"DigiPen\":\n",
    "    print(i)"
   ]
  },
  {
   "cell_type": "markdown",
   "metadata": {},
   "source": [
    "#### Example\n",
    "Gregory-Leibniz series:\n",
    "π = (4/1) - (4/3) + (4/5) - (4/7) + (4/9) - (4/11) + (4/13) - (4/15) + ..."
   ]
  },
  {
   "cell_type": "code",
   "execution_count": null,
   "metadata": {},
   "outputs": [],
   "source": [
    "mypi = 0\n",
    "myrange = 1000\n",
    "for i in range(10 * myrange):\n",
    "    if (i % 2 == 0):\n",
    "        #print(4*(1/(2*i+1)))\n",
    "        mypi += 4*(1/(2*i+1))\n",
    "    else:\n",
    "        #print(-4*(1/(2*i+1)))\n",
    "        mypi += -4*(1/(2*i+1))\n",
    "# example for inefficient but working conditon\n",
    "#    if (int(str(i)[0]) == 1):\n",
    "#        if i - (10 ** (len(str(i))-1)) == 0:\n",
    "#            print(mypi)\n",
    "            \n",
    "print(mypi)"
   ]
  },
  {
   "cell_type": "markdown",
   "metadata": {},
   "source": [
    "The commented section at the end showcases type casting back and forth between integer and string types. Printing interim values at every power of ten.\n",
    "\n",
    "Such calculation would be done using numpy as opposed to the above example:"
   ]
  },
  {
   "cell_type": "markdown",
   "metadata": {},
   "source": [
    "#### Recursion\n",
    "    Recusrsive function: a function being defined is applied within its own definition.\n",
    "#### Example:\n",
    "Fibonacci series up to n (from https://www.python.org/)\n",
    "\n",
    "Recursive: F₀=0, F₁=1, and Fₙ=Fₙ₋₁+Fₙ₋₂, for n > 1\n",
    "\n",
    "    n      0 1 2 3 4 5 6  7  8  9 10 11  12 ...\n",
    "    F(n)   0 1 1 2 3 5 8 13 21 34 55 89 144 ..."
   ]
  },
  {
   "cell_type": "code",
   "execution_count": null,
   "metadata": {
    "scrolled": true
   },
   "outputs": [],
   "source": [
    "# Fibonacci series up to m\n",
    "def fib(m):\n",
    "    a, b = 0, 1\n",
    "    while a < m:\n",
    "        print(a, end = ' ')\n",
    "        a, b = b, a + b\n",
    "    print()\n",
    "fib(1000)"
   ]
  },
  {
   "cell_type": "markdown",
   "metadata": {},
   "source": [
    "#### Example:\n",
    "Factorial of n: n!\n",
    "\n",
    "Recursive: n! = n * (n-1)!\n",
    "\n",
    "    n     0 1   2       3         4            5     ...\n",
    "    n!    1 1 1*2=2 1*2*3=6 1*2*3*4=24 1*2*3*4*5=120 ..."
   ]
  },
  {
   "cell_type": "code",
   "execution_count": null,
   "metadata": {},
   "outputs": [],
   "source": [
    "def factorial(n):\n",
    "    if n == 0:\n",
    "        return 1\n",
    "    else:\n",
    "        return n * factorial(n - 1)"
   ]
  },
  {
   "cell_type": "raw",
   "metadata": {},
   "source": [
    "Example:\n",
    "\n",
    "4 * fact(3) = 4 * 3 * fact(2) = ... = 24"
   ]
  },
  {
   "cell_type": "code",
   "execution_count": null,
   "metadata": {},
   "outputs": [],
   "source": [
    "print(factorial(0))\n",
    "print(factorial(4))\n",
    "print(factorial(5))\n",
    "print(factorial(10))\n",
    "print(factorial(100))"
   ]
  },
  {
   "cell_type": "markdown",
   "metadata": {},
   "source": [
    "#### Homework 4.1:\n",
    "Use loops to print below:"
   ]
  },
  {
   "cell_type": "raw",
   "metadata": {},
   "source": [
    "0 0 0 0 0 0 0 0 0 0 \n",
    "1 1 1 1 1 1 1 1 1 \n",
    "2 2 2 2 2 2 2 2 \n",
    "3 3 3 3 3 3 3 \n",
    "4 4 4 4 4 4 \n",
    "5 5 5 5 5 \n",
    "6 6 6 6 \n",
    "7 7 7 \n",
    "8 8 \n",
    "9 "
   ]
  },
  {
   "cell_type": "code",
   "execution_count": null,
   "metadata": {},
   "outputs": [],
   "source": [
    "# Homework 4.1 code comes here:\n",
    "\n"
   ]
  },
  {
   "cell_type": "markdown",
   "metadata": {},
   "source": [
    "#### Homework 4.2:\n",
    "A variation to the Fibonacci series up to m\n",
    "\n",
    "Recursive: F<sub>1</sub>=1, F<sub>2</sub>=1, F<sub>3</sub>=1, and F<sub>n</sub>=F<sub>n-1</sub>+F<sub>n-2</sub>+F<sub>n-3</sub>, for n > 3\n",
    "\n",
    "    n      1 2 3 4 5 6  7  8  9  10  11  12 ...\n",
    "    F3(n)  1 1 1 3 5 9 17 31 57 105 193 355 ..."
   ]
  },
  {
   "cell_type": "code",
   "execution_count": null,
   "metadata": {},
   "outputs": [],
   "source": [
    "# Homework 4.2 code comes here:\n",
    "\n"
   ]
  }
 ],
 "metadata": {
  "kernelspec": {
   "display_name": "Python 3",
   "language": "python",
   "name": "python3"
  },
  "language_info": {
   "codemirror_mode": {
    "name": "ipython",
    "version": 3
   },
   "file_extension": ".py",
   "mimetype": "text/x-python",
   "name": "python",
   "nbconvert_exporter": "python",
   "pygments_lexer": "ipython3",
   "version": "3.8.3"
  }
 },
 "nbformat": 4,
 "nbformat_minor": 2
}
