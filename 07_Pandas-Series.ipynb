{
 "cells": [
  {
   "cell_type": "markdown",
   "metadata": {},
   "source": [
    "<b>Copyright Notice</b><br>\n",
    "Copyright © 2019 DigiPen (USA) Corp. and its owners.  All rights reserved.<br>\n",
    "No parts of this publication may be copied or distributed, transmitted, transcribed, stored in a retrieval system, or translated into any human or computer language without the express written permission of DigiPen (USA) Corp., 9931 Willows Road NE, Redmond, WA 98052<br>\n",
    "<b>Trademarks</b><br>\n",
    "DigiPen® is a registered trademark of DigiPen (USA) Corp.<br>\n",
    "All other product names mentioned in this booklet are trademarks or registered trademarks of their respective companies and are hereby acknowledged."
   ]
  },
  {
   "cell_type": "markdown",
   "metadata": {},
   "source": [
    "Pandas library was first developed by Wes McKinney in 2008 for data manipulation and analysis."
   ]
  },
  {
   "cell_type": "markdown",
   "metadata": {},
   "source": [
    "#### References:\n",
    "    www.python.org\n",
    "    www.numpy.org\n",
    "    www.matplotlib.org\n",
    "    https://pandas.pydata.org"
   ]
  },
  {
   "cell_type": "markdown",
   "metadata": {},
   "source": [
    "#### Questions/feedback: petert@digipen.edu"
   ]
  },
  {
   "cell_type": "markdown",
   "metadata": {},
   "source": [
    "# Chapter07: Pandas Series\n",
    "## pandas\n",
    "    - Series, Index, Values\n",
    "    - Selection and Filtering"
   ]
  },
  {
   "cell_type": "markdown",
   "metadata": {},
   "source": [
    "### Import pandas:\n",
    "    using 'pd'  is standard by Python users\n",
    "    import frequently used DataFrame and Series onto local namespace is a good practice"
   ]
  },
  {
   "cell_type": "code",
   "execution_count": 1,
   "metadata": {},
   "outputs": [],
   "source": [
    "import pandas as pd                     # using 'pd'  is standard by Python users\n",
    "from pandas import DataFrame            # optional, good practice\n",
    "from pandas import Series               # optional, good practice\n",
    "\n",
    "import numpy as np"
   ]
  },
  {
   "cell_type": "markdown",
   "metadata": {},
   "source": [
    "### Series\n",
    "    - one dimensional, similar to an array\n",
    "    - a sequence (series) of values\n",
    "    - associated (series of) data labels\n",
    "##### Examples:"
   ]
  },
  {
   "cell_type": "code",
   "execution_count": 2,
   "metadata": {},
   "outputs": [
    {
     "data": {
      "text/plain": [
       "0     apple\n",
       "1       2.7\n",
       "2         5\n",
       "3    Friday\n",
       "4        42\n",
       "dtype: object"
      ]
     },
     "execution_count": 2,
     "metadata": {},
     "output_type": "execute_result"
    }
   ],
   "source": [
    "# create Series from a list of values\n",
    "myseries = pd.Series(['apple', 2.7, 5, 'Friday', 42])\n",
    "myseries"
   ]
  },
  {
   "cell_type": "code",
   "execution_count": 3,
   "metadata": {},
   "outputs": [],
   "source": [
    "l = ['apple', 2.7, 5, 'Friday', 42]"
   ]
  },
  {
   "cell_type": "code",
   "execution_count": 4,
   "metadata": {},
   "outputs": [
    {
     "data": {
      "text/plain": [
       "5"
      ]
     },
     "execution_count": 4,
     "metadata": {},
     "output_type": "execute_result"
    }
   ],
   "source": [
    "l[2]"
   ]
  },
  {
   "cell_type": "code",
   "execution_count": 5,
   "metadata": {},
   "outputs": [
    {
     "name": "stdout",
     "output_type": "stream",
     "text": [
      "['apple', 2.7, 5, 'Friday', 42]\n"
     ]
    }
   ],
   "source": [
    "print(['apple', 2.7, 5, 'Friday', 42])"
   ]
  },
  {
   "cell_type": "code",
   "execution_count": 6,
   "metadata": {},
   "outputs": [
    {
     "data": {
      "text/plain": [
       "pandas.core.series.Series"
      ]
     },
     "execution_count": 6,
     "metadata": {},
     "output_type": "execute_result"
    }
   ],
   "source": [
    "type(myseries)"
   ]
  },
  {
   "cell_type": "markdown",
   "metadata": {},
   "source": [
    "Notes:\n",
    "- the data type is shown as object, the elements are ints, floats and strings\n",
    "- there is an index line starting from 0\n",
    "\n",
    "Let's see what happens if we create a series using integers and floats:"
   ]
  },
  {
   "cell_type": "code",
   "execution_count": 7,
   "metadata": {},
   "outputs": [
    {
     "data": {
      "text/plain": [
       "0    0\n",
       "1    1\n",
       "2    2\n",
       "3    3\n",
       "dtype: int64"
      ]
     },
     "execution_count": 7,
     "metadata": {},
     "output_type": "execute_result"
    }
   ],
   "source": [
    "# create Series from a numerical array of values (ints)\n",
    "myseries = pd.Series(range(4))\n",
    "myseries"
   ]
  },
  {
   "cell_type": "code",
   "execution_count": 8,
   "metadata": {},
   "outputs": [
    {
     "data": {
      "text/plain": [
       "0    0.0\n",
       "1    1.0\n",
       "2    2.0\n",
       "3    3.0\n",
       "dtype: float64"
      ]
     },
     "execution_count": 8,
     "metadata": {},
     "output_type": "execute_result"
    }
   ],
   "source": [
    "# create Series from a numerical array of values (floats)\n",
    "myseries = pd.Series(np.arange(4.0))  # using numpy array this time\n",
    "myseries"
   ]
  },
  {
   "cell_type": "markdown",
   "metadata": {},
   "source": [
    "Now let's mix: load a list of integers and floats:"
   ]
  },
  {
   "cell_type": "code",
   "execution_count": 9,
   "metadata": {},
   "outputs": [
    {
     "data": {
      "text/plain": [
       "0      3.14\n",
       "1      2.71\n",
       "2     42.00\n",
       "3    101.00\n",
       "dtype: float64"
      ]
     },
     "execution_count": 9,
     "metadata": {},
     "output_type": "execute_result"
    }
   ],
   "source": [
    "# specify a series of values and associated indices\n",
    "myseries = pd.Series([3.14, 2.71, 42, 101])\n",
    "myseries"
   ]
  },
  {
   "cell_type": "markdown",
   "metadata": {},
   "source": [
    "Now let's load a list of strings when creating a series:"
   ]
  },
  {
   "cell_type": "code",
   "execution_count": 10,
   "metadata": {},
   "outputs": [
    {
     "data": {
      "text/plain": [
       "0     first\n",
       "1    second\n",
       "2     third\n",
       "3    fourth\n",
       "dtype: object"
      ]
     },
     "execution_count": 10,
     "metadata": {},
     "output_type": "execute_result"
    }
   ],
   "source": [
    "# specify a series of values and associated indices\n",
    "myseries = pd.Series([\"first\", \"second\", \"third\", \"fourth\"])\n",
    "myseries"
   ]
  },
  {
   "cell_type": "code",
   "execution_count": 11,
   "metadata": {},
   "outputs": [
    {
     "name": "stdout",
     "output_type": "stream",
     "text": [
      "<class 'str'>\n"
     ]
    }
   ],
   "source": [
    "print(type(myseries[2]))"
   ]
  },
  {
   "cell_type": "markdown",
   "metadata": {},
   "source": [
    "Notes:\n",
    "- The type of the series is recognized as object\n",
    "- Individual elements of the series are still recognized as strings:"
   ]
  },
  {
   "cell_type": "code",
   "execution_count": 12,
   "metadata": {},
   "outputs": [
    {
     "name": "stdout",
     "output_type": "stream",
     "text": [
      "The type of the second element in the series: <class 'str'>\n"
     ]
    }
   ],
   "source": [
    "print(\"The type of the second element in the series:\", type(myseries[2]))"
   ]
  },
  {
   "cell_type": "markdown",
   "metadata": {},
   "source": [
    "##### Specifying and reordering the index\n",
    "Specify using a list if indices:"
   ]
  },
  {
   "cell_type": "code",
   "execution_count": 13,
   "metadata": {},
   "outputs": [
    {
     "data": {
      "text/plain": [
       "a     first | a\n",
       "c    second | c\n",
       "d     third | d\n",
       "b    fourth | b\n",
       "dtype: object"
      ]
     },
     "execution_count": 13,
     "metadata": {},
     "output_type": "execute_result"
    }
   ],
   "source": [
    "# specify a series of values and associated indices\n",
    "myseries = pd.Series([\"first | a\", \"second | c\", \"third | d\", \"fourth | b\"], index=['a', 'c', 'd', 'b'])\n",
    "myseries"
   ]
  },
  {
   "cell_type": "markdown",
   "metadata": {},
   "source": [
    "Reorder using a list if indices:"
   ]
  },
  {
   "cell_type": "code",
   "execution_count": 14,
   "metadata": {},
   "outputs": [
    {
     "data": {
      "text/plain": [
       "a     first | a\n",
       "b    second | c\n",
       "c     third | d\n",
       "d    fourth | b\n",
       "dtype: object"
      ]
     },
     "execution_count": 14,
     "metadata": {},
     "output_type": "execute_result"
    }
   ],
   "source": [
    "# reassign associated indices, note that the order of the values are not changing, only the index names\n",
    "myseries.index = ['a', 'b', 'c', 'd']\n",
    "myseries"
   ]
  },
  {
   "cell_type": "markdown",
   "metadata": {},
   "source": [
    "Note the indices were reordered, though the order of the series did not change"
   ]
  },
  {
   "cell_type": "markdown",
   "metadata": {},
   "source": [
    "##### Reference values and indices of a Series:"
   ]
  },
  {
   "cell_type": "code",
   "execution_count": 15,
   "metadata": {},
   "outputs": [
    {
     "name": "stdout",
     "output_type": "stream",
     "text": [
      "The series:\n",
      "a     first | a\n",
      "c    second | c\n",
      "d     third | d\n",
      "b    fourth | b\n",
      "dtype: object \n",
      "\n",
      "Index values:\n",
      "Index(['a', 'c', 'd', 'b'], dtype='object')\n",
      "\n",
      "Values in the series:\n",
      "['first | a' 'second | c' 'third | d' 'fourth | b']\n"
     ]
    }
   ],
   "source": [
    "# recreate the same Series\n",
    "myseries = pd.Series([\"first | a\", \"second | c\", \"third | d\", \"fourth | b\"], index=['a', 'c', 'd', 'b'])\n",
    "print(\"The series:\")\n",
    "print(myseries, \"\\n\")\n",
    "\n",
    "# retrieve index values\n",
    "print('Index values:')\n",
    "print(myseries.index)\n",
    "\n",
    "# retrieve values of the series\n",
    "print('\\nValues in the series:')\n",
    "print(myseries.values)"
   ]
  },
  {
   "cell_type": "markdown",
   "metadata": {},
   "source": [
    "Both the indices and the values are iterable:"
   ]
  },
  {
   "cell_type": "code",
   "execution_count": 16,
   "metadata": {},
   "outputs": [
    {
     "name": "stdout",
     "output_type": "stream",
     "text": [
      "The second index is: c\n",
      "The second value is: second | c\n"
     ]
    }
   ],
   "source": [
    "print(\"The second index is:\", myseries.index[1])\n",
    "print(\"The second value is:\", myseries.values[1])"
   ]
  },
  {
   "cell_type": "markdown",
   "metadata": {},
   "source": [
    "Reference and retrieve by index:"
   ]
  },
  {
   "cell_type": "code",
   "execution_count": 17,
   "metadata": {},
   "outputs": [
    {
     "name": "stdout",
     "output_type": "stream",
     "text": [
      "Reference a single value by its index:\n",
      "second | c\n",
      "\n",
      "Reference multiple values by their indices:\n",
      "c    second | c\n",
      "a     first | a\n",
      "dtype: object\n"
     ]
    }
   ],
   "source": [
    "# reference and retrieve by index\n",
    "print('Reference a single value by its index:')\n",
    "print(myseries['c'])\n",
    "print('\\nReference multiple values by their indices:')\n",
    "# reference and retrieve by indeces\n",
    "print(myseries[['c', 'a']])"
   ]
  },
  {
   "cell_type": "code",
   "execution_count": 18,
   "metadata": {},
   "outputs": [
    {
     "data": {
      "text/plain": [
       "a     first | a\n",
       "c    second | c\n",
       "a     first | a\n",
       "dtype: object"
      ]
     },
     "execution_count": 18,
     "metadata": {},
     "output_type": "execute_result"
    }
   ],
   "source": [
    "l = ['a', 'c', 'a']\n",
    "myseries[l]"
   ]
  },
  {
   "cell_type": "code",
   "execution_count": 20,
   "metadata": {},
   "outputs": [
    {
     "name": "stdout",
     "output_type": "stream",
     "text": [
      "List all values if they are greater than 40:\n"
     ]
    },
    {
     "data": {
      "text/plain": [
       "1     42.0\n",
       "3    101.0\n",
       "dtype: float64"
      ]
     },
     "execution_count": 20,
     "metadata": {},
     "output_type": "execute_result"
    }
   ],
   "source": [
    "# retrieve values based on condition\n",
    "numberSeries = pd.Series([3.14, 42, 2.71, 101])\n",
    "print('List all values if they are greater than 40:')\n",
    "numberSeries[numberSeries>40]"
   ]
  },
  {
   "cell_type": "markdown",
   "metadata": {},
   "source": [
    "Lets go back to the indices and values\n",
    "\n",
    "Swap the values so they follow their original indices:"
   ]
  },
  {
   "cell_type": "code",
   "execution_count": 21,
   "metadata": {},
   "outputs": [
    {
     "data": {
      "text/plain": [
       "a     first | a\n",
       "c    second | c\n",
       "d     third | d\n",
       "b    fourth | b\n",
       "dtype: object"
      ]
     },
     "execution_count": 21,
     "metadata": {},
     "output_type": "execute_result"
    }
   ],
   "source": [
    "# recreate the same Series\n",
    "myseries = pd.Series([\"first | a\", \"second | c\", \"third | d\", \"fourth | b\"], index=['a', 'c', 'd', 'b'])\n",
    "myseries"
   ]
  },
  {
   "cell_type": "code",
   "execution_count": 22,
   "metadata": {},
   "outputs": [
    {
     "data": {
      "text/plain": [
       "a     first | a\n",
       "c    fourth | b\n",
       "d     third | d\n",
       "b    second | c\n",
       "dtype: object"
      ]
     },
     "execution_count": 22,
     "metadata": {},
     "output_type": "execute_result"
    }
   ],
   "source": [
    "# swap 2nd and 4th elements\n",
    "t = myseries[1]   # store 2nd temporarily\n",
    "myseries[1] = myseries[3]\n",
    "myseries[3] = t\n",
    "myseries"
   ]
  },
  {
   "cell_type": "code",
   "execution_count": null,
   "metadata": {},
   "outputs": [],
   "source": [
    "# now swap 3rd and 4th elements\n",
    "t = myseries[2]\n",
    "myseries[2] = myseries[3]\n",
    "myseries[3] = t\n",
    "myseries"
   ]
  },
  {
   "cell_type": "markdown",
   "metadata": {},
   "source": [
    "Notice that now the indices have not changed\n",
    "\n",
    "How to handle such operation if there is no built in method? Write your own function!"
   ]
  },
  {
   "cell_type": "code",
   "execution_count": null,
   "metadata": {},
   "outputs": [],
   "source": [
    "# swap takes two numbers as indices and a series\n",
    "def swap(n,m,s):\n",
    "    tv = s[n]\n",
    "    ti = s.index.values[n]\n",
    "    \n",
    "    s[n] = s[m]\n",
    "    s.index.values[n] = s.index.values[m]\n",
    "    \n",
    "    s[m] = tv\n",
    "    s.index.values[m] = ti\n",
    "    \n",
    "    print(s)"
   ]
  },
  {
   "cell_type": "code",
   "execution_count": null,
   "metadata": {},
   "outputs": [],
   "source": [
    "# specify the original series again\n",
    "myseries = pd.Series([\"first | a\", \"second | c\", \"third | d\", \"fourth | b\"], index=['a', 'c', 'd', 'b'])\n",
    "myseries"
   ]
  },
  {
   "cell_type": "markdown",
   "metadata": {},
   "source": [
    "Swap 2nd and 4th elements:"
   ]
  },
  {
   "cell_type": "code",
   "execution_count": null,
   "metadata": {},
   "outputs": [],
   "source": [
    "swap(1, 3, myseries)"
   ]
  },
  {
   "cell_type": "markdown",
   "metadata": {},
   "source": [
    "Swap 3rd and 4th elements:"
   ]
  },
  {
   "cell_type": "code",
   "execution_count": null,
   "metadata": {},
   "outputs": [],
   "source": [
    "swap(2, 3, myseries)"
   ]
  },
  {
   "cell_type": "markdown",
   "metadata": {},
   "source": [
    "Now both values and indices are swapped at the same time."
   ]
  },
  {
   "cell_type": "code",
   "execution_count": null,
   "metadata": {},
   "outputs": [],
   "source": [
    "myseries = pd.Series([\"first | a\", \"second first | a\", \"second | c\", \"third | d\", \"fourth | b\"], index=['a', 'a', 'c', 'd', 'b'])\n",
    "myseries"
   ]
  },
  {
   "cell_type": "code",
   "execution_count": null,
   "metadata": {},
   "outputs": [],
   "source": [
    "myseries.values"
   ]
  },
  {
   "cell_type": "code",
   "execution_count": null,
   "metadata": {},
   "outputs": [],
   "source": [
    "myseries.index"
   ]
  },
  {
   "cell_type": "markdown",
   "metadata": {},
   "source": [
    "#### Homework 7.1:\n",
    "Create a series:\n",
    "- create a series using 5 random integers between 1 and 9\n",
    "- display a pie chart using pd.Series.plot.pie()"
   ]
  },
  {
   "cell_type": "code",
   "execution_count": null,
   "metadata": {},
   "outputs": [],
   "source": [
    "# Homework 7.1 code comes here:\n",
    "\n"
   ]
  },
  {
   "cell_type": "markdown",
   "metadata": {},
   "source": [
    "#### Homework 7.2:\n",
    "- create a series using 20 random integers between 1 and 9\n",
    "- display a histogram using pd.Series.plot.hist()"
   ]
  },
  {
   "cell_type": "code",
   "execution_count": null,
   "metadata": {},
   "outputs": [],
   "source": [
    "# Homework 7.2 code comes here:\n",
    "\n"
   ]
  },
  {
   "cell_type": "markdown",
   "metadata": {},
   "source": [
    "#### Homework 7.3:\n",
    "- create a series using 20 random integers between 1 and 9\n",
    "- display a box plot using pd.Series.plot.hist()"
   ]
  },
  {
   "cell_type": "code",
   "execution_count": null,
   "metadata": {},
   "outputs": [],
   "source": [
    "# Homework 7.3 code comes here:\n",
    "\n"
   ]
  }
 ],
 "metadata": {
  "kernelspec": {
   "display_name": "Python 3",
   "language": "python",
   "name": "python3"
  },
  "language_info": {
   "codemirror_mode": {
    "name": "ipython",
    "version": 3
   },
   "file_extension": ".py",
   "mimetype": "text/x-python",
   "name": "python",
   "nbconvert_exporter": "python",
   "pygments_lexer": "ipython3",
   "version": "3.8.3"
  }
 },
 "nbformat": 4,
 "nbformat_minor": 2
}
