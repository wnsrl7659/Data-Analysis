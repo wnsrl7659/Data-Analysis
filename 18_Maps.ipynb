{
 "cells": [
  {
   "cell_type": "markdown",
   "metadata": {},
   "source": [
    "#### References:\n",
    "    www.python.org\n",
    "    www.numpy.org\n",
    "    www.matplotlib.org\n",
    "    https://pandas.pydata.org\n",
    "    https://docs.python.org\n",
    "    https://console.cloud.google.com\n",
    "    https://console.cloud.google.com/google/maps-apis"
   ]
  },
  {
   "cell_type": "markdown",
   "metadata": {},
   "source": [
    "#### Questions/feedback: petert@digipen.edu"
   ]
  },
  {
   "cell_type": "markdown",
   "metadata": {},
   "source": [
    "# Maps\n",
    "- working with google maps\n",
    "        Register (free + free credit but requires Credit card. No unwanted charges applied.)\n",
    "            https://console.cloud.google.com/ \n",
    "        APIs & Services | Library\n",
    "        Maps\n",
    "        Choose services to be used (Maps JavaScript API will be needed)\n",
    "        Create API key(s) under Credentials\n",
    "            https://console.cloud.google.com/apis/credentials\n",
    "        Restrict and Secure API"
   ]
  },
  {
   "cell_type": "code",
   "execution_count": 1,
   "metadata": {},
   "outputs": [],
   "source": [
    "import pandas as pd\n",
    "import numpy as np\n",
    "from matplotlib import pyplot as plt\n",
    "%matplotlib inline"
   ]
  },
  {
   "cell_type": "markdown",
   "metadata": {},
   "source": [
    "Install gmaps through the Notebook using \"!\"\n",
    "\n",
    "Else run the same in Anaconda console without \"!\""
   ]
  },
  {
   "cell_type": "code",
   "execution_count": 2,
   "metadata": {},
   "outputs": [
    {
     "name": "stdout",
     "output_type": "stream",
     "text": [
      "Collecting gmaps\n",
      "  Downloading gmaps-0.9.0.tar.gz (1.1 MB)\n",
      "Requirement already satisfied: ipython>=5.3.0 in c:\\users\\wnsrl\\anaconda3\\lib\\site-packages (from gmaps) (7.16.1)\n",
      "Requirement already satisfied: ipywidgets>=7.0.0 in c:\\users\\wnsrl\\anaconda3\\lib\\site-packages (from gmaps) (7.5.1)\n",
      "Requirement already satisfied: traitlets>=4.3.0 in c:\\users\\wnsrl\\anaconda3\\lib\\site-packages (from gmaps) (4.3.3)\n",
      "Collecting geojson>=2.0.0\n",
      "  Downloading geojson-2.5.0-py2.py3-none-any.whl (14 kB)\n",
      "Requirement already satisfied: six in c:\\users\\wnsrl\\anaconda3\\lib\\site-packages (from gmaps) (1.15.0)\n",
      "Requirement already satisfied: colorama; sys_platform == \"win32\" in c:\\users\\wnsrl\\anaconda3\\lib\\site-packages (from ipython>=5.3.0->gmaps) (0.4.3)\n",
      "Requirement already satisfied: jedi>=0.10 in c:\\users\\wnsrl\\anaconda3\\lib\\site-packages (from ipython>=5.3.0->gmaps) (0.17.1)\n",
      "Requirement already satisfied: pygments in c:\\users\\wnsrl\\anaconda3\\lib\\site-packages (from ipython>=5.3.0->gmaps) (2.6.1)\n",
      "Requirement already satisfied: setuptools>=18.5 in c:\\users\\wnsrl\\anaconda3\\lib\\site-packages (from ipython>=5.3.0->gmaps) (49.2.0.post20200714)\n",
      "Requirement already satisfied: backcall in c:\\users\\wnsrl\\anaconda3\\lib\\site-packages (from ipython>=5.3.0->gmaps) (0.2.0)\n",
      "Requirement already satisfied: pickleshare in c:\\users\\wnsrl\\anaconda3\\lib\\site-packages (from ipython>=5.3.0->gmaps) (0.7.5)\n",
      "Requirement already satisfied: decorator in c:\\users\\wnsrl\\anaconda3\\lib\\site-packages (from ipython>=5.3.0->gmaps) (4.4.2)\n",
      "Requirement already satisfied: prompt-toolkit!=3.0.0,!=3.0.1,<3.1.0,>=2.0.0 in c:\\users\\wnsrl\\anaconda3\\lib\\site-packages (from ipython>=5.3.0->gmaps) (3.0.5)\n",
      "Requirement already satisfied: nbformat>=4.2.0 in c:\\users\\wnsrl\\anaconda3\\lib\\site-packages (from ipywidgets>=7.0.0->gmaps) (5.0.7)\n",
      "Requirement already satisfied: widgetsnbextension~=3.5.0 in c:\\users\\wnsrl\\anaconda3\\lib\\site-packages (from ipywidgets>=7.0.0->gmaps) (3.5.1)\n",
      "Requirement already satisfied: ipykernel>=4.5.1 in c:\\users\\wnsrl\\anaconda3\\lib\\site-packages (from ipywidgets>=7.0.0->gmaps) (5.3.2)\n",
      "Requirement already satisfied: ipython-genutils in c:\\users\\wnsrl\\anaconda3\\lib\\site-packages (from traitlets>=4.3.0->gmaps) (0.2.0)\n",
      "Requirement already satisfied: parso<0.8.0,>=0.7.0 in c:\\users\\wnsrl\\anaconda3\\lib\\site-packages (from jedi>=0.10->ipython>=5.3.0->gmaps) (0.7.0)\n",
      "Requirement already satisfied: wcwidth in c:\\users\\wnsrl\\anaconda3\\lib\\site-packages (from prompt-toolkit!=3.0.0,!=3.0.1,<3.1.0,>=2.0.0->ipython>=5.3.0->gmaps) (0.2.5)\n",
      "Requirement already satisfied: jsonschema!=2.5.0,>=2.4 in c:\\users\\wnsrl\\anaconda3\\lib\\site-packages (from nbformat>=4.2.0->ipywidgets>=7.0.0->gmaps) (3.2.0)\n",
      "Requirement already satisfied: jupyter-core in c:\\users\\wnsrl\\anaconda3\\lib\\site-packages (from nbformat>=4.2.0->ipywidgets>=7.0.0->gmaps) (4.6.3)\n",
      "Requirement already satisfied: notebook>=4.4.1 in c:\\users\\wnsrl\\anaconda3\\lib\\site-packages (from widgetsnbextension~=3.5.0->ipywidgets>=7.0.0->gmaps) (6.0.3)\n",
      "Requirement already satisfied: jupyter-client in c:\\users\\wnsrl\\anaconda3\\lib\\site-packages (from ipykernel>=4.5.1->ipywidgets>=7.0.0->gmaps) (6.1.6)\n",
      "Requirement already satisfied: tornado>=4.2 in c:\\users\\wnsrl\\anaconda3\\lib\\site-packages (from ipykernel>=4.5.1->ipywidgets>=7.0.0->gmaps) (6.0.4)\n",
      "Requirement already satisfied: pyrsistent>=0.14.0 in c:\\users\\wnsrl\\anaconda3\\lib\\site-packages (from jsonschema!=2.5.0,>=2.4->nbformat>=4.2.0->ipywidgets>=7.0.0->gmaps) (0.16.0)\n",
      "Requirement already satisfied: attrs>=17.4.0 in c:\\users\\wnsrl\\anaconda3\\lib\\site-packages (from jsonschema!=2.5.0,>=2.4->nbformat>=4.2.0->ipywidgets>=7.0.0->gmaps) (19.3.0)\n",
      "Requirement already satisfied: pywin32>=1.0; sys_platform == \"win32\" in c:\\users\\wnsrl\\anaconda3\\lib\\site-packages (from jupyter-core->nbformat>=4.2.0->ipywidgets>=7.0.0->gmaps) (227)\n",
      "Requirement already satisfied: prometheus-client in c:\\users\\wnsrl\\anaconda3\\lib\\site-packages (from notebook>=4.4.1->widgetsnbextension~=3.5.0->ipywidgets>=7.0.0->gmaps) (0.8.0)\n",
      "Requirement already satisfied: pyzmq>=17 in c:\\users\\wnsrl\\anaconda3\\lib\\site-packages (from notebook>=4.4.1->widgetsnbextension~=3.5.0->ipywidgets>=7.0.0->gmaps) (19.0.1)\n",
      "Requirement already satisfied: Send2Trash in c:\\users\\wnsrl\\anaconda3\\lib\\site-packages (from notebook>=4.4.1->widgetsnbextension~=3.5.0->ipywidgets>=7.0.0->gmaps) (1.5.0)\n",
      "Requirement already satisfied: nbconvert in c:\\users\\wnsrl\\anaconda3\\lib\\site-packages (from notebook>=4.4.1->widgetsnbextension~=3.5.0->ipywidgets>=7.0.0->gmaps) (5.6.1)\n",
      "Requirement already satisfied: terminado>=0.8.1 in c:\\users\\wnsrl\\anaconda3\\lib\\site-packages (from notebook>=4.4.1->widgetsnbextension~=3.5.0->ipywidgets>=7.0.0->gmaps) (0.8.3)\n",
      "Requirement already satisfied: jinja2 in c:\\users\\wnsrl\\anaconda3\\lib\\site-packages (from notebook>=4.4.1->widgetsnbextension~=3.5.0->ipywidgets>=7.0.0->gmaps) (2.11.2)\n",
      "Requirement already satisfied: python-dateutil>=2.1 in c:\\users\\wnsrl\\anaconda3\\lib\\site-packages (from jupyter-client->ipykernel>=4.5.1->ipywidgets>=7.0.0->gmaps) (2.8.1)\n",
      "Requirement already satisfied: bleach in c:\\users\\wnsrl\\anaconda3\\lib\\site-packages (from nbconvert->notebook>=4.4.1->widgetsnbextension~=3.5.0->ipywidgets>=7.0.0->gmaps) (3.1.5)\n",
      "Requirement already satisfied: entrypoints>=0.2.2 in c:\\users\\wnsrl\\anaconda3\\lib\\site-packages (from nbconvert->notebook>=4.4.1->widgetsnbextension~=3.5.0->ipywidgets>=7.0.0->gmaps) (0.3)\n",
      "Requirement already satisfied: pandocfilters>=1.4.1 in c:\\users\\wnsrl\\anaconda3\\lib\\site-packages (from nbconvert->notebook>=4.4.1->widgetsnbextension~=3.5.0->ipywidgets>=7.0.0->gmaps) (1.4.2)\n",
      "Requirement already satisfied: defusedxml in c:\\users\\wnsrl\\anaconda3\\lib\\site-packages (from nbconvert->notebook>=4.4.1->widgetsnbextension~=3.5.0->ipywidgets>=7.0.0->gmaps) (0.6.0)\n",
      "Requirement already satisfied: testpath in c:\\users\\wnsrl\\anaconda3\\lib\\site-packages (from nbconvert->notebook>=4.4.1->widgetsnbextension~=3.5.0->ipywidgets>=7.0.0->gmaps) (0.4.4)\n",
      "Requirement already satisfied: mistune<2,>=0.8.1 in c:\\users\\wnsrl\\anaconda3\\lib\\site-packages (from nbconvert->notebook>=4.4.1->widgetsnbextension~=3.5.0->ipywidgets>=7.0.0->gmaps) (0.8.4)\n",
      "Requirement already satisfied: MarkupSafe>=0.23 in c:\\users\\wnsrl\\anaconda3\\lib\\site-packages (from jinja2->notebook>=4.4.1->widgetsnbextension~=3.5.0->ipywidgets>=7.0.0->gmaps) (1.1.1)\n",
      "Requirement already satisfied: packaging in c:\\users\\wnsrl\\anaconda3\\lib\\site-packages (from bleach->nbconvert->notebook>=4.4.1->widgetsnbextension~=3.5.0->ipywidgets>=7.0.0->gmaps) (20.4)\n",
      "Requirement already satisfied: webencodings in c:\\users\\wnsrl\\anaconda3\\lib\\site-packages (from bleach->nbconvert->notebook>=4.4.1->widgetsnbextension~=3.5.0->ipywidgets>=7.0.0->gmaps) (0.5.1)\n",
      "Requirement already satisfied: pyparsing>=2.0.2 in c:\\users\\wnsrl\\anaconda3\\lib\\site-packages (from packaging->bleach->nbconvert->notebook>=4.4.1->widgetsnbextension~=3.5.0->ipywidgets>=7.0.0->gmaps) (2.4.7)\n",
      "Building wheels for collected packages: gmaps\n",
      "  Building wheel for gmaps (setup.py): started\n",
      "  Building wheel for gmaps (setup.py): finished with status 'done'\n",
      "  Created wheel for gmaps: filename=gmaps-0.9.0-py2.py3-none-any.whl size=2076101 sha256=8947b1542d36af85d22c67457bcf632f80905453ccd90ecfa1edb9f5833b83b6\n",
      "  Stored in directory: c:\\users\\wnsrl\\appdata\\local\\pip\\cache\\wheels\\30\\bd\\87\\d0d731ee712c34a4d6bace8b1dbf8c8932e22a1625b4a55be4\n",
      "Successfully built gmaps\n",
      "Installing collected packages: geojson, gmaps\n",
      "Successfully installed geojson-2.5.0 gmaps-0.9.0\n"
     ]
    }
   ],
   "source": [
    "!pip install gmaps"
   ]
  },
  {
   "cell_type": "markdown",
   "metadata": {},
   "source": [
    "Enable extensions to be able to display gmaps properly:"
   ]
  },
  {
   "cell_type": "code",
   "execution_count": 3,
   "metadata": {},
   "outputs": [
    {
     "name": "stderr",
     "output_type": "stream",
     "text": [
      "Enabling notebook extension jupyter-js-widgets/extension...\n",
      "      - Validating: ok\n",
      "Enabling notebook extension jupyter-gmaps/extension...\n",
      "      - Validating: ok\n"
     ]
    }
   ],
   "source": [
    "!jupyter nbextension enable --py --sys-prefix widgetsnbextension\n",
    "!jupyter nbextension enable --py --sys-prefix gmaps"
   ]
  },
  {
   "cell_type": "markdown",
   "metadata": {},
   "source": [
    "Import gmaps and sample datasets:"
   ]
  },
  {
   "cell_type": "code",
   "execution_count": 4,
   "metadata": {},
   "outputs": [],
   "source": [
    "import gmaps\n",
    "import gmaps.datasets"
   ]
  },
  {
   "cell_type": "markdown",
   "metadata": {},
   "source": [
    "Store your API Key in a variable or pass it explicitely every time"
   ]
  },
  {
   "cell_type": "code",
   "execution_count": 5,
   "metadata": {},
   "outputs": [],
   "source": [
    "API_KEY = 'Your API Key'"
   ]
  },
  {
   "cell_type": "markdown",
   "metadata": {},
   "source": [
    "Or store it in a file and read it so it won't be visible in the notebook:"
   ]
  },
  {
   "cell_type": "code",
   "execution_count": 6,
   "metadata": {},
   "outputs": [
    {
     "ename": "FileNotFoundError",
     "evalue": "[Errno 2] No such file or directory: 'api.txt'",
     "output_type": "error",
     "traceback": [
      "\u001b[1;31m---------------------------------------------------------------------------\u001b[0m",
      "\u001b[1;31mFileNotFoundError\u001b[0m                         Traceback (most recent call last)",
      "\u001b[1;32m<ipython-input-6-8592dec45b44>\u001b[0m in \u001b[0;36m<module>\u001b[1;34m\u001b[0m\n\u001b[1;32m----> 1\u001b[1;33m \u001b[1;32mwith\u001b[0m \u001b[0mopen\u001b[0m\u001b[1;33m(\u001b[0m\u001b[1;34m'api.txt'\u001b[0m\u001b[1;33m)\u001b[0m \u001b[1;32mas\u001b[0m \u001b[0mfile\u001b[0m\u001b[1;33m:\u001b[0m\u001b[1;33m\u001b[0m\u001b[1;33m\u001b[0m\u001b[0m\n\u001b[0m\u001b[0;32m      2\u001b[0m     \u001b[0mAPI_KEY\u001b[0m \u001b[1;33m=\u001b[0m \u001b[0mfile\u001b[0m\u001b[1;33m.\u001b[0m\u001b[0mreadline\u001b[0m\u001b[1;33m(\u001b[0m\u001b[1;33m)\u001b[0m\u001b[1;33m\u001b[0m\u001b[1;33m\u001b[0m\u001b[0m\n\u001b[0;32m      3\u001b[0m     \u001b[0mfile\u001b[0m\u001b[1;33m.\u001b[0m\u001b[0mclose\u001b[0m\u001b[1;33m\u001b[0m\u001b[1;33m\u001b[0m\u001b[0m\n",
      "\u001b[1;31mFileNotFoundError\u001b[0m: [Errno 2] No such file or directory: 'api.txt'"
     ]
    }
   ],
   "source": [
    "with open('api.txt') as file:\n",
    "    API_KEY = file.readline()\n",
    "    file.close"
   ]
  },
  {
   "cell_type": "markdown",
   "metadata": {},
   "source": [
    "Specify and configure with the API key then display the default figure:"
   ]
  },
  {
   "cell_type": "code",
   "execution_count": 4,
   "metadata": {},
   "outputs": [
    {
     "data": {
      "application/vnd.jupyter.widget-view+json": {
       "model_id": "089df87cab2e4b208c4e7d67324eca84",
       "version_major": 2,
       "version_minor": 0
      },
      "text/plain": [
       "Figure(layout=FigureLayout(height='420px'))"
      ]
     },
     "metadata": {},
     "output_type": "display_data"
    }
   ],
   "source": [
    "gmaps.configure(api_key=API_KEY)\n",
    "fig = gmaps.figure()\n",
    "fig"
   ]
  },
  {
   "cell_type": "markdown",
   "metadata": {},
   "source": [
    "List the available gmaps datasets (included in the package):"
   ]
  },
  {
   "cell_type": "code",
   "execution_count": 5,
   "metadata": {},
   "outputs": [
    {
     "data": {
      "text/plain": [
       "dict_keys(['taxi_rides', 'earthquakes', 'acled_africa', 'acled_africa_by_year', 'london_congestion_zone', 'nuclear_plants', 'starbucks_kfc_uk', 'gini'])"
      ]
     },
     "execution_count": 5,
     "metadata": {},
     "output_type": "execute_result"
    }
   ],
   "source": [
    "gmaps.datasets.list_datasets()"
   ]
  },
  {
   "cell_type": "code",
   "execution_count": 6,
   "metadata": {},
   "outputs": [
    {
     "data": {
      "text/html": [
       "<div>\n",
       "<style scoped>\n",
       "    .dataframe tbody tr th:only-of-type {\n",
       "        vertical-align: middle;\n",
       "    }\n",
       "\n",
       "    .dataframe tbody tr th {\n",
       "        vertical-align: top;\n",
       "    }\n",
       "\n",
       "    .dataframe thead th {\n",
       "        text-align: right;\n",
       "    }\n",
       "</style>\n",
       "<table border=\"1\" class=\"dataframe\">\n",
       "  <thead>\n",
       "    <tr style=\"text-align: right;\">\n",
       "      <th></th>\n",
       "      <th>latitude</th>\n",
       "      <th>longitude</th>\n",
       "    </tr>\n",
       "  </thead>\n",
       "  <tbody>\n",
       "    <tr>\n",
       "      <th>0</th>\n",
       "      <td>37.782551</td>\n",
       "      <td>-122.445368</td>\n",
       "    </tr>\n",
       "    <tr>\n",
       "      <th>1</th>\n",
       "      <td>37.782745</td>\n",
       "      <td>-122.444586</td>\n",
       "    </tr>\n",
       "    <tr>\n",
       "      <th>2</th>\n",
       "      <td>37.782842</td>\n",
       "      <td>-122.443688</td>\n",
       "    </tr>\n",
       "    <tr>\n",
       "      <th>3</th>\n",
       "      <td>37.782919</td>\n",
       "      <td>-122.442815</td>\n",
       "    </tr>\n",
       "    <tr>\n",
       "      <th>4</th>\n",
       "      <td>37.782992</td>\n",
       "      <td>-122.442112</td>\n",
       "    </tr>\n",
       "  </tbody>\n",
       "</table>\n",
       "</div>"
      ],
      "text/plain": [
       "    latitude   longitude\n",
       "0  37.782551 -122.445368\n",
       "1  37.782745 -122.444586\n",
       "2  37.782842 -122.443688\n",
       "3  37.782919 -122.442815\n",
       "4  37.782992 -122.442112"
      ]
     },
     "execution_count": 6,
     "metadata": {},
     "output_type": "execute_result"
    }
   ],
   "source": [
    "# load the taxi dataset and take a peek\n",
    "taxi = gmaps.datasets.load_dataset_as_df('taxi_rides')\n",
    "taxi.head()"
   ]
  },
  {
   "cell_type": "code",
   "execution_count": 7,
   "metadata": {},
   "outputs": [
    {
     "data": {
      "application/vnd.jupyter.widget-view+json": {
       "model_id": "f9e17b5e62e64d9489d2703fbd686bfc",
       "version_major": 2,
       "version_minor": 0
      },
      "text/plain": [
       "Figure(layout=FigureLayout(height='420px'))"
      ]
     },
     "metadata": {},
     "output_type": "display_data"
    }
   ],
   "source": [
    "# retrieve locations as latitude and longitude\n",
    "locations = taxi[['latitude', 'longitude']]\n",
    "# set the figure\n",
    "fig = gmaps.figure()\n",
    "# add symbol layer\n",
    "fig.add_layer(gmaps.symbol_layer(locations, fill_color='yellow', stroke_color='red', scale=6))\n",
    "# display the map\n",
    "fig"
   ]
  },
  {
   "cell_type": "markdown",
   "metadata": {},
   "source": [
    "Change to heatmap:"
   ]
  },
  {
   "cell_type": "code",
   "execution_count": 8,
   "metadata": {},
   "outputs": [
    {
     "data": {
      "application/vnd.jupyter.widget-view+json": {
       "model_id": "e1c63c5eeda946e7a55930e352ba1748",
       "version_major": 2,
       "version_minor": 0
      },
      "text/plain": [
       "Figure(layout=FigureLayout(height='420px'))"
      ]
     },
     "metadata": {},
     "output_type": "display_data"
    }
   ],
   "source": [
    "locations = taxi[['latitude','longitude']]\n",
    "# setting weights to 1 since no additional feature is available to use\n",
    "weights = np.ones(len(taxi))\n",
    "fig = gmaps.figure()\n",
    "fig.add_layer(gmaps.heatmap_layer(locations, weights=weights))\n",
    "fig"
   ]
  },
  {
   "cell_type": "markdown",
   "metadata": {},
   "source": [
    "Lets pick two coordinate pairs and ask for directions:"
   ]
  },
  {
   "cell_type": "code",
   "execution_count": 9,
   "metadata": {},
   "outputs": [],
   "source": [
    "FROM = taxi.iloc[42,:]\n",
    "TO = taxi.iloc[314,:]"
   ]
  },
  {
   "cell_type": "code",
   "execution_count": 10,
   "metadata": {},
   "outputs": [
    {
     "data": {
      "application/vnd.jupyter.widget-view+json": {
       "model_id": "8c1edf1c2d314bf0ac1f4f9464c8ca11",
       "version_major": 2,
       "version_minor": 0
      },
      "text/plain": [
       "Figure(layout=FigureLayout(height='420px'))"
      ]
     },
     "metadata": {},
     "output_type": "display_data"
    }
   ],
   "source": [
    "fig = gmaps.figure()\n",
    "fig.add_layer(gmaps.directions.Directions(FROM, TO, mode='car'))\n",
    "fig"
   ]
  },
  {
   "cell_type": "markdown",
   "metadata": {},
   "source": [
    "Display earthquake locations and show their magnitudes:"
   ]
  },
  {
   "cell_type": "code",
   "execution_count": 11,
   "metadata": {},
   "outputs": [
    {
     "data": {
      "application/vnd.jupyter.widget-view+json": {
       "model_id": "f1f7fe5184194ba187f2cd20d02db228",
       "version_major": 2,
       "version_minor": 0
      },
      "text/plain": [
       "Figure(layout=FigureLayout(height='420px'))"
      ]
     },
     "metadata": {},
     "output_type": "display_data"
    }
   ],
   "source": [
    "# load the earthquake dataset and take a peek\n",
    "earthquake_df = gmaps.datasets.load_dataset_as_df('earthquakes')\n",
    "earthquake_df.head()\n",
    "# retrieve locations as latitude and longitude\n",
    "locations = earthquake_df[['latitude', 'longitude']]\n",
    "# set weights as per magnitude\n",
    "weights = earthquake_df['magnitude']\n",
    "# set the figure\n",
    "fig = gmaps.figure()\n",
    "# add heatmap layer\n",
    "fig.add_layer(gmaps.heatmap_layer(locations, weights=weights))\n",
    "# display the map\n",
    "fig"
   ]
  },
  {
   "cell_type": "markdown",
   "metadata": {},
   "source": [
    "Change the map type to Satellite or Hybrid:"
   ]
  },
  {
   "cell_type": "code",
   "execution_count": 12,
   "metadata": {},
   "outputs": [
    {
     "data": {
      "application/vnd.jupyter.widget-view+json": {
       "model_id": "0c8a8b14ccff4f2fa8c7d065406e42a2",
       "version_major": 2,
       "version_minor": 0
      },
      "text/plain": [
       "Figure(layout=FigureLayout(height='420px'))"
      ]
     },
     "metadata": {},
     "output_type": "display_data"
    }
   ],
   "source": [
    "# load the earthquake dataset and take a peek\n",
    "earthquake_df = gmaps.datasets.load_dataset_as_df('earthquakes')\n",
    "earthquake_df.head()\n",
    "# retrieve locations as latitude and longitude\n",
    "locations = earthquake_df[['latitude', 'longitude']]\n",
    "# set weights as per magnitude\n",
    "weights = earthquake_df['magnitude']\n",
    "# set the figure\n",
    "fig = gmaps.figure(map_type=\"SATELLITE\")\n",
    "# add heatmap layer\n",
    "fig.add_layer(gmaps.heatmap_layer(locations, weights=weights))\n",
    "# display the map\n",
    "fig"
   ]
  },
  {
   "cell_type": "code",
   "execution_count": 13,
   "metadata": {},
   "outputs": [
    {
     "data": {
      "application/vnd.jupyter.widget-view+json": {
       "model_id": "02e0ca5b9c3d4dd5890edbf40152f72c",
       "version_major": 2,
       "version_minor": 0
      },
      "text/plain": [
       "Figure(layout=FigureLayout(height='420px'))"
      ]
     },
     "metadata": {},
     "output_type": "display_data"
    }
   ],
   "source": [
    "fig = gmaps.figure(map_type=\"HYBRID\")\n",
    "fig.add_layer(gmaps.directions.Directions(FROM, TO, mode='car'))\n",
    "fig"
   ]
  },
  {
   "cell_type": "markdown",
   "metadata": {},
   "source": [
    "Set New York's central coordinates and display a map centered to that:"
   ]
  },
  {
   "cell_type": "code",
   "execution_count": 14,
   "metadata": {},
   "outputs": [
    {
     "data": {
      "application/vnd.jupyter.widget-view+json": {
       "model_id": "32c59d29ef4f4e0e8c916f4ddd73efae",
       "version_major": 2,
       "version_minor": 0
      },
      "text/plain": [
       "Figure(layout=FigureLayout(height='420px'))"
      ]
     },
     "metadata": {},
     "output_type": "display_data"
    }
   ],
   "source": [
    "new_york_coordinates = (40.75, -74.00)\n",
    "gmaps.figure(center = new_york_coordinates, zoom_level=13)"
   ]
  },
  {
   "cell_type": "markdown",
   "metadata": {},
   "source": [
    "Display DigiPen on the map\n",
    "\n",
    "www.latlong.net<br>\n",
    "Redmond<br>\n",
    "Latitude: 47.673988<br>\n",
    "Longitude: -122.121513\n",
    "\n",
    "DigiPen<br>\n",
    "Latitude: 47.688807<br>\n",
    "Longitude: -122.150134"
   ]
  },
  {
   "cell_type": "code",
   "execution_count": 15,
   "metadata": {},
   "outputs": [
    {
     "data": {
      "application/vnd.jupyter.widget-view+json": {
       "model_id": "2c4e69a62f704df1bc2ffb73dde7538c",
       "version_major": 2,
       "version_minor": 0
      },
      "text/plain": [
       "Figure(layout=FigureLayout(height='420px'))"
      ]
     },
     "metadata": {},
     "output_type": "display_data"
    }
   ],
   "source": [
    "digipen_coordinates = (47.688807, -122.150134)\n",
    "gmaps.figure(center = digipen_coordinates, zoom_level=15)"
   ]
  },
  {
   "cell_type": "markdown",
   "metadata": {},
   "source": [
    "Take a small sample from the NYC Taxi rides which has latitude and longitude information:"
   ]
  },
  {
   "cell_type": "code",
   "execution_count": 16,
   "metadata": {},
   "outputs": [
    {
     "name": "stdout",
     "output_type": "stream",
     "text": [
      "(139, 15)\n"
     ]
    },
    {
     "data": {
      "text/html": [
       "<div>\n",
       "<style scoped>\n",
       "    .dataframe tbody tr th:only-of-type {\n",
       "        vertical-align: middle;\n",
       "    }\n",
       "\n",
       "    .dataframe tbody tr th {\n",
       "        vertical-align: top;\n",
       "    }\n",
       "\n",
       "    .dataframe thead th {\n",
       "        text-align: right;\n",
       "    }\n",
       "</style>\n",
       "<table border=\"1\" class=\"dataframe\">\n",
       "  <thead>\n",
       "    <tr style=\"text-align: right;\">\n",
       "      <th></th>\n",
       "      <th>Unnamed: 0</th>\n",
       "      <th>medallion</th>\n",
       "      <th>hack_license</th>\n",
       "      <th>vendor_id</th>\n",
       "      <th>rate_code</th>\n",
       "      <th>store_and_fwd_flag</th>\n",
       "      <th>pickup_datetime</th>\n",
       "      <th>dropoff_datetime</th>\n",
       "      <th>passenger_count</th>\n",
       "      <th>trip_time_in_secs</th>\n",
       "      <th>trip_distance</th>\n",
       "      <th>pickup_longitude</th>\n",
       "      <th>pickup_latitude</th>\n",
       "      <th>dropoff_longitude</th>\n",
       "      <th>dropoff_latitude</th>\n",
       "    </tr>\n",
       "  </thead>\n",
       "  <tbody>\n",
       "    <tr>\n",
       "      <th>0</th>\n",
       "      <td>9900641</td>\n",
       "      <td>FD6A1181E0775BAB364BCC2F85E68202</td>\n",
       "      <td>3DB3C7FA79C48DC996093C9BB5524C90</td>\n",
       "      <td>CMT</td>\n",
       "      <td>2</td>\n",
       "      <td>N</td>\n",
       "      <td>2013-02-11 06:46:50</td>\n",
       "      <td>2013-02-11 07:18:33</td>\n",
       "      <td>2</td>\n",
       "      <td>1902</td>\n",
       "      <td>16.10</td>\n",
       "      <td>-73.976471</td>\n",
       "      <td>40.744869</td>\n",
       "      <td>-73.782478</td>\n",
       "      <td>40.648815</td>\n",
       "    </tr>\n",
       "    <tr>\n",
       "      <th>1</th>\n",
       "      <td>4366405</td>\n",
       "      <td>DA2617C774E1C173F1F688500A03EC6A</td>\n",
       "      <td>0C9B95E3059720DDF3CB8B1A43057ABC</td>\n",
       "      <td>CMT</td>\n",
       "      <td>1</td>\n",
       "      <td>N</td>\n",
       "      <td>2013-02-28 13:24:03</td>\n",
       "      <td>2013-02-28 13:39:40</td>\n",
       "      <td>1</td>\n",
       "      <td>936</td>\n",
       "      <td>2.00</td>\n",
       "      <td>-73.999069</td>\n",
       "      <td>40.719170</td>\n",
       "      <td>-74.005203</td>\n",
       "      <td>40.740665</td>\n",
       "    </tr>\n",
       "    <tr>\n",
       "      <th>2</th>\n",
       "      <td>8902938</td>\n",
       "      <td>F7F570E1A4FB56F811260B181653D91A</td>\n",
       "      <td>DC51C25579775925CD83C35DC2474083</td>\n",
       "      <td>CMT</td>\n",
       "      <td>1</td>\n",
       "      <td>N</td>\n",
       "      <td>2013-02-07 15:19:31</td>\n",
       "      <td>2013-02-07 15:22:54</td>\n",
       "      <td>1</td>\n",
       "      <td>203</td>\n",
       "      <td>0.30</td>\n",
       "      <td>-73.963882</td>\n",
       "      <td>40.765438</td>\n",
       "      <td>-73.969406</td>\n",
       "      <td>40.768372</td>\n",
       "    </tr>\n",
       "    <tr>\n",
       "      <th>3</th>\n",
       "      <td>3554704</td>\n",
       "      <td>C901F6F260BB825D6ADA7BBA82EDCDAF</td>\n",
       "      <td>E81AB910D7ED1E06E56BD97F80E50A09</td>\n",
       "      <td>VTS</td>\n",
       "      <td>1</td>\n",
       "      <td>NaN</td>\n",
       "      <td>2013-02-19 17:50:00</td>\n",
       "      <td>2013-02-19 17:59:00</td>\n",
       "      <td>1</td>\n",
       "      <td>540</td>\n",
       "      <td>1.99</td>\n",
       "      <td>-74.009880</td>\n",
       "      <td>40.721348</td>\n",
       "      <td>-74.005074</td>\n",
       "      <td>40.742733</td>\n",
       "    </tr>\n",
       "    <tr>\n",
       "      <th>4</th>\n",
       "      <td>10853369</td>\n",
       "      <td>F6E9B6D3636B7357A87D71BC71C5B36F</td>\n",
       "      <td>D9F0CE02744C215B23AAD18842801788</td>\n",
       "      <td>CMT</td>\n",
       "      <td>1</td>\n",
       "      <td>N</td>\n",
       "      <td>2013-02-22 05:25:01</td>\n",
       "      <td>2013-02-22 05:40:25</td>\n",
       "      <td>2</td>\n",
       "      <td>923</td>\n",
       "      <td>8.70</td>\n",
       "      <td>-73.985062</td>\n",
       "      <td>40.744160</td>\n",
       "      <td>-73.883621</td>\n",
       "      <td>40.775604</td>\n",
       "    </tr>\n",
       "  </tbody>\n",
       "</table>\n",
       "</div>"
      ],
      "text/plain": [
       "   Unnamed: 0                         medallion  \\\n",
       "0     9900641  FD6A1181E0775BAB364BCC2F85E68202   \n",
       "1     4366405  DA2617C774E1C173F1F688500A03EC6A   \n",
       "2     8902938  F7F570E1A4FB56F811260B181653D91A   \n",
       "3     3554704  C901F6F260BB825D6ADA7BBA82EDCDAF   \n",
       "4    10853369  F6E9B6D3636B7357A87D71BC71C5B36F   \n",
       "\n",
       "                       hack_license vendor_id  rate_code store_and_fwd_flag  \\\n",
       "0  3DB3C7FA79C48DC996093C9BB5524C90       CMT          2                  N   \n",
       "1  0C9B95E3059720DDF3CB8B1A43057ABC       CMT          1                  N   \n",
       "2  DC51C25579775925CD83C35DC2474083       CMT          1                  N   \n",
       "3  E81AB910D7ED1E06E56BD97F80E50A09       VTS          1                NaN   \n",
       "4  D9F0CE02744C215B23AAD18842801788       CMT          1                  N   \n",
       "\n",
       "       pickup_datetime     dropoff_datetime  passenger_count  \\\n",
       "0  2013-02-11 06:46:50  2013-02-11 07:18:33                2   \n",
       "1  2013-02-28 13:24:03  2013-02-28 13:39:40                1   \n",
       "2  2013-02-07 15:19:31  2013-02-07 15:22:54                1   \n",
       "3  2013-02-19 17:50:00  2013-02-19 17:59:00                1   \n",
       "4  2013-02-22 05:25:01  2013-02-22 05:40:25                2   \n",
       "\n",
       "   trip_time_in_secs  trip_distance  pickup_longitude  pickup_latitude  \\\n",
       "0               1902          16.10        -73.976471        40.744869   \n",
       "1                936           2.00        -73.999069        40.719170   \n",
       "2                203           0.30        -73.963882        40.765438   \n",
       "3                540           1.99        -74.009880        40.721348   \n",
       "4                923           8.70        -73.985062        40.744160   \n",
       "\n",
       "   dropoff_longitude  dropoff_latitude  \n",
       "0         -73.782478         40.648815  \n",
       "1         -74.005203         40.740665  \n",
       "2         -73.969406         40.768372  \n",
       "3         -74.005074         40.742733  \n",
       "4         -73.883621         40.775604  "
      ]
     },
     "execution_count": 16,
     "metadata": {},
     "output_type": "execute_result"
    }
   ],
   "source": [
    "df_sample = pd.read_csv('df_sample.csv')\n",
    "print(df_sample.shape)\n",
    "df_sample.head()"
   ]
  },
  {
   "cell_type": "markdown",
   "metadata": {},
   "source": [
    "Prepare to use loc or iloc and pickup latitude and longitude information:"
   ]
  },
  {
   "cell_type": "code",
   "execution_count": 17,
   "metadata": {},
   "outputs": [
    {
     "data": {
      "text/html": [
       "<div>\n",
       "<style scoped>\n",
       "    .dataframe tbody tr th:only-of-type {\n",
       "        vertical-align: middle;\n",
       "    }\n",
       "\n",
       "    .dataframe tbody tr th {\n",
       "        vertical-align: top;\n",
       "    }\n",
       "\n",
       "    .dataframe thead th {\n",
       "        text-align: right;\n",
       "    }\n",
       "</style>\n",
       "<table border=\"1\" class=\"dataframe\">\n",
       "  <thead>\n",
       "    <tr style=\"text-align: right;\">\n",
       "      <th></th>\n",
       "      <th>pickup_longitude</th>\n",
       "      <th>pickup_latitude</th>\n",
       "    </tr>\n",
       "  </thead>\n",
       "  <tbody>\n",
       "    <tr>\n",
       "      <th>0</th>\n",
       "      <td>-73.976471</td>\n",
       "      <td>40.744869</td>\n",
       "    </tr>\n",
       "    <tr>\n",
       "      <th>1</th>\n",
       "      <td>-73.999069</td>\n",
       "      <td>40.719170</td>\n",
       "    </tr>\n",
       "    <tr>\n",
       "      <th>2</th>\n",
       "      <td>-73.963882</td>\n",
       "      <td>40.765438</td>\n",
       "    </tr>\n",
       "    <tr>\n",
       "      <th>3</th>\n",
       "      <td>-74.009880</td>\n",
       "      <td>40.721348</td>\n",
       "    </tr>\n",
       "    <tr>\n",
       "      <th>4</th>\n",
       "      <td>-73.985062</td>\n",
       "      <td>40.744160</td>\n",
       "    </tr>\n",
       "    <tr>\n",
       "      <th>...</th>\n",
       "      <td>...</td>\n",
       "      <td>...</td>\n",
       "    </tr>\n",
       "    <tr>\n",
       "      <th>134</th>\n",
       "      <td>-73.988396</td>\n",
       "      <td>40.768280</td>\n",
       "    </tr>\n",
       "    <tr>\n",
       "      <th>135</th>\n",
       "      <td>-74.001625</td>\n",
       "      <td>40.746704</td>\n",
       "    </tr>\n",
       "    <tr>\n",
       "      <th>136</th>\n",
       "      <td>-73.995438</td>\n",
       "      <td>40.723183</td>\n",
       "    </tr>\n",
       "    <tr>\n",
       "      <th>137</th>\n",
       "      <td>-73.970680</td>\n",
       "      <td>40.755634</td>\n",
       "    </tr>\n",
       "    <tr>\n",
       "      <th>138</th>\n",
       "      <td>-73.790749</td>\n",
       "      <td>40.643902</td>\n",
       "    </tr>\n",
       "  </tbody>\n",
       "</table>\n",
       "<p>139 rows × 2 columns</p>\n",
       "</div>"
      ],
      "text/plain": [
       "     pickup_longitude  pickup_latitude\n",
       "0          -73.976471        40.744869\n",
       "1          -73.999069        40.719170\n",
       "2          -73.963882        40.765438\n",
       "3          -74.009880        40.721348\n",
       "4          -73.985062        40.744160\n",
       "..                ...              ...\n",
       "134        -73.988396        40.768280\n",
       "135        -74.001625        40.746704\n",
       "136        -73.995438        40.723183\n",
       "137        -73.970680        40.755634\n",
       "138        -73.790749        40.643902\n",
       "\n",
       "[139 rows x 2 columns]"
      ]
     },
     "execution_count": 17,
     "metadata": {},
     "output_type": "execute_result"
    }
   ],
   "source": [
    "df_sample.loc[:,['pickup_longitude', 'pickup_latitude']]"
   ]
  },
  {
   "cell_type": "code",
   "execution_count": 18,
   "metadata": {},
   "outputs": [
    {
     "data": {
      "text/html": [
       "<div>\n",
       "<style scoped>\n",
       "    .dataframe tbody tr th:only-of-type {\n",
       "        vertical-align: middle;\n",
       "    }\n",
       "\n",
       "    .dataframe tbody tr th {\n",
       "        vertical-align: top;\n",
       "    }\n",
       "\n",
       "    .dataframe thead th {\n",
       "        text-align: right;\n",
       "    }\n",
       "</style>\n",
       "<table border=\"1\" class=\"dataframe\">\n",
       "  <thead>\n",
       "    <tr style=\"text-align: right;\">\n",
       "      <th></th>\n",
       "      <th>pickup_longitude</th>\n",
       "      <th>pickup_latitude</th>\n",
       "    </tr>\n",
       "  </thead>\n",
       "  <tbody>\n",
       "    <tr>\n",
       "      <th>0</th>\n",
       "      <td>-73.976471</td>\n",
       "      <td>40.744869</td>\n",
       "    </tr>\n",
       "    <tr>\n",
       "      <th>1</th>\n",
       "      <td>-73.999069</td>\n",
       "      <td>40.719170</td>\n",
       "    </tr>\n",
       "    <tr>\n",
       "      <th>2</th>\n",
       "      <td>-73.963882</td>\n",
       "      <td>40.765438</td>\n",
       "    </tr>\n",
       "    <tr>\n",
       "      <th>3</th>\n",
       "      <td>-74.009880</td>\n",
       "      <td>40.721348</td>\n",
       "    </tr>\n",
       "    <tr>\n",
       "      <th>4</th>\n",
       "      <td>-73.985062</td>\n",
       "      <td>40.744160</td>\n",
       "    </tr>\n",
       "  </tbody>\n",
       "</table>\n",
       "</div>"
      ],
      "text/plain": [
       "   pickup_longitude  pickup_latitude\n",
       "0        -73.976471        40.744869\n",
       "1        -73.999069        40.719170\n",
       "2        -73.963882        40.765438\n",
       "3        -74.009880        40.721348\n",
       "4        -73.985062        40.744160"
      ]
     },
     "execution_count": 18,
     "metadata": {},
     "output_type": "execute_result"
    }
   ],
   "source": [
    "df_sample.iloc[:5,11:13]"
   ]
  },
  {
   "cell_type": "markdown",
   "metadata": {},
   "source": [
    "Lets quickly check on stats:"
   ]
  },
  {
   "cell_type": "code",
   "execution_count": 19,
   "metadata": {},
   "outputs": [
    {
     "data": {
      "text/html": [
       "<div>\n",
       "<style scoped>\n",
       "    .dataframe tbody tr th:only-of-type {\n",
       "        vertical-align: middle;\n",
       "    }\n",
       "\n",
       "    .dataframe tbody tr th {\n",
       "        vertical-align: top;\n",
       "    }\n",
       "\n",
       "    .dataframe thead th {\n",
       "        text-align: right;\n",
       "    }\n",
       "</style>\n",
       "<table border=\"1\" class=\"dataframe\">\n",
       "  <thead>\n",
       "    <tr style=\"text-align: right;\">\n",
       "      <th></th>\n",
       "      <th>Unnamed: 0</th>\n",
       "      <th>rate_code</th>\n",
       "      <th>passenger_count</th>\n",
       "      <th>trip_time_in_secs</th>\n",
       "      <th>trip_distance</th>\n",
       "      <th>pickup_longitude</th>\n",
       "      <th>pickup_latitude</th>\n",
       "      <th>dropoff_longitude</th>\n",
       "      <th>dropoff_latitude</th>\n",
       "    </tr>\n",
       "  </thead>\n",
       "  <tbody>\n",
       "    <tr>\n",
       "      <th>count</th>\n",
       "      <td>1.390000e+02</td>\n",
       "      <td>139.000000</td>\n",
       "      <td>139.000000</td>\n",
       "      <td>139.000000</td>\n",
       "      <td>139.000000</td>\n",
       "      <td>139.000000</td>\n",
       "      <td>139.000000</td>\n",
       "      <td>139.000000</td>\n",
       "      <td>139.000000</td>\n",
       "    </tr>\n",
       "    <tr>\n",
       "      <th>mean</th>\n",
       "      <td>7.381953e+06</td>\n",
       "      <td>1.014388</td>\n",
       "      <td>1.697842</td>\n",
       "      <td>661.086331</td>\n",
       "      <td>2.616691</td>\n",
       "      <td>-72.910344</td>\n",
       "      <td>40.164288</td>\n",
       "      <td>-72.381686</td>\n",
       "      <td>39.870066</td>\n",
       "    </tr>\n",
       "    <tr>\n",
       "      <th>std</th>\n",
       "      <td>4.081035e+06</td>\n",
       "      <td>0.119517</td>\n",
       "      <td>1.391770</td>\n",
       "      <td>464.324981</td>\n",
       "      <td>3.064779</td>\n",
       "      <td>8.841268</td>\n",
       "      <td>4.870441</td>\n",
       "      <td>10.789198</td>\n",
       "      <td>5.943085</td>\n",
       "    </tr>\n",
       "    <tr>\n",
       "      <th>min</th>\n",
       "      <td>2.770270e+05</td>\n",
       "      <td>1.000000</td>\n",
       "      <td>1.000000</td>\n",
       "      <td>2.000000</td>\n",
       "      <td>0.000000</td>\n",
       "      <td>-74.010262</td>\n",
       "      <td>0.000000</td>\n",
       "      <td>-74.013939</td>\n",
       "      <td>0.000000</td>\n",
       "    </tr>\n",
       "    <tr>\n",
       "      <th>25%</th>\n",
       "      <td>3.683864e+06</td>\n",
       "      <td>1.000000</td>\n",
       "      <td>1.000000</td>\n",
       "      <td>360.000000</td>\n",
       "      <td>1.070000</td>\n",
       "      <td>-73.990821</td>\n",
       "      <td>40.737200</td>\n",
       "      <td>-73.993863</td>\n",
       "      <td>40.729330</td>\n",
       "    </tr>\n",
       "    <tr>\n",
       "      <th>50%</th>\n",
       "      <td>7.037160e+06</td>\n",
       "      <td>1.000000</td>\n",
       "      <td>1.000000</td>\n",
       "      <td>530.000000</td>\n",
       "      <td>1.640000</td>\n",
       "      <td>-73.981377</td>\n",
       "      <td>40.755634</td>\n",
       "      <td>-73.982162</td>\n",
       "      <td>40.751171</td>\n",
       "    </tr>\n",
       "    <tr>\n",
       "      <th>75%</th>\n",
       "      <td>1.106092e+07</td>\n",
       "      <td>1.000000</td>\n",
       "      <td>2.000000</td>\n",
       "      <td>870.000000</td>\n",
       "      <td>2.650000</td>\n",
       "      <td>-73.962941</td>\n",
       "      <td>40.767616</td>\n",
       "      <td>-73.971775</td>\n",
       "      <td>40.766848</td>\n",
       "    </tr>\n",
       "    <tr>\n",
       "      <th>max</th>\n",
       "      <td>1.389394e+07</td>\n",
       "      <td>2.000000</td>\n",
       "      <td>6.000000</td>\n",
       "      <td>2771.000000</td>\n",
       "      <td>18.400000</td>\n",
       "      <td>0.000000</td>\n",
       "      <td>40.797173</td>\n",
       "      <td>0.000000</td>\n",
       "      <td>40.871243</td>\n",
       "    </tr>\n",
       "  </tbody>\n",
       "</table>\n",
       "</div>"
      ],
      "text/plain": [
       "         Unnamed: 0   rate_code  passenger_count  trip_time_in_secs  \\\n",
       "count  1.390000e+02  139.000000       139.000000         139.000000   \n",
       "mean   7.381953e+06    1.014388         1.697842         661.086331   \n",
       "std    4.081035e+06    0.119517         1.391770         464.324981   \n",
       "min    2.770270e+05    1.000000         1.000000           2.000000   \n",
       "25%    3.683864e+06    1.000000         1.000000         360.000000   \n",
       "50%    7.037160e+06    1.000000         1.000000         530.000000   \n",
       "75%    1.106092e+07    1.000000         2.000000         870.000000   \n",
       "max    1.389394e+07    2.000000         6.000000        2771.000000   \n",
       "\n",
       "       trip_distance  pickup_longitude  pickup_latitude  dropoff_longitude  \\\n",
       "count     139.000000        139.000000       139.000000         139.000000   \n",
       "mean        2.616691        -72.910344        40.164288         -72.381686   \n",
       "std         3.064779          8.841268         4.870441          10.789198   \n",
       "min         0.000000        -74.010262         0.000000         -74.013939   \n",
       "25%         1.070000        -73.990821        40.737200         -73.993863   \n",
       "50%         1.640000        -73.981377        40.755634         -73.982162   \n",
       "75%         2.650000        -73.962941        40.767616         -73.971775   \n",
       "max        18.400000          0.000000        40.797173           0.000000   \n",
       "\n",
       "       dropoff_latitude  \n",
       "count        139.000000  \n",
       "mean          39.870066  \n",
       "std            5.943085  \n",
       "min            0.000000  \n",
       "25%           40.729330  \n",
       "50%           40.751171  \n",
       "75%           40.766848  \n",
       "max           40.871243  "
      ]
     },
     "execution_count": 19,
     "metadata": {},
     "output_type": "execute_result"
    }
   ],
   "source": [
    "df_sample.describe()"
   ]
  },
  {
   "cell_type": "markdown",
   "metadata": {},
   "source": [
    "Note the min and max values have some incorrect data.\n",
    "\n",
    "Lets check for off coordinates:"
   ]
  },
  {
   "cell_type": "code",
   "execution_count": 20,
   "metadata": {},
   "outputs": [
    {
     "data": {
      "text/html": [
       "<div>\n",
       "<style scoped>\n",
       "    .dataframe tbody tr th:only-of-type {\n",
       "        vertical-align: middle;\n",
       "    }\n",
       "\n",
       "    .dataframe tbody tr th {\n",
       "        vertical-align: top;\n",
       "    }\n",
       "\n",
       "    .dataframe thead th {\n",
       "        text-align: right;\n",
       "    }\n",
       "</style>\n",
       "<table border=\"1\" class=\"dataframe\">\n",
       "  <thead>\n",
       "    <tr style=\"text-align: right;\">\n",
       "      <th></th>\n",
       "      <th>Unnamed: 0</th>\n",
       "      <th>medallion</th>\n",
       "      <th>hack_license</th>\n",
       "      <th>vendor_id</th>\n",
       "      <th>rate_code</th>\n",
       "      <th>store_and_fwd_flag</th>\n",
       "      <th>pickup_datetime</th>\n",
       "      <th>dropoff_datetime</th>\n",
       "      <th>passenger_count</th>\n",
       "      <th>trip_time_in_secs</th>\n",
       "      <th>trip_distance</th>\n",
       "      <th>pickup_longitude</th>\n",
       "      <th>pickup_latitude</th>\n",
       "      <th>dropoff_longitude</th>\n",
       "      <th>dropoff_latitude</th>\n",
       "    </tr>\n",
       "  </thead>\n",
       "  <tbody>\n",
       "    <tr>\n",
       "      <th>19</th>\n",
       "      <td>13424736</td>\n",
       "      <td>6261E3C14E46A8DF1101A4539562BB29</td>\n",
       "      <td>E5139ABD72E952FE5092EF264C32CF9C</td>\n",
       "      <td>CMT</td>\n",
       "      <td>1</td>\n",
       "      <td>N</td>\n",
       "      <td>2013-02-03 12:55:30</td>\n",
       "      <td>2013-02-03 13:03:58</td>\n",
       "      <td>1</td>\n",
       "      <td>507</td>\n",
       "      <td>2.10</td>\n",
       "      <td>0.0</td>\n",
       "      <td>0.0</td>\n",
       "      <td>0.0</td>\n",
       "      <td>0.0</td>\n",
       "    </tr>\n",
       "    <tr>\n",
       "      <th>59</th>\n",
       "      <td>5803669</td>\n",
       "      <td>B1AB9412F2A2079FF18120DE14984705</td>\n",
       "      <td>9D11B6E767EE7FBED69D0ECE4FDBBF67</td>\n",
       "      <td>VTS</td>\n",
       "      <td>1</td>\n",
       "      <td>NaN</td>\n",
       "      <td>2013-02-26 23:34:00</td>\n",
       "      <td>2013-02-27 00:00:00</td>\n",
       "      <td>2</td>\n",
       "      <td>1560</td>\n",
       "      <td>6.45</td>\n",
       "      <td>0.0</td>\n",
       "      <td>0.0</td>\n",
       "      <td>0.0</td>\n",
       "      <td>0.0</td>\n",
       "    </tr>\n",
       "  </tbody>\n",
       "</table>\n",
       "</div>"
      ],
      "text/plain": [
       "    Unnamed: 0                         medallion  \\\n",
       "19    13424736  6261E3C14E46A8DF1101A4539562BB29   \n",
       "59     5803669  B1AB9412F2A2079FF18120DE14984705   \n",
       "\n",
       "                        hack_license vendor_id  rate_code store_and_fwd_flag  \\\n",
       "19  E5139ABD72E952FE5092EF264C32CF9C       CMT          1                  N   \n",
       "59  9D11B6E767EE7FBED69D0ECE4FDBBF67       VTS          1                NaN   \n",
       "\n",
       "        pickup_datetime     dropoff_datetime  passenger_count  \\\n",
       "19  2013-02-03 12:55:30  2013-02-03 13:03:58                1   \n",
       "59  2013-02-26 23:34:00  2013-02-27 00:00:00                2   \n",
       "\n",
       "    trip_time_in_secs  trip_distance  pickup_longitude  pickup_latitude  \\\n",
       "19                507           2.10               0.0              0.0   \n",
       "59               1560           6.45               0.0              0.0   \n",
       "\n",
       "    dropoff_longitude  dropoff_latitude  \n",
       "19                0.0               0.0  \n",
       "59                0.0               0.0  "
      ]
     },
     "execution_count": 20,
     "metadata": {},
     "output_type": "execute_result"
    }
   ],
   "source": [
    "df_sample[df_sample['pickup_latitude']<40]"
   ]
  },
  {
   "cell_type": "markdown",
   "metadata": {},
   "source": [
    "Remove these and check the stats again:"
   ]
  },
  {
   "cell_type": "code",
   "execution_count": 21,
   "metadata": {},
   "outputs": [],
   "source": [
    "df_sample = df_sample[df_sample['pickup_latitude']>40]"
   ]
  },
  {
   "cell_type": "code",
   "execution_count": 22,
   "metadata": {},
   "outputs": [
    {
     "data": {
      "text/plain": [
       "(137, 15)"
      ]
     },
     "execution_count": 22,
     "metadata": {},
     "output_type": "execute_result"
    }
   ],
   "source": [
    "df_sample.shape"
   ]
  },
  {
   "cell_type": "code",
   "execution_count": 23,
   "metadata": {},
   "outputs": [
    {
     "data": {
      "text/html": [
       "<div>\n",
       "<style scoped>\n",
       "    .dataframe tbody tr th:only-of-type {\n",
       "        vertical-align: middle;\n",
       "    }\n",
       "\n",
       "    .dataframe tbody tr th {\n",
       "        vertical-align: top;\n",
       "    }\n",
       "\n",
       "    .dataframe thead th {\n",
       "        text-align: right;\n",
       "    }\n",
       "</style>\n",
       "<table border=\"1\" class=\"dataframe\">\n",
       "  <thead>\n",
       "    <tr style=\"text-align: right;\">\n",
       "      <th></th>\n",
       "      <th>Unnamed: 0</th>\n",
       "      <th>rate_code</th>\n",
       "      <th>passenger_count</th>\n",
       "      <th>trip_time_in_secs</th>\n",
       "      <th>trip_distance</th>\n",
       "      <th>pickup_longitude</th>\n",
       "      <th>pickup_latitude</th>\n",
       "      <th>dropoff_longitude</th>\n",
       "      <th>dropoff_latitude</th>\n",
       "    </tr>\n",
       "  </thead>\n",
       "  <tbody>\n",
       "    <tr>\n",
       "      <th>count</th>\n",
       "      <td>1.370000e+02</td>\n",
       "      <td>137.000000</td>\n",
       "      <td>137.000000</td>\n",
       "      <td>137.000000</td>\n",
       "      <td>137.000000</td>\n",
       "      <td>137.000000</td>\n",
       "      <td>137.000000</td>\n",
       "      <td>137.000000</td>\n",
       "      <td>137.000000</td>\n",
       "    </tr>\n",
       "    <tr>\n",
       "      <th>mean</th>\n",
       "      <td>7.349365e+06</td>\n",
       "      <td>1.014599</td>\n",
       "      <td>1.700730</td>\n",
       "      <td>655.649635</td>\n",
       "      <td>2.592482</td>\n",
       "      <td>-73.974728</td>\n",
       "      <td>40.750628</td>\n",
       "      <td>-73.438353</td>\n",
       "      <td>40.452110</td>\n",
       "    </tr>\n",
       "    <tr>\n",
       "      <th>std</th>\n",
       "      <td>4.075769e+06</td>\n",
       "      <td>0.120379</td>\n",
       "      <td>1.400446</td>\n",
       "      <td>461.109940</td>\n",
       "      <td>3.069267</td>\n",
       "      <td>0.032281</td>\n",
       "      <td>0.024937</td>\n",
       "      <td>6.320458</td>\n",
       "      <td>3.481611</td>\n",
       "    </tr>\n",
       "    <tr>\n",
       "      <th>min</th>\n",
       "      <td>2.770270e+05</td>\n",
       "      <td>1.000000</td>\n",
       "      <td>1.000000</td>\n",
       "      <td>2.000000</td>\n",
       "      <td>0.000000</td>\n",
       "      <td>-74.010262</td>\n",
       "      <td>40.643902</td>\n",
       "      <td>-74.013939</td>\n",
       "      <td>0.000000</td>\n",
       "    </tr>\n",
       "    <tr>\n",
       "      <th>25%</th>\n",
       "      <td>3.585947e+06</td>\n",
       "      <td>1.000000</td>\n",
       "      <td>1.000000</td>\n",
       "      <td>360.000000</td>\n",
       "      <td>1.040000</td>\n",
       "      <td>-73.990997</td>\n",
       "      <td>40.737766</td>\n",
       "      <td>-73.994164</td>\n",
       "      <td>40.730118</td>\n",
       "    </tr>\n",
       "    <tr>\n",
       "      <th>50%</th>\n",
       "      <td>7.037160e+06</td>\n",
       "      <td>1.000000</td>\n",
       "      <td>1.000000</td>\n",
       "      <td>530.000000</td>\n",
       "      <td>1.600000</td>\n",
       "      <td>-73.981445</td>\n",
       "      <td>40.756035</td>\n",
       "      <td>-73.982567</td>\n",
       "      <td>40.752472</td>\n",
       "    </tr>\n",
       "    <tr>\n",
       "      <th>75%</th>\n",
       "      <td>1.104654e+07</td>\n",
       "      <td>1.000000</td>\n",
       "      <td>2.000000</td>\n",
       "      <td>840.000000</td>\n",
       "      <td>2.600000</td>\n",
       "      <td>-73.963882</td>\n",
       "      <td>40.768085</td>\n",
       "      <td>-73.972389</td>\n",
       "      <td>40.766869</td>\n",
       "    </tr>\n",
       "    <tr>\n",
       "      <th>max</th>\n",
       "      <td>1.389394e+07</td>\n",
       "      <td>2.000000</td>\n",
       "      <td>6.000000</td>\n",
       "      <td>2771.000000</td>\n",
       "      <td>18.400000</td>\n",
       "      <td>-73.789139</td>\n",
       "      <td>40.797173</td>\n",
       "      <td>0.000000</td>\n",
       "      <td>40.871243</td>\n",
       "    </tr>\n",
       "  </tbody>\n",
       "</table>\n",
       "</div>"
      ],
      "text/plain": [
       "         Unnamed: 0   rate_code  passenger_count  trip_time_in_secs  \\\n",
       "count  1.370000e+02  137.000000       137.000000         137.000000   \n",
       "mean   7.349365e+06    1.014599         1.700730         655.649635   \n",
       "std    4.075769e+06    0.120379         1.400446         461.109940   \n",
       "min    2.770270e+05    1.000000         1.000000           2.000000   \n",
       "25%    3.585947e+06    1.000000         1.000000         360.000000   \n",
       "50%    7.037160e+06    1.000000         1.000000         530.000000   \n",
       "75%    1.104654e+07    1.000000         2.000000         840.000000   \n",
       "max    1.389394e+07    2.000000         6.000000        2771.000000   \n",
       "\n",
       "       trip_distance  pickup_longitude  pickup_latitude  dropoff_longitude  \\\n",
       "count     137.000000        137.000000       137.000000         137.000000   \n",
       "mean        2.592482        -73.974728        40.750628         -73.438353   \n",
       "std         3.069267          0.032281         0.024937           6.320458   \n",
       "min         0.000000        -74.010262        40.643902         -74.013939   \n",
       "25%         1.040000        -73.990997        40.737766         -73.994164   \n",
       "50%         1.600000        -73.981445        40.756035         -73.982567   \n",
       "75%         2.600000        -73.963882        40.768085         -73.972389   \n",
       "max        18.400000        -73.789139        40.797173           0.000000   \n",
       "\n",
       "       dropoff_latitude  \n",
       "count        137.000000  \n",
       "mean          40.452110  \n",
       "std            3.481611  \n",
       "min            0.000000  \n",
       "25%           40.730118  \n",
       "50%           40.752472  \n",
       "75%           40.766869  \n",
       "max           40.871243  "
      ]
     },
     "execution_count": 23,
     "metadata": {},
     "output_type": "execute_result"
    }
   ],
   "source": [
    "df_sample.describe()"
   ]
  },
  {
   "cell_type": "markdown",
   "metadata": {},
   "source": [
    "Looks better, though no guarantees we don't have some other issues with the data.\n",
    "\n",
    "Now use the latitude and longitude features and display locations on the map:"
   ]
  },
  {
   "cell_type": "code",
   "execution_count": 24,
   "metadata": {},
   "outputs": [
    {
     "data": {
      "application/vnd.jupyter.widget-view+json": {
       "model_id": "61fb9481affc45858687331d68c0179e",
       "version_major": 2,
       "version_minor": 0
      },
      "text/plain": [
       "Figure(layout=FigureLayout(height='420px'))"
      ]
     },
     "metadata": {},
     "output_type": "display_data"
    }
   ],
   "source": [
    "df_sample_picklatlong = df_sample[['pickup_latitude', 'pickup_longitude']]\n",
    "\n",
    "df_sample_layer = gmaps.symbol_layer(df_sample_picklatlong, fill_color='green', stroke_color='red', scale=4)\n",
    "fig = gmaps.figure()\n",
    "fig.add_layer(df_sample_layer)\n",
    "fig"
   ]
  },
  {
   "cell_type": "markdown",
   "metadata": {},
   "source": [
    "Now lets take a look at Bing's covid data:"
   ]
  },
  {
   "cell_type": "code",
   "execution_count": 26,
   "metadata": {},
   "outputs": [
    {
     "data": {
      "text/html": [
       "<div>\n",
       "<style scoped>\n",
       "    .dataframe tbody tr th:only-of-type {\n",
       "        vertical-align: middle;\n",
       "    }\n",
       "\n",
       "    .dataframe tbody tr th {\n",
       "        vertical-align: top;\n",
       "    }\n",
       "\n",
       "    .dataframe thead th {\n",
       "        text-align: right;\n",
       "    }\n",
       "</style>\n",
       "<table border=\"1\" class=\"dataframe\">\n",
       "  <thead>\n",
       "    <tr style=\"text-align: right;\">\n",
       "      <th></th>\n",
       "      <th>ID</th>\n",
       "      <th>Updated</th>\n",
       "      <th>Confirmed</th>\n",
       "      <th>ConfirmedChange</th>\n",
       "      <th>Deaths</th>\n",
       "      <th>DeathsChange</th>\n",
       "      <th>Recovered</th>\n",
       "      <th>RecoveredChange</th>\n",
       "      <th>Latitude</th>\n",
       "      <th>Longitude</th>\n",
       "      <th>ISO2</th>\n",
       "      <th>ISO3</th>\n",
       "      <th>Country_Region</th>\n",
       "      <th>AdminRegion1</th>\n",
       "      <th>AdminRegion2</th>\n",
       "    </tr>\n",
       "  </thead>\n",
       "  <tbody>\n",
       "    <tr>\n",
       "      <th>0</th>\n",
       "      <td>338995</td>\n",
       "      <td>01/21/2020</td>\n",
       "      <td>262</td>\n",
       "      <td>NaN</td>\n",
       "      <td>0.0</td>\n",
       "      <td>NaN</td>\n",
       "      <td>NaN</td>\n",
       "      <td>NaN</td>\n",
       "      <td>NaN</td>\n",
       "      <td>NaN</td>\n",
       "      <td>NaN</td>\n",
       "      <td>NaN</td>\n",
       "      <td>Worldwide</td>\n",
       "      <td>NaN</td>\n",
       "      <td>NaN</td>\n",
       "    </tr>\n",
       "    <tr>\n",
       "      <th>1</th>\n",
       "      <td>338996</td>\n",
       "      <td>01/22/2020</td>\n",
       "      <td>313</td>\n",
       "      <td>51.0</td>\n",
       "      <td>0.0</td>\n",
       "      <td>0.0</td>\n",
       "      <td>NaN</td>\n",
       "      <td>NaN</td>\n",
       "      <td>NaN</td>\n",
       "      <td>NaN</td>\n",
       "      <td>NaN</td>\n",
       "      <td>NaN</td>\n",
       "      <td>Worldwide</td>\n",
       "      <td>NaN</td>\n",
       "      <td>NaN</td>\n",
       "    </tr>\n",
       "    <tr>\n",
       "      <th>2</th>\n",
       "      <td>338997</td>\n",
       "      <td>01/23/2020</td>\n",
       "      <td>578</td>\n",
       "      <td>265.0</td>\n",
       "      <td>0.0</td>\n",
       "      <td>0.0</td>\n",
       "      <td>NaN</td>\n",
       "      <td>NaN</td>\n",
       "      <td>NaN</td>\n",
       "      <td>NaN</td>\n",
       "      <td>NaN</td>\n",
       "      <td>NaN</td>\n",
       "      <td>Worldwide</td>\n",
       "      <td>NaN</td>\n",
       "      <td>NaN</td>\n",
       "    </tr>\n",
       "    <tr>\n",
       "      <th>3</th>\n",
       "      <td>338998</td>\n",
       "      <td>01/24/2020</td>\n",
       "      <td>841</td>\n",
       "      <td>263.0</td>\n",
       "      <td>0.0</td>\n",
       "      <td>0.0</td>\n",
       "      <td>NaN</td>\n",
       "      <td>NaN</td>\n",
       "      <td>NaN</td>\n",
       "      <td>NaN</td>\n",
       "      <td>NaN</td>\n",
       "      <td>NaN</td>\n",
       "      <td>Worldwide</td>\n",
       "      <td>NaN</td>\n",
       "      <td>NaN</td>\n",
       "    </tr>\n",
       "    <tr>\n",
       "      <th>4</th>\n",
       "      <td>338999</td>\n",
       "      <td>01/25/2020</td>\n",
       "      <td>1320</td>\n",
       "      <td>479.0</td>\n",
       "      <td>0.0</td>\n",
       "      <td>0.0</td>\n",
       "      <td>NaN</td>\n",
       "      <td>NaN</td>\n",
       "      <td>NaN</td>\n",
       "      <td>NaN</td>\n",
       "      <td>NaN</td>\n",
       "      <td>NaN</td>\n",
       "      <td>Worldwide</td>\n",
       "      <td>NaN</td>\n",
       "      <td>NaN</td>\n",
       "    </tr>\n",
       "  </tbody>\n",
       "</table>\n",
       "</div>"
      ],
      "text/plain": [
       "       ID     Updated  Confirmed  ConfirmedChange  Deaths  DeathsChange  \\\n",
       "0  338995  01/21/2020        262              NaN     0.0           NaN   \n",
       "1  338996  01/22/2020        313             51.0     0.0           0.0   \n",
       "2  338997  01/23/2020        578            265.0     0.0           0.0   \n",
       "3  338998  01/24/2020        841            263.0     0.0           0.0   \n",
       "4  338999  01/25/2020       1320            479.0     0.0           0.0   \n",
       "\n",
       "   Recovered  RecoveredChange  Latitude  Longitude ISO2 ISO3 Country_Region  \\\n",
       "0        NaN              NaN       NaN        NaN  NaN  NaN      Worldwide   \n",
       "1        NaN              NaN       NaN        NaN  NaN  NaN      Worldwide   \n",
       "2        NaN              NaN       NaN        NaN  NaN  NaN      Worldwide   \n",
       "3        NaN              NaN       NaN        NaN  NaN  NaN      Worldwide   \n",
       "4        NaN              NaN       NaN        NaN  NaN  NaN      Worldwide   \n",
       "\n",
       "  AdminRegion1 AdminRegion2  \n",
       "0          NaN          NaN  \n",
       "1          NaN          NaN  \n",
       "2          NaN          NaN  \n",
       "3          NaN          NaN  \n",
       "4          NaN          NaN  "
      ]
     },
     "execution_count": 26,
     "metadata": {},
     "output_type": "execute_result"
    }
   ],
   "source": [
    "df = pd.read_csv('c:/data/BingCOVID19_20201102/data/Bing-COVID19-Data.csv')\n",
    "df.head()"
   ]
  },
  {
   "cell_type": "code",
   "execution_count": 27,
   "metadata": {},
   "outputs": [
    {
     "data": {
      "text/plain": [
       "array([nan, 'AF', 'AL', 'DZ', 'AS', 'AD', 'AO', 'AI', 'AG', 'AR', 'AM',\n",
       "       'AW', 'AU', 'AT', 'AZ', 'BS', 'BH', 'BD', 'BB', 'BY', 'BE', 'BZ',\n",
       "       'BJ', 'BM', 'BT', 'BO', 'BQ', 'BA', 'BW', 'BR', 'VG', 'BN', 'BG',\n",
       "       'BF', 'BI', 'CV', 'KH', 'CM', 'CA', 'KY', 'CF', 'TD', 'CL', 'CN',\n",
       "       'CO', 'KM', 'CG', 'CD', 'CR', 'CI', 'HR', 'CU', 'CW', 'CY', 'CZ',\n",
       "       'DK', 'DJ', 'DM', 'DO', 'EC', 'EG', 'SV', 'GQ', 'ER', 'EE', 'SZ',\n",
       "       'ET', 'FK', 'FO', 'FJ', 'FI', 'FR', 'GF', 'PF', 'GP', 'MQ', 'GA',\n",
       "       'GZ', 'GE', 'DE', 'GH', 'GI', 'GR', 'GL', 'GD', 'GU', 'GT', 'GG',\n",
       "       'GN', 'GW', 'GY', 'HT', 'HN', 'HK', 'HU', 'IS', 'IN', 'ID', 'IR',\n",
       "       'IQ', 'IE', 'IM', 'IL', 'IT', 'JM', 'JP', 'JE', 'JO', 'KZ', 'KE',\n",
       "       'XK', 'KW', 'KG', 'LA', 'LV', 'LB', 'LS', 'LR', 'LY', 'LI', 'LT',\n",
       "       'LU', 'MO', 'MG', 'MW', 'MY', 'MV', 'ML', 'MT', 'MH', 'MR', 'MU',\n",
       "       'YT', 'MX', 'MD', 'MC', 'MN', 'ME', 'MS', 'MA', 'MZ', 'MM', 'NP',\n",
       "       'NL', 'NC', 'NZ', 'NI', 'NE', 'NG', 'MK', 'MP', 'NO', 'OM', 'PK',\n",
       "       'PA', 'PG', 'PY', 'PE', 'PH', 'PL', 'PT', 'PR', 'QA', 'RE', 'RO',\n",
       "       'RU', 'RW', 'XS', 'BL', 'LC', 'MF', 'PM', 'VC', 'SM', 'ST', 'SA',\n",
       "       'SN', 'RS', 'SC', 'SL', 'SG', 'SK', 'SI', 'SB', 'SO', 'ZA', 'KR',\n",
       "       'SS', 'ES', 'LK', 'SD', 'SR', 'SE', 'CH', 'SY', 'TW', 'TJ', 'TZ',\n",
       "       'TH', 'GM', 'TL', 'TG', 'TT', 'TN', 'TR', 'TC', 'VI', 'UG', 'UA',\n",
       "       'AE', 'GB', 'US', 'UY', 'UZ', 'VU', 'VA', 'VE', 'VN', 'WF', 'PS',\n",
       "       'YE', 'ZM', 'ZW'], dtype=object)"
      ]
     },
     "execution_count": 27,
     "metadata": {},
     "output_type": "execute_result"
    }
   ],
   "source": [
    "# list unique ISO2 values\n",
    "df['ISO2'].unique()"
   ]
  },
  {
   "cell_type": "code",
   "execution_count": 28,
   "metadata": {},
   "outputs": [
    {
     "data": {
      "text/html": [
       "<div>\n",
       "<style scoped>\n",
       "    .dataframe tbody tr th:only-of-type {\n",
       "        vertical-align: middle;\n",
       "    }\n",
       "\n",
       "    .dataframe tbody tr th {\n",
       "        vertical-align: top;\n",
       "    }\n",
       "\n",
       "    .dataframe thead th {\n",
       "        text-align: right;\n",
       "    }\n",
       "</style>\n",
       "<table border=\"1\" class=\"dataframe\">\n",
       "  <thead>\n",
       "    <tr style=\"text-align: right;\">\n",
       "      <th></th>\n",
       "      <th>ID</th>\n",
       "      <th>Updated</th>\n",
       "      <th>Confirmed</th>\n",
       "      <th>ConfirmedChange</th>\n",
       "      <th>Deaths</th>\n",
       "      <th>DeathsChange</th>\n",
       "      <th>Recovered</th>\n",
       "      <th>RecoveredChange</th>\n",
       "      <th>Latitude</th>\n",
       "      <th>Longitude</th>\n",
       "      <th>ISO2</th>\n",
       "      <th>ISO3</th>\n",
       "      <th>Country_Region</th>\n",
       "      <th>AdminRegion1</th>\n",
       "      <th>AdminRegion2</th>\n",
       "    </tr>\n",
       "  </thead>\n",
       "  <tbody>\n",
       "    <tr>\n",
       "      <th>329719</th>\n",
       "      <td>339285</td>\n",
       "      <td>01/23/2020</td>\n",
       "      <td>1</td>\n",
       "      <td>NaN</td>\n",
       "      <td>0.0</td>\n",
       "      <td>NaN</td>\n",
       "      <td>NaN</td>\n",
       "      <td>NaN</td>\n",
       "      <td>39.49591</td>\n",
       "      <td>-98.98998</td>\n",
       "      <td>US</td>\n",
       "      <td>USA</td>\n",
       "      <td>United States</td>\n",
       "      <td>NaN</td>\n",
       "      <td>NaN</td>\n",
       "    </tr>\n",
       "    <tr>\n",
       "      <th>329720</th>\n",
       "      <td>339286</td>\n",
       "      <td>01/24/2020</td>\n",
       "      <td>1</td>\n",
       "      <td>0.0</td>\n",
       "      <td>0.0</td>\n",
       "      <td>0.0</td>\n",
       "      <td>NaN</td>\n",
       "      <td>NaN</td>\n",
       "      <td>39.49591</td>\n",
       "      <td>-98.98998</td>\n",
       "      <td>US</td>\n",
       "      <td>USA</td>\n",
       "      <td>United States</td>\n",
       "      <td>NaN</td>\n",
       "      <td>NaN</td>\n",
       "    </tr>\n",
       "    <tr>\n",
       "      <th>329721</th>\n",
       "      <td>339287</td>\n",
       "      <td>01/25/2020</td>\n",
       "      <td>2</td>\n",
       "      <td>1.0</td>\n",
       "      <td>0.0</td>\n",
       "      <td>0.0</td>\n",
       "      <td>NaN</td>\n",
       "      <td>NaN</td>\n",
       "      <td>39.49591</td>\n",
       "      <td>-98.98998</td>\n",
       "      <td>US</td>\n",
       "      <td>USA</td>\n",
       "      <td>United States</td>\n",
       "      <td>NaN</td>\n",
       "      <td>NaN</td>\n",
       "    </tr>\n",
       "    <tr>\n",
       "      <th>329722</th>\n",
       "      <td>339288</td>\n",
       "      <td>01/26/2020</td>\n",
       "      <td>2</td>\n",
       "      <td>0.0</td>\n",
       "      <td>0.0</td>\n",
       "      <td>0.0</td>\n",
       "      <td>NaN</td>\n",
       "      <td>NaN</td>\n",
       "      <td>39.49591</td>\n",
       "      <td>-98.98998</td>\n",
       "      <td>US</td>\n",
       "      <td>USA</td>\n",
       "      <td>United States</td>\n",
       "      <td>NaN</td>\n",
       "      <td>NaN</td>\n",
       "    </tr>\n",
       "    <tr>\n",
       "      <th>329723</th>\n",
       "      <td>339289</td>\n",
       "      <td>01/27/2020</td>\n",
       "      <td>5</td>\n",
       "      <td>3.0</td>\n",
       "      <td>0.0</td>\n",
       "      <td>0.0</td>\n",
       "      <td>NaN</td>\n",
       "      <td>NaN</td>\n",
       "      <td>39.49591</td>\n",
       "      <td>-98.98998</td>\n",
       "      <td>US</td>\n",
       "      <td>USA</td>\n",
       "      <td>United States</td>\n",
       "      <td>NaN</td>\n",
       "      <td>NaN</td>\n",
       "    </tr>\n",
       "  </tbody>\n",
       "</table>\n",
       "</div>"
      ],
      "text/plain": [
       "            ID     Updated  Confirmed  ConfirmedChange  Deaths  DeathsChange  \\\n",
       "329719  339285  01/23/2020          1              NaN     0.0           NaN   \n",
       "329720  339286  01/24/2020          1              0.0     0.0           0.0   \n",
       "329721  339287  01/25/2020          2              1.0     0.0           0.0   \n",
       "329722  339288  01/26/2020          2              0.0     0.0           0.0   \n",
       "329723  339289  01/27/2020          5              3.0     0.0           0.0   \n",
       "\n",
       "        Recovered  RecoveredChange  Latitude  Longitude ISO2 ISO3  \\\n",
       "329719        NaN              NaN  39.49591  -98.98998   US  USA   \n",
       "329720        NaN              NaN  39.49591  -98.98998   US  USA   \n",
       "329721        NaN              NaN  39.49591  -98.98998   US  USA   \n",
       "329722        NaN              NaN  39.49591  -98.98998   US  USA   \n",
       "329723        NaN              NaN  39.49591  -98.98998   US  USA   \n",
       "\n",
       "       Country_Region AdminRegion1 AdminRegion2  \n",
       "329719  United States          NaN          NaN  \n",
       "329720  United States          NaN          NaN  \n",
       "329721  United States          NaN          NaN  \n",
       "329722  United States          NaN          NaN  \n",
       "329723  United States          NaN          NaN  "
      ]
     },
     "execution_count": 28,
     "metadata": {},
     "output_type": "execute_result"
    }
   ],
   "source": [
    "#Keep only 'US' entries\n",
    "df = df[df['ISO2'] == 'US']\n",
    "df.head()"
   ]
  },
  {
   "cell_type": "code",
   "execution_count": 29,
   "metadata": {},
   "outputs": [
    {
     "data": {
      "text/plain": [
       "array([nan, 'Alaska', 'Alabama', 'Arkansas', 'Arizona', 'California',\n",
       "       'Colorado', 'Connecticut', 'District of Columbia', 'Delaware',\n",
       "       'Florida', 'Georgia', 'Hawaii', 'Iowa', 'Idaho', 'Illinois',\n",
       "       'Indiana', 'Kansas', 'Kentucky', 'Louisiana', 'Massachusetts',\n",
       "       'Maryland', 'Maine', 'Michigan', 'Minnesota', 'Missouri',\n",
       "       'Mississippi', 'Montana', 'North Carolina', 'North Dakota',\n",
       "       'Nebraska', 'New Hampshire', 'New Jersey', 'New Mexico', 'Nevada',\n",
       "       'New York', 'Ohio', 'Oklahoma', 'Oregon', 'Pennsylvania',\n",
       "       'Rhode Island', 'South Carolina', 'South Dakota', 'Tennessee',\n",
       "       'Texas', 'Utah', 'Virginia', 'Vermont', 'Washington', 'Wisconsin',\n",
       "       'West Virginia', 'Wyoming'], dtype=object)"
      ]
     },
     "execution_count": 29,
     "metadata": {},
     "output_type": "execute_result"
    }
   ],
   "source": [
    "# list unique AdminRegion1 values\n",
    "df['AdminRegion1'].unique()"
   ]
  },
  {
   "cell_type": "code",
   "execution_count": 30,
   "metadata": {},
   "outputs": [
    {
     "data": {
      "text/html": [
       "<div>\n",
       "<style scoped>\n",
       "    .dataframe tbody tr th:only-of-type {\n",
       "        vertical-align: middle;\n",
       "    }\n",
       "\n",
       "    .dataframe tbody tr th {\n",
       "        vertical-align: top;\n",
       "    }\n",
       "\n",
       "    .dataframe thead th {\n",
       "        text-align: right;\n",
       "    }\n",
       "</style>\n",
       "<table border=\"1\" class=\"dataframe\">\n",
       "  <thead>\n",
       "    <tr style=\"text-align: right;\">\n",
       "      <th></th>\n",
       "      <th>ID</th>\n",
       "      <th>Updated</th>\n",
       "      <th>Confirmed</th>\n",
       "      <th>ConfirmedChange</th>\n",
       "      <th>Deaths</th>\n",
       "      <th>DeathsChange</th>\n",
       "      <th>Recovered</th>\n",
       "      <th>RecoveredChange</th>\n",
       "      <th>Latitude</th>\n",
       "      <th>Longitude</th>\n",
       "      <th>ISO2</th>\n",
       "      <th>ISO3</th>\n",
       "      <th>Country_Region</th>\n",
       "      <th>AdminRegion1</th>\n",
       "      <th>AdminRegion2</th>\n",
       "    </tr>\n",
       "  </thead>\n",
       "  <tbody>\n",
       "    <tr>\n",
       "      <th>943848</th>\n",
       "      <td>127483</td>\n",
       "      <td>01/21/2020</td>\n",
       "      <td>1</td>\n",
       "      <td>NaN</td>\n",
       "      <td>0.0</td>\n",
       "      <td>NaN</td>\n",
       "      <td>NaN</td>\n",
       "      <td>NaN</td>\n",
       "      <td>47.4113</td>\n",
       "      <td>-120.5563</td>\n",
       "      <td>US</td>\n",
       "      <td>USA</td>\n",
       "      <td>United States</td>\n",
       "      <td>Washington</td>\n",
       "      <td>NaN</td>\n",
       "    </tr>\n",
       "    <tr>\n",
       "      <th>943849</th>\n",
       "      <td>48825904</td>\n",
       "      <td>01/22/2020</td>\n",
       "      <td>1</td>\n",
       "      <td>0.0</td>\n",
       "      <td>0.0</td>\n",
       "      <td>0.0</td>\n",
       "      <td>NaN</td>\n",
       "      <td>NaN</td>\n",
       "      <td>47.4113</td>\n",
       "      <td>-120.5563</td>\n",
       "      <td>US</td>\n",
       "      <td>USA</td>\n",
       "      <td>United States</td>\n",
       "      <td>Washington</td>\n",
       "      <td>NaN</td>\n",
       "    </tr>\n",
       "    <tr>\n",
       "      <th>943850</th>\n",
       "      <td>48825906</td>\n",
       "      <td>01/23/2020</td>\n",
       "      <td>1</td>\n",
       "      <td>0.0</td>\n",
       "      <td>0.0</td>\n",
       "      <td>0.0</td>\n",
       "      <td>NaN</td>\n",
       "      <td>NaN</td>\n",
       "      <td>47.4113</td>\n",
       "      <td>-120.5563</td>\n",
       "      <td>US</td>\n",
       "      <td>USA</td>\n",
       "      <td>United States</td>\n",
       "      <td>Washington</td>\n",
       "      <td>NaN</td>\n",
       "    </tr>\n",
       "    <tr>\n",
       "      <th>943851</th>\n",
       "      <td>48825908</td>\n",
       "      <td>01/24/2020</td>\n",
       "      <td>1</td>\n",
       "      <td>0.0</td>\n",
       "      <td>0.0</td>\n",
       "      <td>0.0</td>\n",
       "      <td>NaN</td>\n",
       "      <td>NaN</td>\n",
       "      <td>47.4113</td>\n",
       "      <td>-120.5563</td>\n",
       "      <td>US</td>\n",
       "      <td>USA</td>\n",
       "      <td>United States</td>\n",
       "      <td>Washington</td>\n",
       "      <td>NaN</td>\n",
       "    </tr>\n",
       "    <tr>\n",
       "      <th>943852</th>\n",
       "      <td>127485</td>\n",
       "      <td>01/25/2020</td>\n",
       "      <td>1</td>\n",
       "      <td>0.0</td>\n",
       "      <td>0.0</td>\n",
       "      <td>0.0</td>\n",
       "      <td>NaN</td>\n",
       "      <td>NaN</td>\n",
       "      <td>47.4113</td>\n",
       "      <td>-120.5563</td>\n",
       "      <td>US</td>\n",
       "      <td>USA</td>\n",
       "      <td>United States</td>\n",
       "      <td>Washington</td>\n",
       "      <td>NaN</td>\n",
       "    </tr>\n",
       "  </tbody>\n",
       "</table>\n",
       "</div>"
      ],
      "text/plain": [
       "              ID     Updated  Confirmed  ConfirmedChange  Deaths  \\\n",
       "943848    127483  01/21/2020          1              NaN     0.0   \n",
       "943849  48825904  01/22/2020          1              0.0     0.0   \n",
       "943850  48825906  01/23/2020          1              0.0     0.0   \n",
       "943851  48825908  01/24/2020          1              0.0     0.0   \n",
       "943852    127485  01/25/2020          1              0.0     0.0   \n",
       "\n",
       "        DeathsChange  Recovered  RecoveredChange  Latitude  Longitude ISO2  \\\n",
       "943848           NaN        NaN              NaN   47.4113  -120.5563   US   \n",
       "943849           0.0        NaN              NaN   47.4113  -120.5563   US   \n",
       "943850           0.0        NaN              NaN   47.4113  -120.5563   US   \n",
       "943851           0.0        NaN              NaN   47.4113  -120.5563   US   \n",
       "943852           0.0        NaN              NaN   47.4113  -120.5563   US   \n",
       "\n",
       "       ISO3 Country_Region AdminRegion1 AdminRegion2  \n",
       "943848  USA  United States   Washington          NaN  \n",
       "943849  USA  United States   Washington          NaN  \n",
       "943850  USA  United States   Washington          NaN  \n",
       "943851  USA  United States   Washington          NaN  \n",
       "943852  USA  United States   Washington          NaN  "
      ]
     },
     "execution_count": 30,
     "metadata": {},
     "output_type": "execute_result"
    }
   ],
   "source": [
    "#Keep only 'Washington' state entries\n",
    "df = df[df['AdminRegion1'] == 'Washington']\n",
    "df.head()"
   ]
  },
  {
   "cell_type": "code",
   "execution_count": 31,
   "metadata": {},
   "outputs": [
    {
     "data": {
      "text/plain": [
       "(8930, 15)"
      ]
     },
     "execution_count": 31,
     "metadata": {},
     "output_type": "execute_result"
    }
   ],
   "source": [
    "# check on how many rows remained\n",
    "df.shape"
   ]
  },
  {
   "cell_type": "code",
   "execution_count": 32,
   "metadata": {},
   "outputs": [
    {
     "data": {
      "text/html": [
       "<div>\n",
       "<style scoped>\n",
       "    .dataframe tbody tr th:only-of-type {\n",
       "        vertical-align: middle;\n",
       "    }\n",
       "\n",
       "    .dataframe tbody tr th {\n",
       "        vertical-align: top;\n",
       "    }\n",
       "\n",
       "    .dataframe thead th {\n",
       "        text-align: right;\n",
       "    }\n",
       "</style>\n",
       "<table border=\"1\" class=\"dataframe\">\n",
       "  <thead>\n",
       "    <tr style=\"text-align: right;\">\n",
       "      <th></th>\n",
       "      <th>ID</th>\n",
       "      <th>Updated</th>\n",
       "      <th>Confirmed</th>\n",
       "      <th>ConfirmedChange</th>\n",
       "      <th>Deaths</th>\n",
       "      <th>DeathsChange</th>\n",
       "      <th>Recovered</th>\n",
       "      <th>RecoveredChange</th>\n",
       "      <th>Latitude</th>\n",
       "      <th>Longitude</th>\n",
       "      <th>ISO2</th>\n",
       "      <th>ISO3</th>\n",
       "      <th>Country_Region</th>\n",
       "      <th>AdminRegion1</th>\n",
       "      <th>AdminRegion2</th>\n",
       "    </tr>\n",
       "  </thead>\n",
       "  <tbody>\n",
       "    <tr>\n",
       "      <th>943848</th>\n",
       "      <td>127483</td>\n",
       "      <td>01/21/2020</td>\n",
       "      <td>1</td>\n",
       "      <td>NaN</td>\n",
       "      <td>0.0</td>\n",
       "      <td>NaN</td>\n",
       "      <td>NaN</td>\n",
       "      <td>NaN</td>\n",
       "      <td>47.4113</td>\n",
       "      <td>-120.5563</td>\n",
       "      <td>US</td>\n",
       "      <td>USA</td>\n",
       "      <td>United States</td>\n",
       "      <td>Washington</td>\n",
       "      <td>NaN</td>\n",
       "    </tr>\n",
       "    <tr>\n",
       "      <th>943849</th>\n",
       "      <td>48825904</td>\n",
       "      <td>01/22/2020</td>\n",
       "      <td>1</td>\n",
       "      <td>0.0</td>\n",
       "      <td>0.0</td>\n",
       "      <td>0.0</td>\n",
       "      <td>NaN</td>\n",
       "      <td>NaN</td>\n",
       "      <td>47.4113</td>\n",
       "      <td>-120.5563</td>\n",
       "      <td>US</td>\n",
       "      <td>USA</td>\n",
       "      <td>United States</td>\n",
       "      <td>Washington</td>\n",
       "      <td>NaN</td>\n",
       "    </tr>\n",
       "    <tr>\n",
       "      <th>943850</th>\n",
       "      <td>48825906</td>\n",
       "      <td>01/23/2020</td>\n",
       "      <td>1</td>\n",
       "      <td>0.0</td>\n",
       "      <td>0.0</td>\n",
       "      <td>0.0</td>\n",
       "      <td>NaN</td>\n",
       "      <td>NaN</td>\n",
       "      <td>47.4113</td>\n",
       "      <td>-120.5563</td>\n",
       "      <td>US</td>\n",
       "      <td>USA</td>\n",
       "      <td>United States</td>\n",
       "      <td>Washington</td>\n",
       "      <td>NaN</td>\n",
       "    </tr>\n",
       "    <tr>\n",
       "      <th>943851</th>\n",
       "      <td>48825908</td>\n",
       "      <td>01/24/2020</td>\n",
       "      <td>1</td>\n",
       "      <td>0.0</td>\n",
       "      <td>0.0</td>\n",
       "      <td>0.0</td>\n",
       "      <td>NaN</td>\n",
       "      <td>NaN</td>\n",
       "      <td>47.4113</td>\n",
       "      <td>-120.5563</td>\n",
       "      <td>US</td>\n",
       "      <td>USA</td>\n",
       "      <td>United States</td>\n",
       "      <td>Washington</td>\n",
       "      <td>NaN</td>\n",
       "    </tr>\n",
       "    <tr>\n",
       "      <th>943852</th>\n",
       "      <td>127485</td>\n",
       "      <td>01/25/2020</td>\n",
       "      <td>1</td>\n",
       "      <td>0.0</td>\n",
       "      <td>0.0</td>\n",
       "      <td>0.0</td>\n",
       "      <td>NaN</td>\n",
       "      <td>NaN</td>\n",
       "      <td>47.4113</td>\n",
       "      <td>-120.5563</td>\n",
       "      <td>US</td>\n",
       "      <td>USA</td>\n",
       "      <td>United States</td>\n",
       "      <td>Washington</td>\n",
       "      <td>NaN</td>\n",
       "    </tr>\n",
       "  </tbody>\n",
       "</table>\n",
       "</div>"
      ],
      "text/plain": [
       "              ID     Updated  Confirmed  ConfirmedChange  Deaths  \\\n",
       "943848    127483  01/21/2020          1              NaN     0.0   \n",
       "943849  48825904  01/22/2020          1              0.0     0.0   \n",
       "943850  48825906  01/23/2020          1              0.0     0.0   \n",
       "943851  48825908  01/24/2020          1              0.0     0.0   \n",
       "943852    127485  01/25/2020          1              0.0     0.0   \n",
       "\n",
       "        DeathsChange  Recovered  RecoveredChange  Latitude  Longitude ISO2  \\\n",
       "943848           NaN        NaN              NaN   47.4113  -120.5563   US   \n",
       "943849           0.0        NaN              NaN   47.4113  -120.5563   US   \n",
       "943850           0.0        NaN              NaN   47.4113  -120.5563   US   \n",
       "943851           0.0        NaN              NaN   47.4113  -120.5563   US   \n",
       "943852           0.0        NaN              NaN   47.4113  -120.5563   US   \n",
       "\n",
       "       ISO3 Country_Region AdminRegion1 AdminRegion2  \n",
       "943848  USA  United States   Washington          NaN  \n",
       "943849  USA  United States   Washington          NaN  \n",
       "943850  USA  United States   Washington          NaN  \n",
       "943851  USA  United States   Washington          NaN  \n",
       "943852  USA  United States   Washington          NaN  "
      ]
     },
     "execution_count": 32,
     "metadata": {},
     "output_type": "execute_result"
    }
   ],
   "source": [
    "df.head()"
   ]
  },
  {
   "cell_type": "code",
   "execution_count": 33,
   "metadata": {},
   "outputs": [
    {
     "data": {
      "text/plain": [
       "(40, 15)"
      ]
     },
     "execution_count": 33,
     "metadata": {},
     "output_type": "execute_result"
    }
   ],
   "source": [
    "df = df[df['Updated'] == '10/31/2020']\n",
    "df.shape"
   ]
  },
  {
   "cell_type": "code",
   "execution_count": 34,
   "metadata": {},
   "outputs": [
    {
     "data": {
      "text/html": [
       "<div>\n",
       "<style scoped>\n",
       "    .dataframe tbody tr th:only-of-type {\n",
       "        vertical-align: middle;\n",
       "    }\n",
       "\n",
       "    .dataframe tbody tr th {\n",
       "        vertical-align: top;\n",
       "    }\n",
       "\n",
       "    .dataframe thead th {\n",
       "        text-align: right;\n",
       "    }\n",
       "</style>\n",
       "<table border=\"1\" class=\"dataframe\">\n",
       "  <thead>\n",
       "    <tr style=\"text-align: right;\">\n",
       "      <th></th>\n",
       "      <th>ID</th>\n",
       "      <th>Updated</th>\n",
       "      <th>Confirmed</th>\n",
       "      <th>ConfirmedChange</th>\n",
       "      <th>Deaths</th>\n",
       "      <th>DeathsChange</th>\n",
       "      <th>Recovered</th>\n",
       "      <th>RecoveredChange</th>\n",
       "      <th>Latitude</th>\n",
       "      <th>Longitude</th>\n",
       "      <th>ISO2</th>\n",
       "      <th>ISO3</th>\n",
       "      <th>Country_Region</th>\n",
       "      <th>AdminRegion1</th>\n",
       "      <th>AdminRegion2</th>\n",
       "    </tr>\n",
       "  </thead>\n",
       "  <tbody>\n",
       "    <tr>\n",
       "      <th>944132</th>\n",
       "      <td>80812258</td>\n",
       "      <td>10/31/2020</td>\n",
       "      <td>106573</td>\n",
       "      <td>-928.0</td>\n",
       "      <td>2366.0</td>\n",
       "      <td>30.0</td>\n",
       "      <td>NaN</td>\n",
       "      <td>NaN</td>\n",
       "      <td>47.41130</td>\n",
       "      <td>-120.5563</td>\n",
       "      <td>US</td>\n",
       "      <td>USA</td>\n",
       "      <td>United States</td>\n",
       "      <td>Washington</td>\n",
       "      <td>NaN</td>\n",
       "    </tr>\n",
       "    <tr>\n",
       "      <th>944352</th>\n",
       "      <td>80806933</td>\n",
       "      <td>10/31/2020</td>\n",
       "      <td>935</td>\n",
       "      <td>7.0</td>\n",
       "      <td>11.0</td>\n",
       "      <td>0.0</td>\n",
       "      <td>NaN</td>\n",
       "      <td>NaN</td>\n",
       "      <td>46.98335</td>\n",
       "      <td>-118.5607</td>\n",
       "      <td>US</td>\n",
       "      <td>USA</td>\n",
       "      <td>United States</td>\n",
       "      <td>Washington</td>\n",
       "      <td>Adams County</td>\n",
       "    </tr>\n",
       "    <tr>\n",
       "      <th>944564</th>\n",
       "      <td>80806934</td>\n",
       "      <td>10/31/2020</td>\n",
       "      <td>278</td>\n",
       "      <td>3.0</td>\n",
       "      <td>8.0</td>\n",
       "      <td>0.0</td>\n",
       "      <td>NaN</td>\n",
       "      <td>NaN</td>\n",
       "      <td>46.19188</td>\n",
       "      <td>-117.2031</td>\n",
       "      <td>US</td>\n",
       "      <td>USA</td>\n",
       "      <td>United States</td>\n",
       "      <td>Washington</td>\n",
       "      <td>Asotin County</td>\n",
       "    </tr>\n",
       "    <tr>\n",
       "      <th>944787</th>\n",
       "      <td>80806936</td>\n",
       "      <td>10/31/2020</td>\n",
       "      <td>5342</td>\n",
       "      <td>50.0</td>\n",
       "      <td>135.0</td>\n",
       "      <td>0.0</td>\n",
       "      <td>NaN</td>\n",
       "      <td>NaN</td>\n",
       "      <td>46.23973</td>\n",
       "      <td>-119.5111</td>\n",
       "      <td>US</td>\n",
       "      <td>USA</td>\n",
       "      <td>United States</td>\n",
       "      <td>Washington</td>\n",
       "      <td>Benton County</td>\n",
       "    </tr>\n",
       "    <tr>\n",
       "      <th>945012</th>\n",
       "      <td>80806938</td>\n",
       "      <td>10/31/2020</td>\n",
       "      <td>2018</td>\n",
       "      <td>4.0</td>\n",
       "      <td>17.0</td>\n",
       "      <td>0.0</td>\n",
       "      <td>NaN</td>\n",
       "      <td>NaN</td>\n",
       "      <td>47.86914</td>\n",
       "      <td>-120.6190</td>\n",
       "      <td>US</td>\n",
       "      <td>USA</td>\n",
       "      <td>United States</td>\n",
       "      <td>Washington</td>\n",
       "      <td>Chelan County</td>\n",
       "    </tr>\n",
       "  </tbody>\n",
       "</table>\n",
       "</div>"
      ],
      "text/plain": [
       "              ID     Updated  Confirmed  ConfirmedChange  Deaths  \\\n",
       "944132  80812258  10/31/2020     106573           -928.0  2366.0   \n",
       "944352  80806933  10/31/2020        935              7.0    11.0   \n",
       "944564  80806934  10/31/2020        278              3.0     8.0   \n",
       "944787  80806936  10/31/2020       5342             50.0   135.0   \n",
       "945012  80806938  10/31/2020       2018              4.0    17.0   \n",
       "\n",
       "        DeathsChange  Recovered  RecoveredChange  Latitude  Longitude ISO2  \\\n",
       "944132          30.0        NaN              NaN  47.41130  -120.5563   US   \n",
       "944352           0.0        NaN              NaN  46.98335  -118.5607   US   \n",
       "944564           0.0        NaN              NaN  46.19188  -117.2031   US   \n",
       "944787           0.0        NaN              NaN  46.23973  -119.5111   US   \n",
       "945012           0.0        NaN              NaN  47.86914  -120.6190   US   \n",
       "\n",
       "       ISO3 Country_Region AdminRegion1   AdminRegion2  \n",
       "944132  USA  United States   Washington            NaN  \n",
       "944352  USA  United States   Washington   Adams County  \n",
       "944564  USA  United States   Washington  Asotin County  \n",
       "944787  USA  United States   Washington  Benton County  \n",
       "945012  USA  United States   Washington  Chelan County  "
      ]
     },
     "execution_count": 34,
     "metadata": {},
     "output_type": "execute_result"
    }
   ],
   "source": [
    "df.head()"
   ]
  },
  {
   "cell_type": "code",
   "execution_count": 35,
   "metadata": {},
   "outputs": [
    {
     "data": {
      "text/html": [
       "<div>\n",
       "<style scoped>\n",
       "    .dataframe tbody tr th:only-of-type {\n",
       "        vertical-align: middle;\n",
       "    }\n",
       "\n",
       "    .dataframe tbody tr th {\n",
       "        vertical-align: top;\n",
       "    }\n",
       "\n",
       "    .dataframe thead th {\n",
       "        text-align: right;\n",
       "    }\n",
       "</style>\n",
       "<table border=\"1\" class=\"dataframe\">\n",
       "  <thead>\n",
       "    <tr style=\"text-align: right;\">\n",
       "      <th></th>\n",
       "      <th>ID</th>\n",
       "      <th>Confirmed</th>\n",
       "      <th>ConfirmedChange</th>\n",
       "      <th>Deaths</th>\n",
       "      <th>DeathsChange</th>\n",
       "      <th>Recovered</th>\n",
       "      <th>RecoveredChange</th>\n",
       "      <th>Latitude</th>\n",
       "      <th>Longitude</th>\n",
       "    </tr>\n",
       "  </thead>\n",
       "  <tbody>\n",
       "    <tr>\n",
       "      <th>count</th>\n",
       "      <td>3.900000e+01</td>\n",
       "      <td>39.000000</td>\n",
       "      <td>39.000000</td>\n",
       "      <td>39.000000</td>\n",
       "      <td>39.0</td>\n",
       "      <td>0.0</td>\n",
       "      <td>0.0</td>\n",
       "      <td>39.000000</td>\n",
       "      <td>39.000000</td>\n",
       "    </tr>\n",
       "    <tr>\n",
       "      <th>mean</th>\n",
       "      <td>8.080698e+07</td>\n",
       "      <td>2747.025641</td>\n",
       "      <td>24.230769</td>\n",
       "      <td>60.589744</td>\n",
       "      <td>0.0</td>\n",
       "      <td>NaN</td>\n",
       "      <td>NaN</td>\n",
       "      <td>47.235978</td>\n",
       "      <td>-120.723169</td>\n",
       "    </tr>\n",
       "    <tr>\n",
       "      <th>std</th>\n",
       "      <td>2.432631e+01</td>\n",
       "      <td>5160.215068</td>\n",
       "      <td>63.477912</td>\n",
       "      <td>143.205726</td>\n",
       "      <td>0.0</td>\n",
       "      <td>NaN</td>\n",
       "      <td>NaN</td>\n",
       "      <td>0.892164</td>\n",
       "      <td>2.201799</td>\n",
       "    </tr>\n",
       "    <tr>\n",
       "      <th>min</th>\n",
       "      <td>8.080693e+07</td>\n",
       "      <td>10.000000</td>\n",
       "      <td>0.000000</td>\n",
       "      <td>0.000000</td>\n",
       "      <td>0.0</td>\n",
       "      <td>NaN</td>\n",
       "      <td>NaN</td>\n",
       "      <td>45.779170</td>\n",
       "      <td>-123.870900</td>\n",
       "    </tr>\n",
       "    <tr>\n",
       "      <th>25%</th>\n",
       "      <td>8.080696e+07</td>\n",
       "      <td>180.000000</td>\n",
       "      <td>1.000000</td>\n",
       "      <td>2.500000</td>\n",
       "      <td>0.0</td>\n",
       "      <td>NaN</td>\n",
       "      <td>NaN</td>\n",
       "      <td>46.444215</td>\n",
       "      <td>-122.612300</td>\n",
       "    </tr>\n",
       "    <tr>\n",
       "      <th>50%</th>\n",
       "      <td>8.080698e+07</td>\n",
       "      <td>831.000000</td>\n",
       "      <td>6.000000</td>\n",
       "      <td>11.000000</td>\n",
       "      <td>0.0</td>\n",
       "      <td>NaN</td>\n",
       "      <td>NaN</td>\n",
       "      <td>47.142180</td>\n",
       "      <td>-120.789200</td>\n",
       "    </tr>\n",
       "    <tr>\n",
       "      <th>75%</th>\n",
       "      <td>8.080700e+07</td>\n",
       "      <td>1924.000000</td>\n",
       "      <td>13.500000</td>\n",
       "      <td>30.500000</td>\n",
       "      <td>0.0</td>\n",
       "      <td>NaN</td>\n",
       "      <td>NaN</td>\n",
       "      <td>47.957575</td>\n",
       "      <td>-118.538600</td>\n",
       "    </tr>\n",
       "    <tr>\n",
       "      <th>max</th>\n",
       "      <td>8.080701e+07</td>\n",
       "      <td>27735.000000</td>\n",
       "      <td>382.000000</td>\n",
       "      <td>815.000000</td>\n",
       "      <td>0.0</td>\n",
       "      <td>NaN</td>\n",
       "      <td>NaN</td>\n",
       "      <td>48.829620</td>\n",
       "      <td>-117.203100</td>\n",
       "    </tr>\n",
       "  </tbody>\n",
       "</table>\n",
       "</div>"
      ],
      "text/plain": [
       "                 ID     Confirmed  ConfirmedChange      Deaths  DeathsChange  \\\n",
       "count  3.900000e+01     39.000000        39.000000   39.000000          39.0   \n",
       "mean   8.080698e+07   2747.025641        24.230769   60.589744           0.0   \n",
       "std    2.432631e+01   5160.215068        63.477912  143.205726           0.0   \n",
       "min    8.080693e+07     10.000000         0.000000    0.000000           0.0   \n",
       "25%    8.080696e+07    180.000000         1.000000    2.500000           0.0   \n",
       "50%    8.080698e+07    831.000000         6.000000   11.000000           0.0   \n",
       "75%    8.080700e+07   1924.000000        13.500000   30.500000           0.0   \n",
       "max    8.080701e+07  27735.000000       382.000000  815.000000           0.0   \n",
       "\n",
       "       Recovered  RecoveredChange   Latitude   Longitude  \n",
       "count        0.0              0.0  39.000000   39.000000  \n",
       "mean         NaN              NaN  47.235978 -120.723169  \n",
       "std          NaN              NaN   0.892164    2.201799  \n",
       "min          NaN              NaN  45.779170 -123.870900  \n",
       "25%          NaN              NaN  46.444215 -122.612300  \n",
       "50%          NaN              NaN  47.142180 -120.789200  \n",
       "75%          NaN              NaN  47.957575 -118.538600  \n",
       "max          NaN              NaN  48.829620 -117.203100  "
      ]
     },
     "execution_count": 35,
     "metadata": {},
     "output_type": "execute_result"
    }
   ],
   "source": [
    "df = df.iloc[1:,:]\n",
    "df.describe()"
   ]
  },
  {
   "cell_type": "code",
   "execution_count": 36,
   "metadata": {
    "scrolled": true
   },
   "outputs": [
    {
     "data": {
      "application/vnd.jupyter.widget-view+json": {
       "model_id": "c2656d26f1404490a70ae0163a357a66",
       "version_major": 2,
       "version_minor": 0
      },
      "text/plain": [
       "Figure(layout=FigureLayout(height='420px'))"
      ]
     },
     "metadata": {},
     "output_type": "display_data"
    }
   ],
   "source": [
    "df_latlong = df[['Latitude', 'Longitude']]\n",
    "weights = df['Confirmed']\n",
    "df_layer = gmaps.heatmap_layer(df_latlong, weights=weights, max_intensity=100, point_radius=20)\n",
    "fig = gmaps.figure()\n",
    "fig.add_layer(df_layer)\n",
    "fig"
   ]
  },
  {
   "cell_type": "code",
   "execution_count": 39,
   "metadata": {},
   "outputs": [
    {
     "data": {
      "application/vnd.jupyter.widget-view+json": {
       "model_id": "c2648a6b925d4ac59c1281a797c2f648",
       "version_major": 2,
       "version_minor": 0
      },
      "text/plain": [
       "Figure(layout=FigureLayout(height='420px'))"
      ]
     },
     "metadata": {},
     "output_type": "display_data"
    }
   ],
   "source": [
    "df_latlong = df[['Latitude', 'Longitude']]\n",
    "weights = df['Confirmed']\n",
    "df_layer = gmaps.heatmap_layer(df_latlong, weights=weights, max_intensity=20, point_radius=10)\n",
    "fig = gmaps.figure(map_type=\"SATELLITE\")\n",
    "fig.add_layer(df_layer)\n",
    "fig"
   ]
  },
  {
   "cell_type": "markdown",
   "metadata": {},
   "source": [
    "#### Homework 18.1:\n",
    "Display directions between your home and DigiPen:\n",
    "- find latitude and longitude for your home and DigiPen\n",
    "- utilize gmaps \"directions\" layer\n",
    "- display direction"
   ]
  },
  {
   "cell_type": "code",
   "execution_count": 40,
   "metadata": {},
   "outputs": [],
   "source": [
    "# Homework 18.1 code comes here:\n",
    "\n"
   ]
  },
  {
   "cell_type": "markdown",
   "metadata": {},
   "source": [
    "#### Homework 18.2:\n",
    "Display geographic coordinates of observations\n",
    "- use data Bing-COVID19-Data.csv (https://github.com/microsoft/Bing-COVID-19-Data)\n",
    "- use gmaps\n",
    "- use TERRAIN map type\n"
   ]
  },
  {
   "cell_type": "code",
   "execution_count": null,
   "metadata": {},
   "outputs": [],
   "source": [
    "# Homework 18.2 code comes here:\n",
    "\n"
   ]
  },
  {
   "cell_type": "markdown",
   "metadata": {},
   "source": [
    "#### Homework 18.3\n",
    "Display geographic coordinates of observations\n",
    "- use data Bing-COVID19-Data.csv (https://github.com/microsoft/Bing-COVID-19-Data)\n",
    "- use scatterplot (no gmaps!)\n",
    "- reflect the 'ConfirmedChange' size\n",
    "    - larger ConfirmedChange value should have larger marker\n"
   ]
  },
  {
   "cell_type": "code",
   "execution_count": null,
   "metadata": {},
   "outputs": [],
   "source": [
    "# Homework 18.3 code comes here:\n",
    "\n"
   ]
  }
 ],
 "metadata": {
  "kernelspec": {
   "display_name": "Python 3",
   "language": "python",
   "name": "python3"
  },
  "language_info": {
   "codemirror_mode": {
    "name": "ipython",
    "version": 3
   },
   "file_extension": ".py",
   "mimetype": "text/x-python",
   "name": "python",
   "nbconvert_exporter": "python",
   "pygments_lexer": "ipython3",
   "version": "3.8.3"
  }
 },
 "nbformat": 4,
 "nbformat_minor": 2
}
