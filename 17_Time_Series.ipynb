{
 "cells": [
  {
   "cell_type": "markdown",
   "metadata": {},
   "source": [
    "#### References:\n",
    "    www.python.org\n",
    "    www.numpy.org\n",
    "    www.matplotlib.org\n",
    "    https://pandas.pydata.org\n",
    "    https://docs.python.org\n",
    "    http://strftime.org/"
   ]
  },
  {
   "cell_type": "markdown",
   "metadata": {},
   "source": [
    "#### Questions/feedback: petert@digipen.edu"
   ]
  },
  {
   "cell_type": "markdown",
   "metadata": {},
   "source": [
    "# Time Series\n",
    "**Naive times and complex times**\n",
    "- datetime, date, time, timedelta, timezone\n",
    "\n",
    "**Frequently occuring \"times\":**\n",
    "- time stamps, time periods, time intervals, elapsed time\n",
    "\n",
    "**Conversion between string and date/time:**\n",
    "- datetime to str and str to datetime\n",
    "    - str.strftime()\n",
    "    - datetime.strptime()\n",
    "- feature conversion to datetime type\n",
    "    - .to_datetime()\n",
    "\n",
    "**Time series in pandas:**\n",
    "- Time as index column\n",
    "- Time as feature column\n",
    "\n",
    "**Date ranges and frequencies**\n",
    "- Generating date ranges\n",
    "- Frequencies and Offsets\n",
    "\n",
    "**Rolling Window Functions**\n",
    "- Moving average"
   ]
  },
  {
   "cell_type": "code",
   "execution_count": 1,
   "metadata": {},
   "outputs": [],
   "source": [
    "import pandas as pd\n",
    "import numpy as np\n",
    "from matplotlib import pyplot as plt\n",
    "from datetime import datetime\n",
    "from datetime import timedelta\n",
    "%matplotlib inline"
   ]
  },
  {
   "cell_type": "markdown",
   "metadata": {},
   "source": [
    "Naive dates and times\n",
    "- datetime: attribute extraction\n",
    "- datetime.date and datetime.time\n",
    "- basic arithmetics\n",
    "- the focus is on attributes\n",
    "- basic time zone handling\n",
    "\n",
    "Lets start with printing current date and time:"
   ]
  },
  {
   "cell_type": "code",
   "execution_count": 3,
   "metadata": {},
   "outputs": [
    {
     "data": {
      "text/plain": [
       "'I was born on March 14, 2000. It was on a Tuesday'"
      ]
     },
     "execution_count": 3,
     "metadata": {},
     "output_type": "execute_result"
    }
   ],
   "source": [
    "datetime.now()\n",
    "(datetime.strptime('2000-03-14 01:59:26', '%Y-%m-%d %H:%M:%S')).strftime('I was born on %B %d, %Y. It was on a %A')"
   ]
  },
  {
   "cell_type": "markdown",
   "metadata": {},
   "source": [
    "Retrieve attributes of current date and time:"
   ]
  },
  {
   "cell_type": "code",
   "execution_count": 3,
   "metadata": {},
   "outputs": [
    {
     "name": "stdout",
     "output_type": "stream",
     "text": [
      "2020\n",
      "10\n",
      "19\n",
      "20\n",
      "2\n",
      "48\n",
      "396306\n"
     ]
    }
   ],
   "source": [
    "now = datetime.now()\n",
    "print(now.year)\n",
    "print(now.month)\n",
    "print(now.day)\n",
    "print(now.hour)\n",
    "print(now.minute)       # don't mix up with .min which stands for minimum\n",
    "print(now.second)\n",
    "print(now.microsecond)"
   ]
  },
  {
   "cell_type": "markdown",
   "metadata": {},
   "source": [
    "Note: check out what .min and .max does"
   ]
  },
  {
   "cell_type": "markdown",
   "metadata": {},
   "source": [
    "Few other methods:"
   ]
  },
  {
   "cell_type": "code",
   "execution_count": 4,
   "metadata": {},
   "outputs": [
    {
     "name": "stdout",
     "output_type": "stream",
     "text": [
      "0\n",
      "1\n",
      "Mon Oct 19 20:02:48 2020\n",
      "2020-10-19 20:02:48.396306-07:00\n"
     ]
    }
   ],
   "source": [
    "print(now.weekday())\n",
    "print(now.isoweekday())\n",
    "\n",
    "print(now.ctime())\n",
    "print(now.astimezone())"
   ]
  },
  {
   "cell_type": "markdown",
   "metadata": {},
   "source": [
    "Lets check on the type of current date/time:"
   ]
  },
  {
   "cell_type": "code",
   "execution_count": 5,
   "metadata": {},
   "outputs": [
    {
     "data": {
      "text/plain": [
       "datetime.datetime"
      ]
     },
     "execution_count": 5,
     "metadata": {},
     "output_type": "execute_result"
    }
   ],
   "source": [
    "type(now)"
   ]
  },
  {
   "cell_type": "markdown",
   "metadata": {},
   "source": [
    "Note: datetime is not subscriptable"
   ]
  },
  {
   "cell_type": "markdown",
   "metadata": {},
   "source": [
    "Now lets store the earliest date/time from year 2020:"
   ]
  },
  {
   "cell_type": "code",
   "execution_count": 6,
   "metadata": {},
   "outputs": [
    {
     "data": {
      "text/plain": [
       "datetime.datetime(2020, 1, 1, 0, 0)"
      ]
     },
     "execution_count": 6,
     "metadata": {},
     "output_type": "execute_result"
    }
   ],
   "source": [
    "datetime(2020, 1, 1, 0, 0, 0, 0)"
   ]
  },
  {
   "cell_type": "markdown",
   "metadata": {},
   "source": [
    "The remaining time until the new year:"
   ]
  },
  {
   "cell_type": "code",
   "execution_count": 7,
   "metadata": {},
   "outputs": [
    {
     "data": {
      "text/plain": [
       "datetime.timedelta(days=73, seconds=14231, microseconds=603694)"
      ]
     },
     "execution_count": 7,
     "metadata": {},
     "output_type": "execute_result"
    }
   ],
   "source": [
    "newyear = datetime(2021, 1, 1, 0, 0, 0, 0)\n",
    "newyear - now"
   ]
  },
  {
   "cell_type": "markdown",
   "metadata": {},
   "source": [
    "The result is datetime.timedelta:"
   ]
  },
  {
   "cell_type": "code",
   "execution_count": 8,
   "metadata": {},
   "outputs": [
    {
     "data": {
      "text/plain": [
       "datetime.timedelta"
      ]
     },
     "execution_count": 8,
     "metadata": {},
     "output_type": "execute_result"
    }
   ],
   "source": [
    "type(newyear - now)"
   ]
  },
  {
   "cell_type": "markdown",
   "metadata": {},
   "source": [
    "Type wise:\n",
    "\n",
    "        datetime - datetime = timedelta"
   ]
  },
  {
   "cell_type": "markdown",
   "metadata": {},
   "source": [
    "It suggests that performing basic arithmetics (like addition) will need more attention:"
   ]
  },
  {
   "cell_type": "code",
   "execution_count": 9,
   "metadata": {},
   "outputs": [],
   "source": [
    "# below won't work:\n",
    "\n",
    "# now + 7\n",
    "# now + datetime.day(7)\n",
    "# now + now\n",
    "# now * 2"
   ]
  },
  {
   "cell_type": "markdown",
   "metadata": {},
   "source": [
    "We need to specify a time difference using *.timedelta()* from *datetime*:"
   ]
  },
  {
   "cell_type": "code",
   "execution_count": 10,
   "metadata": {},
   "outputs": [
    {
     "data": {
      "text/plain": [
       "datetime.timedelta(days=6, seconds=11287)"
      ]
     },
     "execution_count": 10,
     "metadata": {},
     "output_type": "execute_result"
    }
   ],
   "source": [
    "timedelta(days=6, hours=3, minutes=8, seconds=7)"
   ]
  },
  {
   "cell_type": "markdown",
   "metadata": {},
   "source": [
    "Note that the timedelta of \"days, hours, minutes, seconds\" was converted to \"days, seconds\" only\n",
    "\n",
    "timedelta only has days and seconds attributes (less than datetime):"
   ]
  },
  {
   "cell_type": "code",
   "execution_count": 11,
   "metadata": {},
   "outputs": [
    {
     "data": {
      "text/plain": [
       "6"
      ]
     },
     "execution_count": 11,
     "metadata": {},
     "output_type": "execute_result"
    }
   ],
   "source": [
    "(timedelta(days=6, hours=3, minutes=8, seconds=7)).days"
   ]
  },
  {
   "cell_type": "code",
   "execution_count": 12,
   "metadata": {},
   "outputs": [
    {
     "data": {
      "text/plain": [
       "11287"
      ]
     },
     "execution_count": 12,
     "metadata": {},
     "output_type": "execute_result"
    }
   ],
   "source": [
    "(timedelta(days=6, hours=3, minutes=8, seconds=7)).seconds"
   ]
  },
  {
   "cell_type": "markdown",
   "metadata": {},
   "source": [
    "Notice that timedelta returns days and seconds even though hours and minutes were also specified."
   ]
  },
  {
   "cell_type": "code",
   "execution_count": 13,
   "metadata": {},
   "outputs": [
    {
     "name": "stdout",
     "output_type": "stream",
     "text": [
      "Current date and time:\n",
      "2020-10-19 20:02:48.396306\n",
      "A week later:\n",
      "2020-10-26 20:02:48.396306\n"
     ]
    }
   ],
   "source": [
    "print(\"Current date and time:\")\n",
    "print(now)\n",
    "print(\"A week later:\")\n",
    "print(now + timedelta(days=7))"
   ]
  },
  {
   "cell_type": "markdown",
   "metadata": {},
   "source": [
    "Note the type of timedelta:"
   ]
  },
  {
   "cell_type": "code",
   "execution_count": 14,
   "metadata": {},
   "outputs": [
    {
     "name": "stdout",
     "output_type": "stream",
     "text": [
      "The type of timedelta: <class 'datetime.timedelta'>\n"
     ]
    }
   ],
   "source": [
    "print(\"The type of timedelta:\", type(timedelta(days=7)))"
   ]
  },
  {
   "cell_type": "markdown",
   "metadata": {},
   "source": [
    "Type wise:\n",
    "\n",
    "    datetime + timedelta = datetime"
   ]
  },
  {
   "cell_type": "markdown",
   "metadata": {},
   "source": [
    "**Conversion between string and date/time:**\n",
    "- datetime to str\n",
    "- str to datetime\n",
    "- Related methods:\n",
    "    - str.strftime()\n",
    "    - datetime.strptime()\n",
    "\n",
    "Lets convert a string to datetime format:"
   ]
  },
  {
   "cell_type": "code",
   "execution_count": 15,
   "metadata": {},
   "outputs": [
    {
     "name": "stdout",
     "output_type": "stream",
     "text": [
      "1989-02-24 03:45:22\n",
      "The type is: <class 'str'>\n"
     ]
    },
    {
     "ename": "TypeError",
     "evalue": "can only concatenate str (not \"datetime.timedelta\") to str",
     "output_type": "error",
     "traceback": [
      "\u001b[1;31m---------------------------------------------------------------------------\u001b[0m",
      "\u001b[1;31mTypeError\u001b[0m                                 Traceback (most recent call last)",
      "\u001b[1;32m<ipython-input-15-7fd0ee2aa2e5>\u001b[0m in \u001b[0;36m<module>\u001b[1;34m\u001b[0m\n\u001b[0;32m      4\u001b[0m \u001b[1;33m\u001b[0m\u001b[0m\n\u001b[0;32m      5\u001b[0m \u001b[1;31m# below will result in error:\u001b[0m\u001b[1;33m\u001b[0m\u001b[1;33m\u001b[0m\u001b[1;33m\u001b[0m\u001b[0m\n\u001b[1;32m----> 6\u001b[1;33m \u001b[0mstr_text\u001b[0m \u001b[1;33m+\u001b[0m \u001b[0mtimedelta\u001b[0m\u001b[1;33m(\u001b[0m\u001b[0mdays\u001b[0m\u001b[1;33m=\u001b[0m\u001b[1;36m7\u001b[0m\u001b[1;33m)\u001b[0m\u001b[1;33m\u001b[0m\u001b[1;33m\u001b[0m\u001b[0m\n\u001b[0m",
      "\u001b[1;31mTypeError\u001b[0m: can only concatenate str (not \"datetime.timedelta\") to str"
     ]
    }
   ],
   "source": [
    "str_text = '1989-02-24 03:45:22'\n",
    "print(str_text)\n",
    "print(\"The type is:\", type(str_text))\n",
    "\n",
    "# below will result in error:\n",
    "str_text + timedelta(days=7)"
   ]
  },
  {
   "cell_type": "markdown",
   "metadata": {},
   "source": [
    "Expectadly: we could not automatically add a timedelta to a string. We need to convert the string to datetime format."
   ]
  },
  {
   "cell_type": "code",
   "execution_count": 16,
   "metadata": {},
   "outputs": [
    {
     "data": {
      "text/plain": [
       "datetime.datetime(1989, 2, 24, 3, 45, 22)"
      ]
     },
     "execution_count": 16,
     "metadata": {},
     "output_type": "execute_result"
    }
   ],
   "source": [
    "datetime.strptime(str_text, '%Y-%m-%d %H:%M:%S')"
   ]
  },
  {
   "cell_type": "markdown",
   "metadata": {},
   "source": [
    "Use .strptime() method (\"p\" stands for parsing):"
   ]
  },
  {
   "cell_type": "code",
   "execution_count": 17,
   "metadata": {},
   "outputs": [
    {
     "data": {
      "text/plain": [
       "datetime.datetime(1989, 2, 24, 3, 45, 22)"
      ]
     },
     "execution_count": 17,
     "metadata": {},
     "output_type": "execute_result"
    }
   ],
   "source": [
    "datetime_text = datetime.strptime(str_text, '%Y-%m-%d %H:%M:%S')\n",
    "datetime_text"
   ]
  },
  {
   "cell_type": "markdown",
   "metadata": {},
   "source": [
    "The conversion was successful.\n",
    "\n",
    "Now use the result and get a different date/time format of the same datetime using .strftime() method (\"f\" stands for formatting):"
   ]
  },
  {
   "cell_type": "code",
   "execution_count": 18,
   "metadata": {},
   "outputs": [
    {
     "data": {
      "text/plain": [
       "'02/24/1989 03:45:22'"
      ]
     },
     "execution_count": 18,
     "metadata": {},
     "output_type": "execute_result"
    }
   ],
   "source": [
    "datetime_text.strftime('%m/%d/%Y %H:%M:%S')"
   ]
  },
  {
   "cell_type": "code",
   "execution_count": 19,
   "metadata": {},
   "outputs": [
    {
     "data": {
      "text/plain": [
       "'02/24/89 03:45:22 Friday'"
      ]
     },
     "execution_count": 19,
     "metadata": {},
     "output_type": "execute_result"
    }
   ],
   "source": [
    "datetime_text.strftime('%m/%d/%y %H:%M:%S %A')"
   ]
  },
  {
   "cell_type": "markdown",
   "metadata": {},
   "source": [
    "***Example:***\n",
    "You can find out what day of the week you were born."
   ]
  },
  {
   "cell_type": "code",
   "execution_count": 20,
   "metadata": {},
   "outputs": [
    {
     "data": {
      "text/plain": [
       "'I was born on March 14, 2000. It was on a Tuesday'"
      ]
     },
     "execution_count": 20,
     "metadata": {},
     "output_type": "execute_result"
    }
   ],
   "source": [
    "(datetime.strptime('2000-03-14 01:59:26', '%Y-%m-%d %H:%M:%S')).strftime('I was born on %B %d, %Y. It was on a %A')"
   ]
  },
  {
   "cell_type": "markdown",
   "metadata": {},
   "source": [
    "STRFTIME codes (from http://strftime.org/):\n",
    "\n",
    "<table cellpadding=\"0\" cellspacing=\"0\" border=\"0\">\n",
    "<colgroup>\n",
    "  <col id=\"directive\">\n",
    "  <col id=\"meaning\">\n",
    "  <col id=\"example\">\n",
    "</colgroup>\n",
    "<thead>\n",
    "  <tr>\n",
    "    <th>Code</th>\n",
    "    <th>Meaning</th>\n",
    "    <th>Example</th>\n",
    "  </tr>\n",
    "</thead>\n",
    "<tbody>\n",
    "    <tr>\n",
    "      <td><code>%a</code></td>\n",
    "      <td>Weekday as locale’s abbreviated name.</td>\n",
    "      <td><code>Mon</code></td>\n",
    "    </tr>\n",
    "    <tr>\n",
    "      <td><code>%A</code></td>\n",
    "      <td>Weekday as locale’s full name.</td>\n",
    "      <td><code>Monday</code></td>\n",
    "    </tr>\n",
    "    <tr>\n",
    "      <td><code>%w</code></td>\n",
    "      <td>Weekday as a decimal number, where 0 is Sunday and 6 is Saturday.</td>\n",
    "      <td><code>1</code></td>\n",
    "    </tr>\n",
    "    <tr>\n",
    "      <td><code>%d</code></td>\n",
    "      <td>Day of the month as a zero-padded decimal number.</td>\n",
    "      <td><code>30</code></td>\n",
    "    </tr>\n",
    "    <tr>\n",
    "      <td><code>%-d</code></td>\n",
    "      <td>Day of the month as a  decimal number. (Platform specific)</td>\n",
    "      <td><code>30</code></td>\n",
    "    </tr>\n",
    "    <tr>\n",
    "      <td><code>%b</code></td>\n",
    "      <td>Month as locale’s abbreviated name.</td>\n",
    "      <td><code>Sep</code></td>\n",
    "    </tr>\n",
    "    <tr>\n",
    "      <td><code>%B</code></td>\n",
    "      <td>Month as locale’s full name.</td>\n",
    "      <td><code>September</code></td>\n",
    "    </tr>\n",
    "    <tr>\n",
    "      <td><code>%m</code></td>\n",
    "      <td>Month as a zero-padded decimal number.</td>\n",
    "      <td><code>09</code></td>\n",
    "    </tr>\n",
    "    <tr>\n",
    "      <td><code>%-m</code></td>\n",
    "      <td>Month as a  decimal number. (Platform specific)</td>\n",
    "      <td><code>9</code></td>\n",
    "    </tr>\n",
    "    <tr>\n",
    "      <td><code>%y</code></td>\n",
    "      <td>Year without century as a zero-padded decimal number.</td>\n",
    "      <td><code>13</code></td>\n",
    "    </tr>\n",
    "    <tr>\n",
    "      <td><code>%Y</code></td>\n",
    "      <td>Year with century as a decimal number.</td>\n",
    "      <td><code>2013</code></td>\n",
    "    </tr>\n",
    "    <tr>\n",
    "      <td><code>%H</code></td>\n",
    "      <td>Hour (24-hour clock) as a zero-padded decimal number.</td>\n",
    "      <td><code>07</code></td>\n",
    "    </tr>\n",
    "    <tr>\n",
    "      <td><code>%-H</code></td>\n",
    "      <td>Hour (24-hour clock) as a  decimal number. (Platform specific)</td>\n",
    "      <td><code>7</code></td>\n",
    "    </tr>\n",
    "    <tr>\n",
    "      <td><code>%I</code></td>\n",
    "      <td>Hour (12-hour clock) as a zero-padded decimal number.</td>\n",
    "      <td><code>07</code></td>\n",
    "    </tr>\n",
    "    <tr>\n",
    "      <td><code>%-I</code></td>\n",
    "      <td>Hour (12-hour clock) as a  decimal number. (Platform specific)</td>\n",
    "      <td><code>7</code></td>\n",
    "    </tr>\n",
    "    <tr>\n",
    "      <td><code>%p</code></td>\n",
    "      <td>Locale’s equivalent of either AM or PM.</td>\n",
    "      <td><code>AM</code></td>\n",
    "    </tr>\n",
    "    <tr>\n",
    "      <td><code>%M</code></td>\n",
    "      <td>Minute as a zero-padded decimal number.</td>\n",
    "      <td><code>06</code></td>\n",
    "    </tr>\n",
    "    <tr>\n",
    "      <td><code>%-M</code></td>\n",
    "      <td>Minute as a  decimal number. (Platform specific)</td>\n",
    "      <td><code>6</code></td>\n",
    "    </tr>\n",
    "    <tr>\n",
    "      <td><code>%S</code></td>\n",
    "      <td>Second as a zero-padded decimal number.</td>\n",
    "      <td><code>05</code></td>\n",
    "    </tr>\n",
    "    <tr>\n",
    "      <td><code>%-S</code></td>\n",
    "      <td>Second as a  decimal number. (Platform specific)</td>\n",
    "      <td><code>5</code></td>\n",
    "    </tr>\n",
    "    <tr>\n",
    "      <td><code>%f</code></td>\n",
    "      <td>Microsecond as a decimal number, zero-padded on the left.</td>\n",
    "      <td><code>000000</code></td>\n",
    "    </tr>\n",
    "    <tr>\n",
    "      <td><code>%z</code></td>\n",
    "      <td>UTC offset in the form +HHMM or -HHMM (empty string if the the object is naive).</td>\n",
    "      <td><code></code></td>\n",
    "    </tr>\n",
    "    <tr>\n",
    "      <td><code>%Z</code></td>\n",
    "      <td>Time zone name (empty string if the object is naive).</td>\n",
    "      <td><code></code></td>\n",
    "    </tr>\n",
    "    <tr>\n",
    "      <td><code>%j</code></td>\n",
    "      <td>Day of the year as a zero-padded decimal number.</td>\n",
    "      <td><code>273</code></td>\n",
    "    </tr>\n",
    "    <tr>\n",
    "      <td><code>%-j</code></td>\n",
    "      <td>Day of the year as a  decimal number. (Platform specific)</td>\n",
    "      <td><code>273</code></td>\n",
    "    </tr>\n",
    "    <tr>\n",
    "      <td><code>%U</code></td>\n",
    "      <td>Week number of the year (Sunday as the first day of the week) as a zero padded decimal number. All days in a new year preceding the first Sunday are considered to be in week 0.</td>\n",
    "      <td><code>39</code></td>\n",
    "    </tr>\n",
    "    <tr>\n",
    "      <td><code>%W</code></td>\n",
    "      <td>Week number of the year (Monday as the first day of the week) as a decimal number. All days in a new year preceding the first Monday are considered to be in week 0.</td>\n",
    "      <td><code>39</code></td>\n",
    "    </tr>\n",
    "    <tr>\n",
    "      <td><code>%c</code></td>\n",
    "      <td>Locale’s appropriate date and time representation.</td>\n",
    "      <td><code>Mon Sep 30 07:06:05 2013</code></td>\n",
    "    </tr>\n",
    "    <tr>\n",
    "      <td><code>%x</code></td>\n",
    "      <td>Locale’s appropriate date representation.</td>\n",
    "      <td><code>09/30/13</code></td>\n",
    "    </tr>\n",
    "    <tr>\n",
    "      <td><code>%X</code></td>\n",
    "      <td>Locale’s appropriate time representation.</td>\n",
    "      <td><code>07:06:05</code></td>\n",
    "    </tr>\n",
    "    <tr>\n",
    "      <td><code>%%</code></td>\n",
    "      <td>A literal '%' character.</td>\n",
    "      <td><code>%</code></td>\n",
    "    </tr>\n",
    "</tbody>\n",
    "</table>"
   ]
  },
  {
   "cell_type": "markdown",
   "metadata": {},
   "source": [
    "***Example:***\n",
    "\n",
    "Lets convert a feature to datetime"
   ]
  },
  {
   "cell_type": "code",
   "execution_count": 21,
   "metadata": {},
   "outputs": [
    {
     "data": {
      "text/html": [
       "<div>\n",
       "<style scoped>\n",
       "    .dataframe tbody tr th:only-of-type {\n",
       "        vertical-align: middle;\n",
       "    }\n",
       "\n",
       "    .dataframe tbody tr th {\n",
       "        vertical-align: top;\n",
       "    }\n",
       "\n",
       "    .dataframe thead th {\n",
       "        text-align: right;\n",
       "    }\n",
       "</style>\n",
       "<table border=\"1\" class=\"dataframe\">\n",
       "  <thead>\n",
       "    <tr style=\"text-align: right;\">\n",
       "      <th></th>\n",
       "      <th>Unnamed: 0</th>\n",
       "      <th>medallion</th>\n",
       "      <th>hack_license</th>\n",
       "      <th>vendor_id</th>\n",
       "      <th>rate_code</th>\n",
       "      <th>store_and_fwd_flag</th>\n",
       "      <th>pickup_datetime</th>\n",
       "      <th>dropoff_datetime</th>\n",
       "      <th>passenger_count</th>\n",
       "      <th>trip_time_in_secs</th>\n",
       "      <th>trip_distance</th>\n",
       "      <th>pickup_longitude</th>\n",
       "      <th>pickup_latitude</th>\n",
       "      <th>dropoff_longitude</th>\n",
       "      <th>dropoff_latitude</th>\n",
       "    </tr>\n",
       "  </thead>\n",
       "  <tbody>\n",
       "    <tr>\n",
       "      <th>0</th>\n",
       "      <td>9900641</td>\n",
       "      <td>FD6A1181E0775BAB364BCC2F85E68202</td>\n",
       "      <td>3DB3C7FA79C48DC996093C9BB5524C90</td>\n",
       "      <td>CMT</td>\n",
       "      <td>2</td>\n",
       "      <td>N</td>\n",
       "      <td>2013-02-11 06:46:50</td>\n",
       "      <td>2013-02-11 07:18:33</td>\n",
       "      <td>2</td>\n",
       "      <td>1902</td>\n",
       "      <td>16.10</td>\n",
       "      <td>-73.976471</td>\n",
       "      <td>40.744869</td>\n",
       "      <td>-73.782478</td>\n",
       "      <td>40.648815</td>\n",
       "    </tr>\n",
       "    <tr>\n",
       "      <th>1</th>\n",
       "      <td>4366405</td>\n",
       "      <td>DA2617C774E1C173F1F688500A03EC6A</td>\n",
       "      <td>0C9B95E3059720DDF3CB8B1A43057ABC</td>\n",
       "      <td>CMT</td>\n",
       "      <td>1</td>\n",
       "      <td>N</td>\n",
       "      <td>2013-02-28 13:24:03</td>\n",
       "      <td>2013-02-28 13:39:40</td>\n",
       "      <td>1</td>\n",
       "      <td>936</td>\n",
       "      <td>2.00</td>\n",
       "      <td>-73.999069</td>\n",
       "      <td>40.719170</td>\n",
       "      <td>-74.005203</td>\n",
       "      <td>40.740665</td>\n",
       "    </tr>\n",
       "    <tr>\n",
       "      <th>2</th>\n",
       "      <td>8902938</td>\n",
       "      <td>F7F570E1A4FB56F811260B181653D91A</td>\n",
       "      <td>DC51C25579775925CD83C35DC2474083</td>\n",
       "      <td>CMT</td>\n",
       "      <td>1</td>\n",
       "      <td>N</td>\n",
       "      <td>2013-02-07 15:19:31</td>\n",
       "      <td>2013-02-07 15:22:54</td>\n",
       "      <td>1</td>\n",
       "      <td>203</td>\n",
       "      <td>0.30</td>\n",
       "      <td>-73.963882</td>\n",
       "      <td>40.765438</td>\n",
       "      <td>-73.969406</td>\n",
       "      <td>40.768372</td>\n",
       "    </tr>\n",
       "    <tr>\n",
       "      <th>3</th>\n",
       "      <td>3554704</td>\n",
       "      <td>C901F6F260BB825D6ADA7BBA82EDCDAF</td>\n",
       "      <td>E81AB910D7ED1E06E56BD97F80E50A09</td>\n",
       "      <td>VTS</td>\n",
       "      <td>1</td>\n",
       "      <td>NaN</td>\n",
       "      <td>2013-02-19 17:50:00</td>\n",
       "      <td>2013-02-19 17:59:00</td>\n",
       "      <td>1</td>\n",
       "      <td>540</td>\n",
       "      <td>1.99</td>\n",
       "      <td>-74.009880</td>\n",
       "      <td>40.721348</td>\n",
       "      <td>-74.005074</td>\n",
       "      <td>40.742733</td>\n",
       "    </tr>\n",
       "    <tr>\n",
       "      <th>4</th>\n",
       "      <td>10853369</td>\n",
       "      <td>F6E9B6D3636B7357A87D71BC71C5B36F</td>\n",
       "      <td>D9F0CE02744C215B23AAD18842801788</td>\n",
       "      <td>CMT</td>\n",
       "      <td>1</td>\n",
       "      <td>N</td>\n",
       "      <td>2013-02-22 05:25:01</td>\n",
       "      <td>2013-02-22 05:40:25</td>\n",
       "      <td>2</td>\n",
       "      <td>923</td>\n",
       "      <td>8.70</td>\n",
       "      <td>-73.985062</td>\n",
       "      <td>40.744160</td>\n",
       "      <td>-73.883621</td>\n",
       "      <td>40.775604</td>\n",
       "    </tr>\n",
       "  </tbody>\n",
       "</table>\n",
       "</div>"
      ],
      "text/plain": [
       "   Unnamed: 0                         medallion  \\\n",
       "0     9900641  FD6A1181E0775BAB364BCC2F85E68202   \n",
       "1     4366405  DA2617C774E1C173F1F688500A03EC6A   \n",
       "2     8902938  F7F570E1A4FB56F811260B181653D91A   \n",
       "3     3554704  C901F6F260BB825D6ADA7BBA82EDCDAF   \n",
       "4    10853369  F6E9B6D3636B7357A87D71BC71C5B36F   \n",
       "\n",
       "                       hack_license vendor_id  rate_code store_and_fwd_flag  \\\n",
       "0  3DB3C7FA79C48DC996093C9BB5524C90       CMT          2                  N   \n",
       "1  0C9B95E3059720DDF3CB8B1A43057ABC       CMT          1                  N   \n",
       "2  DC51C25579775925CD83C35DC2474083       CMT          1                  N   \n",
       "3  E81AB910D7ED1E06E56BD97F80E50A09       VTS          1                NaN   \n",
       "4  D9F0CE02744C215B23AAD18842801788       CMT          1                  N   \n",
       "\n",
       "       pickup_datetime     dropoff_datetime  passenger_count  \\\n",
       "0  2013-02-11 06:46:50  2013-02-11 07:18:33                2   \n",
       "1  2013-02-28 13:24:03  2013-02-28 13:39:40                1   \n",
       "2  2013-02-07 15:19:31  2013-02-07 15:22:54                1   \n",
       "3  2013-02-19 17:50:00  2013-02-19 17:59:00                1   \n",
       "4  2013-02-22 05:25:01  2013-02-22 05:40:25                2   \n",
       "\n",
       "   trip_time_in_secs  trip_distance  pickup_longitude  pickup_latitude  \\\n",
       "0               1902          16.10        -73.976471        40.744869   \n",
       "1                936           2.00        -73.999069        40.719170   \n",
       "2                203           0.30        -73.963882        40.765438   \n",
       "3                540           1.99        -74.009880        40.721348   \n",
       "4                923           8.70        -73.985062        40.744160   \n",
       "\n",
       "   dropoff_longitude  dropoff_latitude  \n",
       "0         -73.782478         40.648815  \n",
       "1         -74.005203         40.740665  \n",
       "2         -73.969406         40.768372  \n",
       "3         -74.005074         40.742733  \n",
       "4         -73.883621         40.775604  "
      ]
     },
     "execution_count": 21,
     "metadata": {},
     "output_type": "execute_result"
    }
   ],
   "source": [
    "# import data into dataframe\n",
    "df_sample = pd.read_csv(\"df_sample.csv\")\n",
    "df_sample.head()"
   ]
  },
  {
   "cell_type": "code",
   "execution_count": 22,
   "metadata": {},
   "outputs": [
    {
     "data": {
      "text/plain": [
       "Unnamed: 0              int64\n",
       "medallion              object\n",
       "hack_license           object\n",
       "vendor_id              object\n",
       "rate_code               int64\n",
       "store_and_fwd_flag     object\n",
       "pickup_datetime        object\n",
       "dropoff_datetime       object\n",
       "passenger_count         int64\n",
       "trip_time_in_secs       int64\n",
       "trip_distance         float64\n",
       "pickup_longitude      float64\n",
       "pickup_latitude       float64\n",
       "dropoff_longitude     float64\n",
       "dropoff_latitude      float64\n",
       "dtype: object"
      ]
     },
     "execution_count": 22,
     "metadata": {},
     "output_type": "execute_result"
    }
   ],
   "source": [
    "# check on the data type of features\n",
    "df_sample.dtypes"
   ]
  },
  {
   "cell_type": "markdown",
   "metadata": {},
   "source": [
    "Note the \"pickup_datetime\" and \"dropoff_datetime\" are not date/time types\n",
    "\n",
    "Checking the type of individual values:"
   ]
  },
  {
   "cell_type": "code",
   "execution_count": 23,
   "metadata": {},
   "outputs": [
    {
     "data": {
      "text/plain": [
       "'2013-02-07 15:19:31'"
      ]
     },
     "execution_count": 23,
     "metadata": {},
     "output_type": "execute_result"
    }
   ],
   "source": [
    "df_sample.loc[2,'pickup_datetime']"
   ]
  },
  {
   "cell_type": "code",
   "execution_count": 24,
   "metadata": {},
   "outputs": [
    {
     "data": {
      "text/plain": [
       "str"
      ]
     },
     "execution_count": 24,
     "metadata": {},
     "output_type": "execute_result"
    }
   ],
   "source": [
    "type(df_sample.loc[2,'pickup_datetime'])"
   ]
  },
  {
   "cell_type": "markdown",
   "metadata": {},
   "source": [
    "Try importing as datetime:"
   ]
  },
  {
   "cell_type": "code",
   "execution_count": 25,
   "metadata": {},
   "outputs": [
    {
     "data": {
      "text/plain": [
       "Unnamed: 0              int64\n",
       "medallion              object\n",
       "hack_license           object\n",
       "vendor_id              object\n",
       "rate_code               int64\n",
       "store_and_fwd_flag     object\n",
       "pickup_datetime        object\n",
       "dropoff_datetime       object\n",
       "passenger_count         int64\n",
       "trip_time_in_secs       int64\n",
       "trip_distance         float64\n",
       "pickup_longitude      float64\n",
       "pickup_latitude       float64\n",
       "dropoff_longitude     float64\n",
       "dropoff_latitude      float64\n",
       "dtype: object"
      ]
     },
     "execution_count": 25,
     "metadata": {},
     "output_type": "execute_result"
    }
   ],
   "source": [
    "df_sample = pd.read_csv(\"df_sample.csv\", parse_dates=True)\n",
    "df_sample.dtypes"
   ]
  },
  {
   "cell_type": "markdown",
   "metadata": {},
   "source": [
    "Notice there is no change, the parser did not work.\n",
    "\n",
    "If a feature cannot be parsed as a date/time/datetime, the entire feature will be returned unaltered and as an object data type."
   ]
  },
  {
   "cell_type": "markdown",
   "metadata": {},
   "source": [
    "Use pandas .to_datetime() method"
   ]
  },
  {
   "cell_type": "code",
   "execution_count": 26,
   "metadata": {},
   "outputs": [
    {
     "data": {
      "text/plain": [
       "0     2013-02-11 06:46:50\n",
       "1     2013-02-28 13:24:03\n",
       "2     2013-02-07 15:19:31\n",
       "3     2013-02-19 17:50:00\n",
       "4     2013-02-22 05:25:01\n",
       "              ...        \n",
       "134   2013-02-21 04:53:00\n",
       "135   2013-02-20 19:17:00\n",
       "136   2013-02-02 10:41:38\n",
       "137   2013-02-04 12:26:14\n",
       "138   2013-02-08 14:44:00\n",
       "Name: pickup_datetime, Length: 139, dtype: datetime64[ns]"
      ]
     },
     "execution_count": 26,
     "metadata": {},
     "output_type": "execute_result"
    }
   ],
   "source": [
    "pd.to_datetime(df_sample['pickup_datetime'])"
   ]
  },
  {
   "cell_type": "code",
   "execution_count": 27,
   "metadata": {},
   "outputs": [
    {
     "data": {
      "text/plain": [
       "Unnamed: 0              int64\n",
       "medallion              object\n",
       "hack_license           object\n",
       "vendor_id              object\n",
       "rate_code               int64\n",
       "store_and_fwd_flag     object\n",
       "pickup_datetime        object\n",
       "dropoff_datetime       object\n",
       "passenger_count         int64\n",
       "trip_time_in_secs       int64\n",
       "trip_distance         float64\n",
       "pickup_longitude      float64\n",
       "pickup_latitude       float64\n",
       "dropoff_longitude     float64\n",
       "dropoff_latitude      float64\n",
       "dtype: object"
      ]
     },
     "execution_count": 27,
     "metadata": {},
     "output_type": "execute_result"
    }
   ],
   "source": [
    "df_sample.dtypes"
   ]
  },
  {
   "cell_type": "markdown",
   "metadata": {},
   "source": [
    "The feature's type is now datetime\n",
    "\n",
    "Use an assignment to actually apply the change:"
   ]
  },
  {
   "cell_type": "code",
   "execution_count": 28,
   "metadata": {},
   "outputs": [
    {
     "data": {
      "text/plain": [
       "Unnamed: 0                     int64\n",
       "medallion                     object\n",
       "hack_license                  object\n",
       "vendor_id                     object\n",
       "rate_code                      int64\n",
       "store_and_fwd_flag            object\n",
       "pickup_datetime       datetime64[ns]\n",
       "dropoff_datetime              object\n",
       "passenger_count                int64\n",
       "trip_time_in_secs              int64\n",
       "trip_distance                float64\n",
       "pickup_longitude             float64\n",
       "pickup_latitude              float64\n",
       "dropoff_longitude            float64\n",
       "dropoff_latitude             float64\n",
       "dtype: object"
      ]
     },
     "execution_count": 28,
     "metadata": {},
     "output_type": "execute_result"
    }
   ],
   "source": [
    "df_sample['pickup_datetime'] = pd.to_datetime(df_sample['pickup_datetime'])\n",
    "df_sample.dtypes"
   ]
  },
  {
   "cell_type": "markdown",
   "metadata": {},
   "source": [
    "Now the feature can be utilized as a datetime type, for example the format can be changed:"
   ]
  },
  {
   "cell_type": "code",
   "execution_count": 29,
   "metadata": {},
   "outputs": [
    {
     "data": {
      "text/html": [
       "<div>\n",
       "<style scoped>\n",
       "    .dataframe tbody tr th:only-of-type {\n",
       "        vertical-align: middle;\n",
       "    }\n",
       "\n",
       "    .dataframe tbody tr th {\n",
       "        vertical-align: top;\n",
       "    }\n",
       "\n",
       "    .dataframe thead th {\n",
       "        text-align: right;\n",
       "    }\n",
       "</style>\n",
       "<table border=\"1\" class=\"dataframe\">\n",
       "  <thead>\n",
       "    <tr style=\"text-align: right;\">\n",
       "      <th></th>\n",
       "      <th>Unnamed: 0</th>\n",
       "      <th>medallion</th>\n",
       "      <th>hack_license</th>\n",
       "      <th>vendor_id</th>\n",
       "      <th>rate_code</th>\n",
       "      <th>store_and_fwd_flag</th>\n",
       "      <th>pickup_datetime</th>\n",
       "      <th>dropoff_datetime</th>\n",
       "      <th>passenger_count</th>\n",
       "      <th>trip_time_in_secs</th>\n",
       "      <th>trip_distance</th>\n",
       "      <th>pickup_longitude</th>\n",
       "      <th>pickup_latitude</th>\n",
       "      <th>dropoff_longitude</th>\n",
       "      <th>dropoff_latitude</th>\n",
       "    </tr>\n",
       "  </thead>\n",
       "  <tbody>\n",
       "    <tr>\n",
       "      <th>0</th>\n",
       "      <td>9900641</td>\n",
       "      <td>FD6A1181E0775BAB364BCC2F85E68202</td>\n",
       "      <td>3DB3C7FA79C48DC996093C9BB5524C90</td>\n",
       "      <td>CMT</td>\n",
       "      <td>2</td>\n",
       "      <td>N</td>\n",
       "      <td>2013-02-11 06:46:50</td>\n",
       "      <td>2013-02-11 07:18:33</td>\n",
       "      <td>2</td>\n",
       "      <td>1902</td>\n",
       "      <td>16.10</td>\n",
       "      <td>-73.976471</td>\n",
       "      <td>40.744869</td>\n",
       "      <td>-73.782478</td>\n",
       "      <td>40.648815</td>\n",
       "    </tr>\n",
       "    <tr>\n",
       "      <th>1</th>\n",
       "      <td>4366405</td>\n",
       "      <td>DA2617C774E1C173F1F688500A03EC6A</td>\n",
       "      <td>0C9B95E3059720DDF3CB8B1A43057ABC</td>\n",
       "      <td>CMT</td>\n",
       "      <td>1</td>\n",
       "      <td>N</td>\n",
       "      <td>2013-02-28 13:24:03</td>\n",
       "      <td>2013-02-28 13:39:40</td>\n",
       "      <td>1</td>\n",
       "      <td>936</td>\n",
       "      <td>2.00</td>\n",
       "      <td>-73.999069</td>\n",
       "      <td>40.719170</td>\n",
       "      <td>-74.005203</td>\n",
       "      <td>40.740665</td>\n",
       "    </tr>\n",
       "    <tr>\n",
       "      <th>2</th>\n",
       "      <td>8902938</td>\n",
       "      <td>F7F570E1A4FB56F811260B181653D91A</td>\n",
       "      <td>DC51C25579775925CD83C35DC2474083</td>\n",
       "      <td>CMT</td>\n",
       "      <td>1</td>\n",
       "      <td>N</td>\n",
       "      <td>2013-02-07 15:19:31</td>\n",
       "      <td>2013-02-07 15:22:54</td>\n",
       "      <td>1</td>\n",
       "      <td>203</td>\n",
       "      <td>0.30</td>\n",
       "      <td>-73.963882</td>\n",
       "      <td>40.765438</td>\n",
       "      <td>-73.969406</td>\n",
       "      <td>40.768372</td>\n",
       "    </tr>\n",
       "    <tr>\n",
       "      <th>3</th>\n",
       "      <td>3554704</td>\n",
       "      <td>C901F6F260BB825D6ADA7BBA82EDCDAF</td>\n",
       "      <td>E81AB910D7ED1E06E56BD97F80E50A09</td>\n",
       "      <td>VTS</td>\n",
       "      <td>1</td>\n",
       "      <td>NaN</td>\n",
       "      <td>2013-02-19 17:50:00</td>\n",
       "      <td>2013-02-19 17:59:00</td>\n",
       "      <td>1</td>\n",
       "      <td>540</td>\n",
       "      <td>1.99</td>\n",
       "      <td>-74.009880</td>\n",
       "      <td>40.721348</td>\n",
       "      <td>-74.005074</td>\n",
       "      <td>40.742733</td>\n",
       "    </tr>\n",
       "    <tr>\n",
       "      <th>4</th>\n",
       "      <td>10853369</td>\n",
       "      <td>F6E9B6D3636B7357A87D71BC71C5B36F</td>\n",
       "      <td>D9F0CE02744C215B23AAD18842801788</td>\n",
       "      <td>CMT</td>\n",
       "      <td>1</td>\n",
       "      <td>N</td>\n",
       "      <td>2013-02-22 05:25:01</td>\n",
       "      <td>2013-02-22 05:40:25</td>\n",
       "      <td>2</td>\n",
       "      <td>923</td>\n",
       "      <td>8.70</td>\n",
       "      <td>-73.985062</td>\n",
       "      <td>40.744160</td>\n",
       "      <td>-73.883621</td>\n",
       "      <td>40.775604</td>\n",
       "    </tr>\n",
       "  </tbody>\n",
       "</table>\n",
       "</div>"
      ],
      "text/plain": [
       "   Unnamed: 0                         medallion  \\\n",
       "0     9900641  FD6A1181E0775BAB364BCC2F85E68202   \n",
       "1     4366405  DA2617C774E1C173F1F688500A03EC6A   \n",
       "2     8902938  F7F570E1A4FB56F811260B181653D91A   \n",
       "3     3554704  C901F6F260BB825D6ADA7BBA82EDCDAF   \n",
       "4    10853369  F6E9B6D3636B7357A87D71BC71C5B36F   \n",
       "\n",
       "                       hack_license vendor_id  rate_code store_and_fwd_flag  \\\n",
       "0  3DB3C7FA79C48DC996093C9BB5524C90       CMT          2                  N   \n",
       "1  0C9B95E3059720DDF3CB8B1A43057ABC       CMT          1                  N   \n",
       "2  DC51C25579775925CD83C35DC2474083       CMT          1                  N   \n",
       "3  E81AB910D7ED1E06E56BD97F80E50A09       VTS          1                NaN   \n",
       "4  D9F0CE02744C215B23AAD18842801788       CMT          1                  N   \n",
       "\n",
       "      pickup_datetime     dropoff_datetime  passenger_count  \\\n",
       "0 2013-02-11 06:46:50  2013-02-11 07:18:33                2   \n",
       "1 2013-02-28 13:24:03  2013-02-28 13:39:40                1   \n",
       "2 2013-02-07 15:19:31  2013-02-07 15:22:54                1   \n",
       "3 2013-02-19 17:50:00  2013-02-19 17:59:00                1   \n",
       "4 2013-02-22 05:25:01  2013-02-22 05:40:25                2   \n",
       "\n",
       "   trip_time_in_secs  trip_distance  pickup_longitude  pickup_latitude  \\\n",
       "0               1902          16.10        -73.976471        40.744869   \n",
       "1                936           2.00        -73.999069        40.719170   \n",
       "2                203           0.30        -73.963882        40.765438   \n",
       "3                540           1.99        -74.009880        40.721348   \n",
       "4                923           8.70        -73.985062        40.744160   \n",
       "\n",
       "   dropoff_longitude  dropoff_latitude  \n",
       "0         -73.782478         40.648815  \n",
       "1         -74.005203         40.740665  \n",
       "2         -73.969406         40.768372  \n",
       "3         -74.005074         40.742733  \n",
       "4         -73.883621         40.775604  "
      ]
     },
     "execution_count": 29,
     "metadata": {},
     "output_type": "execute_result"
    }
   ],
   "source": [
    "df_sample.head()"
   ]
  },
  {
   "cell_type": "code",
   "execution_count": 30,
   "metadata": {},
   "outputs": [],
   "source": [
    "# below would create the feature as expected but would place it at the very end\n",
    "#df_sample['pickup_date'] = df_sample.loc[:,'pickup_datetime'].dt.strftime('%Y/%m/%d')"
   ]
  },
  {
   "cell_type": "code",
   "execution_count": 31,
   "metadata": {},
   "outputs": [
    {
     "data": {
      "text/html": [
       "<div>\n",
       "<style scoped>\n",
       "    .dataframe tbody tr th:only-of-type {\n",
       "        vertical-align: middle;\n",
       "    }\n",
       "\n",
       "    .dataframe tbody tr th {\n",
       "        vertical-align: top;\n",
       "    }\n",
       "\n",
       "    .dataframe thead th {\n",
       "        text-align: right;\n",
       "    }\n",
       "</style>\n",
       "<table border=\"1\" class=\"dataframe\">\n",
       "  <thead>\n",
       "    <tr style=\"text-align: right;\">\n",
       "      <th></th>\n",
       "      <th>Unnamed: 0</th>\n",
       "      <th>medallion</th>\n",
       "      <th>hack_license</th>\n",
       "      <th>vendor_id</th>\n",
       "      <th>rate_code</th>\n",
       "      <th>store_and_fwd_flag</th>\n",
       "      <th>pickup_date</th>\n",
       "      <th>pickup_datetime</th>\n",
       "      <th>dropoff_datetime</th>\n",
       "      <th>passenger_count</th>\n",
       "      <th>trip_time_in_secs</th>\n",
       "      <th>trip_distance</th>\n",
       "      <th>pickup_longitude</th>\n",
       "      <th>pickup_latitude</th>\n",
       "      <th>dropoff_longitude</th>\n",
       "      <th>dropoff_latitude</th>\n",
       "    </tr>\n",
       "  </thead>\n",
       "  <tbody>\n",
       "    <tr>\n",
       "      <th>0</th>\n",
       "      <td>9900641</td>\n",
       "      <td>FD6A1181E0775BAB364BCC2F85E68202</td>\n",
       "      <td>3DB3C7FA79C48DC996093C9BB5524C90</td>\n",
       "      <td>CMT</td>\n",
       "      <td>2</td>\n",
       "      <td>N</td>\n",
       "      <td>2013/02/11</td>\n",
       "      <td>2013-02-11 06:46:50</td>\n",
       "      <td>2013-02-11 07:18:33</td>\n",
       "      <td>2</td>\n",
       "      <td>1902</td>\n",
       "      <td>16.10</td>\n",
       "      <td>-73.976471</td>\n",
       "      <td>40.744869</td>\n",
       "      <td>-73.782478</td>\n",
       "      <td>40.648815</td>\n",
       "    </tr>\n",
       "    <tr>\n",
       "      <th>1</th>\n",
       "      <td>4366405</td>\n",
       "      <td>DA2617C774E1C173F1F688500A03EC6A</td>\n",
       "      <td>0C9B95E3059720DDF3CB8B1A43057ABC</td>\n",
       "      <td>CMT</td>\n",
       "      <td>1</td>\n",
       "      <td>N</td>\n",
       "      <td>2013/02/28</td>\n",
       "      <td>2013-02-28 13:24:03</td>\n",
       "      <td>2013-02-28 13:39:40</td>\n",
       "      <td>1</td>\n",
       "      <td>936</td>\n",
       "      <td>2.00</td>\n",
       "      <td>-73.999069</td>\n",
       "      <td>40.719170</td>\n",
       "      <td>-74.005203</td>\n",
       "      <td>40.740665</td>\n",
       "    </tr>\n",
       "    <tr>\n",
       "      <th>2</th>\n",
       "      <td>8902938</td>\n",
       "      <td>F7F570E1A4FB56F811260B181653D91A</td>\n",
       "      <td>DC51C25579775925CD83C35DC2474083</td>\n",
       "      <td>CMT</td>\n",
       "      <td>1</td>\n",
       "      <td>N</td>\n",
       "      <td>2013/02/07</td>\n",
       "      <td>2013-02-07 15:19:31</td>\n",
       "      <td>2013-02-07 15:22:54</td>\n",
       "      <td>1</td>\n",
       "      <td>203</td>\n",
       "      <td>0.30</td>\n",
       "      <td>-73.963882</td>\n",
       "      <td>40.765438</td>\n",
       "      <td>-73.969406</td>\n",
       "      <td>40.768372</td>\n",
       "    </tr>\n",
       "    <tr>\n",
       "      <th>3</th>\n",
       "      <td>3554704</td>\n",
       "      <td>C901F6F260BB825D6ADA7BBA82EDCDAF</td>\n",
       "      <td>E81AB910D7ED1E06E56BD97F80E50A09</td>\n",
       "      <td>VTS</td>\n",
       "      <td>1</td>\n",
       "      <td>NaN</td>\n",
       "      <td>2013/02/19</td>\n",
       "      <td>2013-02-19 17:50:00</td>\n",
       "      <td>2013-02-19 17:59:00</td>\n",
       "      <td>1</td>\n",
       "      <td>540</td>\n",
       "      <td>1.99</td>\n",
       "      <td>-74.009880</td>\n",
       "      <td>40.721348</td>\n",
       "      <td>-74.005074</td>\n",
       "      <td>40.742733</td>\n",
       "    </tr>\n",
       "    <tr>\n",
       "      <th>4</th>\n",
       "      <td>10853369</td>\n",
       "      <td>F6E9B6D3636B7357A87D71BC71C5B36F</td>\n",
       "      <td>D9F0CE02744C215B23AAD18842801788</td>\n",
       "      <td>CMT</td>\n",
       "      <td>1</td>\n",
       "      <td>N</td>\n",
       "      <td>2013/02/22</td>\n",
       "      <td>2013-02-22 05:25:01</td>\n",
       "      <td>2013-02-22 05:40:25</td>\n",
       "      <td>2</td>\n",
       "      <td>923</td>\n",
       "      <td>8.70</td>\n",
       "      <td>-73.985062</td>\n",
       "      <td>40.744160</td>\n",
       "      <td>-73.883621</td>\n",
       "      <td>40.775604</td>\n",
       "    </tr>\n",
       "  </tbody>\n",
       "</table>\n",
       "</div>"
      ],
      "text/plain": [
       "   Unnamed: 0                         medallion  \\\n",
       "0     9900641  FD6A1181E0775BAB364BCC2F85E68202   \n",
       "1     4366405  DA2617C774E1C173F1F688500A03EC6A   \n",
       "2     8902938  F7F570E1A4FB56F811260B181653D91A   \n",
       "3     3554704  C901F6F260BB825D6ADA7BBA82EDCDAF   \n",
       "4    10853369  F6E9B6D3636B7357A87D71BC71C5B36F   \n",
       "\n",
       "                       hack_license vendor_id  rate_code store_and_fwd_flag  \\\n",
       "0  3DB3C7FA79C48DC996093C9BB5524C90       CMT          2                  N   \n",
       "1  0C9B95E3059720DDF3CB8B1A43057ABC       CMT          1                  N   \n",
       "2  DC51C25579775925CD83C35DC2474083       CMT          1                  N   \n",
       "3  E81AB910D7ED1E06E56BD97F80E50A09       VTS          1                NaN   \n",
       "4  D9F0CE02744C215B23AAD18842801788       CMT          1                  N   \n",
       "\n",
       "  pickup_date     pickup_datetime     dropoff_datetime  passenger_count  \\\n",
       "0  2013/02/11 2013-02-11 06:46:50  2013-02-11 07:18:33                2   \n",
       "1  2013/02/28 2013-02-28 13:24:03  2013-02-28 13:39:40                1   \n",
       "2  2013/02/07 2013-02-07 15:19:31  2013-02-07 15:22:54                1   \n",
       "3  2013/02/19 2013-02-19 17:50:00  2013-02-19 17:59:00                1   \n",
       "4  2013/02/22 2013-02-22 05:25:01  2013-02-22 05:40:25                2   \n",
       "\n",
       "   trip_time_in_secs  trip_distance  pickup_longitude  pickup_latitude  \\\n",
       "0               1902          16.10        -73.976471        40.744869   \n",
       "1                936           2.00        -73.999069        40.719170   \n",
       "2                203           0.30        -73.963882        40.765438   \n",
       "3                540           1.99        -74.009880        40.721348   \n",
       "4                923           8.70        -73.985062        40.744160   \n",
       "\n",
       "   dropoff_longitude  dropoff_latitude  \n",
       "0         -73.782478         40.648815  \n",
       "1         -74.005203         40.740665  \n",
       "2         -73.969406         40.768372  \n",
       "3         -74.005074         40.742733  \n",
       "4         -73.883621         40.775604  "
      ]
     },
     "execution_count": 31,
     "metadata": {},
     "output_type": "execute_result"
    }
   ],
   "source": [
    "df_sample.insert(6, 'pickup_date', df_sample.loc[:,'pickup_datetime'].dt.strftime('%Y/%m/%d'))\n",
    "df_sample.head()"
   ]
  },
  {
   "cell_type": "markdown",
   "metadata": {},
   "source": [
    "**Date ranges and frequencies**\n",
    "- Generating date ranges\n",
    "- Specify frequency and periods\n",
    "\n",
    "Example using .date_range() method:"
   ]
  },
  {
   "cell_type": "code",
   "execution_count": 32,
   "metadata": {},
   "outputs": [
    {
     "data": {
      "text/plain": [
       "DatetimeIndex(['2020-10-19', '2020-10-20', '2020-10-21', '2020-10-22',\n",
       "               '2020-10-23', '2020-10-24', '2020-10-25', '2020-10-26',\n",
       "               '2020-10-27', '2020-10-28', '2020-10-29', '2020-10-30',\n",
       "               '2020-10-31', '2020-11-01', '2020-11-02', '2020-11-03',\n",
       "               '2020-11-04', '2020-11-05', '2020-11-06', '2020-11-07',\n",
       "               '2020-11-08', '2020-11-09', '2020-11-10', '2020-11-11',\n",
       "               '2020-11-12', '2020-11-13', '2020-11-14', '2020-11-15',\n",
       "               '2020-11-16', '2020-11-17', '2020-11-18', '2020-11-19',\n",
       "               '2020-11-20', '2020-11-21', '2020-11-22', '2020-11-23',\n",
       "               '2020-11-24', '2020-11-25', '2020-11-26', '2020-11-27',\n",
       "               '2020-11-28', '2020-11-29', '2020-11-30', '2020-12-01',\n",
       "               '2020-12-02', '2020-12-03', '2020-12-04', '2020-12-05',\n",
       "               '2020-12-06', '2020-12-07', '2020-12-08', '2020-12-09'],\n",
       "              dtype='datetime64[ns]', freq='D')"
      ]
     },
     "execution_count": 32,
     "metadata": {},
     "output_type": "execute_result"
    }
   ],
   "source": [
    "# specify two dates as a range\n",
    "index = pd.date_range('2020-10-19', '2020-12-09')\n",
    "index"
   ]
  },
  {
   "cell_type": "markdown",
   "metadata": {},
   "source": [
    "Note that the frequency is daily by default\n",
    "\n",
    "Lets change that to weekly:"
   ]
  },
  {
   "cell_type": "code",
   "execution_count": 33,
   "metadata": {},
   "outputs": [
    {
     "data": {
      "text/plain": [
       "DatetimeIndex(['2019-11-10', '2019-11-17', '2019-11-24', '2019-12-01',\n",
       "               '2019-12-08'],\n",
       "              dtype='datetime64[ns]', freq='W-SUN')"
      ]
     },
     "execution_count": 33,
     "metadata": {},
     "output_type": "execute_result"
    }
   ],
   "source": [
    "index = pd.date_range('2019-11-05', '2019-12-12', freq='W')\n",
    "index"
   ]
  },
  {
   "cell_type": "markdown",
   "metadata": {},
   "source": [
    "We can further specify which day the weekly frequency can start:"
   ]
  },
  {
   "cell_type": "code",
   "execution_count": 34,
   "metadata": {},
   "outputs": [
    {
     "data": {
      "text/plain": [
       "DatetimeIndex(['2020-10-19', '2020-10-26', '2020-11-02', '2020-11-09',\n",
       "               '2020-11-16', '2020-11-23', '2020-11-30', '2020-12-07'],\n",
       "              dtype='datetime64[ns]', freq='W-MON')"
      ]
     },
     "execution_count": 34,
     "metadata": {},
     "output_type": "execute_result"
    }
   ],
   "source": [
    "index = pd.date_range('2020-10-19', '2020-12-09', freq='W-MON')\n",
    "index"
   ]
  },
  {
   "cell_type": "markdown",
   "metadata": {},
   "source": [
    "If we only specify the start then need to pass a number of periods:"
   ]
  },
  {
   "cell_type": "code",
   "execution_count": 35,
   "metadata": {},
   "outputs": [
    {
     "data": {
      "text/plain": [
       "DatetimeIndex(['2020-10-19', '2020-10-20', '2020-10-21', '2020-10-22',\n",
       "               '2020-10-23', '2020-10-24', '2020-10-25', '2020-10-26',\n",
       "               '2020-10-27', '2020-10-28', '2020-10-29', '2020-10-30',\n",
       "               '2020-10-31', '2020-11-01', '2020-11-02', '2020-11-03',\n",
       "               '2020-11-04', '2020-11-05', '2020-11-06', '2020-11-07',\n",
       "               '2020-11-08', '2020-11-09', '2020-11-10', '2020-11-11',\n",
       "               '2020-11-12', '2020-11-13', '2020-11-14', '2020-11-15',\n",
       "               '2020-11-16', '2020-11-17', '2020-11-18', '2020-11-19',\n",
       "               '2020-11-20', '2020-11-21', '2020-11-22', '2020-11-23',\n",
       "               '2020-11-24', '2020-11-25', '2020-11-26', '2020-11-27',\n",
       "               '2020-11-28', '2020-11-29', '2020-11-30', '2020-12-01',\n",
       "               '2020-12-02', '2020-12-03', '2020-12-04', '2020-12-05',\n",
       "               '2020-12-06', '2020-12-07', '2020-12-08', '2020-12-09'],\n",
       "              dtype='datetime64[ns]', freq='D')"
      ]
     },
     "execution_count": 35,
     "metadata": {},
     "output_type": "execute_result"
    }
   ],
   "source": [
    "index = pd.date_range('2020-10-19', freq='D', periods=52)\n",
    "index"
   ]
  },
  {
   "cell_type": "markdown",
   "metadata": {},
   "source": [
    "Note that the date time input was considered as a start time.\n",
    "\n",
    "Lets specify the end time and the number of periods:"
   ]
  },
  {
   "cell_type": "code",
   "execution_count": 36,
   "metadata": {},
   "outputs": [
    {
     "data": {
      "text/plain": [
       "DatetimeIndex(['2020-10-19', '2020-10-20', '2020-10-21', '2020-10-22',\n",
       "               '2020-10-23', '2020-10-24', '2020-10-25', '2020-10-26',\n",
       "               '2020-10-27', '2020-10-28', '2020-10-29', '2020-10-30',\n",
       "               '2020-10-31', '2020-11-01', '2020-11-02', '2020-11-03',\n",
       "               '2020-11-04', '2020-11-05', '2020-11-06', '2020-11-07',\n",
       "               '2020-11-08', '2020-11-09', '2020-11-10', '2020-11-11',\n",
       "               '2020-11-12', '2020-11-13', '2020-11-14', '2020-11-15',\n",
       "               '2020-11-16', '2020-11-17', '2020-11-18', '2020-11-19',\n",
       "               '2020-11-20', '2020-11-21', '2020-11-22', '2020-11-23',\n",
       "               '2020-11-24', '2020-11-25', '2020-11-26', '2020-11-27',\n",
       "               '2020-11-28', '2020-11-29', '2020-11-30', '2020-12-01',\n",
       "               '2020-12-02', '2020-12-03', '2020-12-04', '2020-12-05',\n",
       "               '2020-12-06', '2020-12-07', '2020-12-08', '2020-12-09'],\n",
       "              dtype='datetime64[ns]', freq='D')"
      ]
     },
     "execution_count": 36,
     "metadata": {},
     "output_type": "execute_result"
    }
   ],
   "source": [
    "index = pd.date_range(end='2020-12-09', freq='D', periods=52)\n",
    "index"
   ]
  },
  {
   "cell_type": "markdown",
   "metadata": {},
   "source": [
    "Even more complex frequency can be specified.\n",
    "\n",
    "Example for listing all Patch Tuesdays until the end of next year:"
   ]
  },
  {
   "cell_type": "code",
   "execution_count": 37,
   "metadata": {},
   "outputs": [
    {
     "data": {
      "text/plain": [
       "DatetimeIndex(['2020-01-14', '2020-02-11', '2020-03-10', '2020-04-14',\n",
       "               '2020-05-12', '2020-06-09', '2020-07-14', '2020-08-11',\n",
       "               '2020-09-08', '2020-10-13', '2020-11-10', '2020-12-08'],\n",
       "              dtype='datetime64[ns]', freq='WOM-2TUE')"
      ]
     },
     "execution_count": 37,
     "metadata": {},
     "output_type": "execute_result"
    }
   ],
   "source": [
    "index = pd.date_range(start='2020-01-01', end='2020-12-31', freq='WOM-2TUE')\n",
    "index"
   ]
  },
  {
   "cell_type": "markdown",
   "metadata": {},
   "source": [
    "***Example:***\n",
    "\n",
    "Create a dataframe as a time series using the index as the time and one feature measuring a levitating object's height:"
   ]
  },
  {
   "cell_type": "code",
   "execution_count": 38,
   "metadata": {},
   "outputs": [
    {
     "data": {
      "text/plain": [
       "DatetimeIndex(['2020-10-19 20:30:00', '2020-10-19 20:31:00',\n",
       "               '2020-10-19 20:32:00', '2020-10-19 20:33:00',\n",
       "               '2020-10-19 20:34:00', '2020-10-19 20:35:00',\n",
       "               '2020-10-19 20:36:00', '2020-10-19 20:37:00',\n",
       "               '2020-10-19 20:38:00', '2020-10-19 20:39:00',\n",
       "               '2020-10-19 20:40:00', '2020-10-19 20:41:00',\n",
       "               '2020-10-19 20:42:00', '2020-10-19 20:43:00',\n",
       "               '2020-10-19 20:44:00', '2020-10-19 20:45:00',\n",
       "               '2020-10-19 20:46:00', '2020-10-19 20:47:00',\n",
       "               '2020-10-19 20:48:00', '2020-10-19 20:49:00',\n",
       "               '2020-10-19 20:50:00', '2020-10-19 20:51:00',\n",
       "               '2020-10-19 20:52:00', '2020-10-19 20:53:00',\n",
       "               '2020-10-19 20:54:00', '2020-10-19 20:55:00',\n",
       "               '2020-10-19 20:56:00', '2020-10-19 20:57:00',\n",
       "               '2020-10-19 20:58:00', '2020-10-19 20:59:00',\n",
       "               '2020-10-19 21:00:00', '2020-10-19 21:01:00',\n",
       "               '2020-10-19 21:02:00', '2020-10-19 21:03:00',\n",
       "               '2020-10-19 21:04:00', '2020-10-19 21:05:00',\n",
       "               '2020-10-19 21:06:00', '2020-10-19 21:07:00',\n",
       "               '2020-10-19 21:08:00', '2020-10-19 21:09:00',\n",
       "               '2020-10-19 21:10:00', '2020-10-19 21:11:00',\n",
       "               '2020-10-19 21:12:00', '2020-10-19 21:13:00',\n",
       "               '2020-10-19 21:14:00', '2020-10-19 21:15:00',\n",
       "               '2020-10-19 21:16:00', '2020-10-19 21:17:00',\n",
       "               '2020-10-19 21:18:00', '2020-10-19 21:19:00',\n",
       "               '2020-10-19 21:20:00', '2020-10-19 21:21:00',\n",
       "               '2020-10-19 21:22:00', '2020-10-19 21:23:00',\n",
       "               '2020-10-19 21:24:00', '2020-10-19 21:25:00',\n",
       "               '2020-10-19 21:26:00', '2020-10-19 21:27:00',\n",
       "               '2020-10-19 21:28:00', '2020-10-19 21:29:00',\n",
       "               '2020-10-19 21:30:00', '2020-10-19 21:31:00',\n",
       "               '2020-10-19 21:32:00', '2020-10-19 21:33:00',\n",
       "               '2020-10-19 21:34:00', '2020-10-19 21:35:00',\n",
       "               '2020-10-19 21:36:00', '2020-10-19 21:37:00',\n",
       "               '2020-10-19 21:38:00', '2020-10-19 21:39:00',\n",
       "               '2020-10-19 21:40:00', '2020-10-19 21:41:00',\n",
       "               '2020-10-19 21:42:00', '2020-10-19 21:43:00',\n",
       "               '2020-10-19 21:44:00', '2020-10-19 21:45:00',\n",
       "               '2020-10-19 21:46:00', '2020-10-19 21:47:00',\n",
       "               '2020-10-19 21:48:00', '2020-10-19 21:49:00'],\n",
       "              dtype='datetime64[ns]', freq='T')"
      ]
     },
     "execution_count": 38,
     "metadata": {},
     "output_type": "execute_result"
    }
   ],
   "source": [
    "index = pd.date_range(start='2020-10-19 20:30:00 ', freq='min', periods=80)\n",
    "index"
   ]
  },
  {
   "cell_type": "markdown",
   "metadata": {},
   "source": [
    "Now we have one minute time stamps during our class.\n",
    "\n",
    "Create a somewhat elevating set of values for every minute."
   ]
  },
  {
   "cell_type": "code",
   "execution_count": 39,
   "metadata": {},
   "outputs": [
    {
     "data": {
      "text/plain": [
       "array([ 1,  2,  3,  4,  5,  6,  7,  8,  9, 10, 11, 12, 13, 14, 15, 16, 17,\n",
       "       18, 19, 20, 21, 22, 23, 24, 25, 26, 27, 28, 29, 30, 31, 32, 33, 34,\n",
       "       35, 36, 37, 38, 39, 40, 41, 42, 43, 44, 45, 46, 47, 48, 49, 50, 51,\n",
       "       52, 53, 54, 55, 56, 57, 58, 59, 60, 61, 62, 63, 64, 65, 66, 67, 68,\n",
       "       69, 70, 71, 72, 73, 74, 75, 76, 77, 78, 79, 80])"
      ]
     },
     "execution_count": 39,
     "metadata": {},
     "output_type": "execute_result"
    }
   ],
   "source": [
    "# create a range between 1 and 80\n",
    "x = np.arange(1,81)\n",
    "x"
   ]
  },
  {
   "cell_type": "code",
   "execution_count": 40,
   "metadata": {},
   "outputs": [
    {
     "data": {
      "text/plain": [
       "array([21, 12, 64, 38, 30, 54, 35, 40,  8,  6, 34, 39, 52,  1, 59, 28, 75,\n",
       "       27, 25, 58, 42, 46, 72, 36, 39, 27, 26,  4, 79, 44,  1,  3, 24, 31,\n",
       "       29, 18, 74, 78, 23, 10, 60, 24, 17, 64, 11, 41, 71,  8, 18, 68, 45,\n",
       "       23, 38, 15,  2, 62,  5, 68, 50, 31,  2, 16, 70, 62, 36, 57,  7, 28,\n",
       "       62, 39, 15,  1, 75, 32, 17,  5, 44, 30, 41, 73])"
      ]
     },
     "execution_count": 40,
     "metadata": {},
     "output_type": "execute_result"
    }
   ],
   "source": [
    "# create 80 random numbers in the same range\n",
    "t = np.random.randint(1,81,80)\n",
    "t"
   ]
  },
  {
   "cell_type": "code",
   "execution_count": 41,
   "metadata": {},
   "outputs": [
    {
     "data": {
      "text/plain": [
       "array([20, 10, 61, 34, 25, 48, 28, 32,  1,  4, 23, 27, 39, 13, 44, 12, 58,\n",
       "        9,  6, 38, 21, 24, 49, 12, 14,  1,  1, 24, 50, 14, 30, 29,  9,  3,\n",
       "        6, 18, 37, 40, 16, 30, 19, 18, 26, 20, 34,  5, 24, 40, 31, 18,  6,\n",
       "       29, 15, 39, 53,  6, 52, 10,  9, 29, 59, 46,  7,  2, 29,  9, 60, 40,\n",
       "        7, 31, 56, 71,  2, 42, 58, 71, 33, 48, 38,  7])"
      ]
     },
     "execution_count": 41,
     "metadata": {},
     "output_type": "execute_result"
    }
   ],
   "source": [
    "# combine x and t to get the noisy but mostly elevating levitation heights\n",
    "y = abs(x + (np.random.randint(2)*2-1)*t)\n",
    "y"
   ]
  },
  {
   "cell_type": "code",
   "execution_count": 42,
   "metadata": {},
   "outputs": [
    {
     "data": {
      "text/html": [
       "<div>\n",
       "<style scoped>\n",
       "    .dataframe tbody tr th:only-of-type {\n",
       "        vertical-align: middle;\n",
       "    }\n",
       "\n",
       "    .dataframe tbody tr th {\n",
       "        vertical-align: top;\n",
       "    }\n",
       "\n",
       "    .dataframe thead th {\n",
       "        text-align: right;\n",
       "    }\n",
       "</style>\n",
       "<table border=\"1\" class=\"dataframe\">\n",
       "  <thead>\n",
       "    <tr style=\"text-align: right;\">\n",
       "      <th></th>\n",
       "      <th>height</th>\n",
       "    </tr>\n",
       "  </thead>\n",
       "  <tbody>\n",
       "    <tr>\n",
       "      <th>2020-10-19 20:30:00</th>\n",
       "      <td>20</td>\n",
       "    </tr>\n",
       "    <tr>\n",
       "      <th>2020-10-19 20:31:00</th>\n",
       "      <td>10</td>\n",
       "    </tr>\n",
       "    <tr>\n",
       "      <th>2020-10-19 20:32:00</th>\n",
       "      <td>61</td>\n",
       "    </tr>\n",
       "    <tr>\n",
       "      <th>2020-10-19 20:33:00</th>\n",
       "      <td>34</td>\n",
       "    </tr>\n",
       "    <tr>\n",
       "      <th>2020-10-19 20:34:00</th>\n",
       "      <td>25</td>\n",
       "    </tr>\n",
       "  </tbody>\n",
       "</table>\n",
       "</div>"
      ],
      "text/plain": [
       "                     height\n",
       "2020-10-19 20:30:00      20\n",
       "2020-10-19 20:31:00      10\n",
       "2020-10-19 20:32:00      61\n",
       "2020-10-19 20:33:00      34\n",
       "2020-10-19 20:34:00      25"
      ]
     },
     "execution_count": 42,
     "metadata": {},
     "output_type": "execute_result"
    }
   ],
   "source": [
    "# create a dataframe with a single feature and the index as a time series and index of the dataframe:\n",
    "df = pd.DataFrame(y, index, columns=['height'])\n",
    "df.head()"
   ]
  },
  {
   "cell_type": "markdown",
   "metadata": {},
   "source": [
    "Simply plot:"
   ]
  },
  {
   "cell_type": "code",
   "execution_count": 43,
   "metadata": {},
   "outputs": [
    {
     "data": {
      "image/png": "[encoded data removed]",
      "text/plain": [
       "<Figure size 432x288 with 1 Axes>"
      ]
     },
     "metadata": {
      "needs_background": "light"
     },
     "output_type": "display_data"
    }
   ],
   "source": [
    "df.plot()\n",
    "plt.show()"
   ]
  },
  {
   "cell_type": "markdown",
   "metadata": {},
   "source": [
    "Notice the time ticks on x-axis"
   ]
  },
  {
   "cell_type": "markdown",
   "metadata": {},
   "source": [
    "**Rolling Window Functions**\n",
    "- Moving average\n",
    "\n",
    "Example using .rolling() method:"
   ]
  },
  {
   "cell_type": "code",
   "execution_count": 44,
   "metadata": {},
   "outputs": [
    {
     "data": {
      "image/png": "[encoded data removed]",
      "text/plain": [
       "<Figure size 432x288 with 1 Axes>"
      ]
     },
     "metadata": {
      "needs_background": "light"
     },
     "output_type": "display_data"
    },
    {
     "data": {
      "image/png": "[encoded data removed]",
      "text/plain": [
       "<Figure size 432x288 with 1 Axes>"
      ]
     },
     "metadata": {
      "needs_background": "light"
     },
     "output_type": "display_data"
    }
   ],
   "source": [
    "df.plot()\n",
    "df.rolling(10).mean().plot(color=\"r\")\n",
    "plt.show()"
   ]
  },
  {
   "cell_type": "markdown",
   "metadata": {},
   "source": [
    "Display the lines in one plot:"
   ]
  },
  {
   "cell_type": "code",
   "execution_count": 45,
   "metadata": {},
   "outputs": [
    {
     "data": {
      "image/png": "[encoded data removed]",
      "text/plain": [
       "<Figure size 900x600 with 1 Axes>"
      ]
     },
     "metadata": {
      "needs_background": "light"
     },
     "output_type": "display_data"
    }
   ],
   "source": [
    "plt.figure(dpi=150)\n",
    "plt.plot(index, df.rolling(10).mean(), color=\"red\", linestyle=\"--\")\n",
    "plt.plot(df, color=\"lightblue\")\n",
    "plt.xticks(rotation=45)\n",
    "plt.legend(['moving average', 'actual height'])\n",
    "plt.title('Heights and calculated moving average', color=\"blue\")\n",
    "plt.ylabel('Height', color=\"lightblue\")\n",
    "plt.xlabel('Time', color=\"blue\")\n",
    "plt.show()"
   ]
  },
  {
   "cell_type": "markdown",
   "metadata": {},
   "source": [
    "Note the special cases at rolling = 1 and rolling = 80\n",
    "\n",
    "Now let's loop through the size of the rolling window:"
   ]
  },
  {
   "cell_type": "code",
   "execution_count": 46,
   "metadata": {},
   "outputs": [
    {
     "data": {
      "image/png": "[encoded data removed]",
      "text/plain": [
       "<Figure size 900x600 with 1 Axes>"
      ]
     },
     "metadata": {
      "needs_background": "light"
     },
     "output_type": "display_data"
    }
   ],
   "source": [
    "plt.figure(dpi=150)\n",
    "plt.plot(df, color=\"lightblue\")\n",
    "for i in range(0,80,8):\n",
    "    plt.plot(index, df.rolling(i).mean(), linestyle=\"--\")\n",
    "    #time.sleep(0.1)\n",
    "\n",
    "plt.xticks(rotation=45)\n",
    "plt.legend(['actual height'])\n",
    "plt.title('Heights and calculated moving average', color=\"blue\")\n",
    "plt.ylabel('Height', color=\"lightblue\")\n",
    "plt.xlabel('Time', color=\"blue\")\n",
    "plt.show()\n"
   ]
  },
  {
   "cell_type": "markdown",
   "metadata": {},
   "source": [
    "#### Homework 17.1:\n",
    "\n",
    "Calculate remaining days and time until the next St. Patrick Day\n",
    "\n",
    "Display:\n",
    " - Current Date and Time\n",
    " - Next St. Patricks Day's date using Years, Month, Day and Weekday\n",
    " - Remaining time left in: Days, Hours, Minutes, Seconds and Microseconds\n",
    " \n",
    "Extra:\n",
    "- use a counter which refreshing in place at every second or minute"
   ]
  },
  {
   "cell_type": "code",
   "execution_count": null,
   "metadata": {},
   "outputs": [],
   "source": [
    "# Homework 17.1 code comes here:\n",
    "\n"
   ]
  },
  {
   "cell_type": "markdown",
   "metadata": {},
   "source": [
    "#### Homework 17.2:\n",
    "\n",
    "Create a time series dataframe describing the properties of a vertically thrown object from the ground\n",
    "The formula describing the object is:\n",
    "\\begin{equation}\n",
    "y = \\frac{1}{2}at^2 + v_0 t + y_0\n",
    "\\end{equation}\n",
    "where: y = height, a = acceleration due to gravity, v<sub>0</sub> = initial velocity, y<sub>0</sub> = initial height\n",
    "\n",
    "in our case: a = -20, v<sub>0</sub> = 100, y<sub>0</sub> = 0\n",
    "\n",
    "\\begin{equation}\n",
    "y = -\\frac{1}{2}20t^2 + 100t = 100t -10t^2\n",
    "\\end{equation}\n",
    "\n",
    "- Generate second long timestamps\n",
    "- Create a feature which will have values corresponding to the object's height in the i<sup>th</sup> second (index i<sup>th</sup> row)\n",
    "- plot the height in time\n",
    "\n",
    "Extra:\n",
    "- find the generic formula for thrown object\n",
    "- create all possible features (height, distance, speed, etc)\n",
    "- plot all the features in time"
   ]
  },
  {
   "cell_type": "code",
   "execution_count": null,
   "metadata": {},
   "outputs": [],
   "source": [
    "# Homework 17.2 code comes here:\n",
    "\n"
   ]
  }
 ],
 "metadata": {
  "kernelspec": {
   "display_name": "Python 3",
   "language": "python",
   "name": "python3"
  },
  "language_info": {
   "codemirror_mode": {
    "name": "ipython",
    "version": 3
   },
   "file_extension": ".py",
   "mimetype": "text/x-python",
   "name": "python",
   "nbconvert_exporter": "python",
   "pygments_lexer": "ipython3",
   "version": "3.8.3"
  }
 },
 "nbformat": 4,
 "nbformat_minor": 2
}
